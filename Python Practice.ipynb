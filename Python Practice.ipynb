{
 "cells": [
  {
   "cell_type": "markdown",
   "id": "e0c75216",
   "metadata": {},
   "source": [
    "# multiple input from multiple variable"
   ]
  },
  {
   "cell_type": "code",
   "execution_count": 1,
   "id": "cdd2214f",
   "metadata": {
    "collapsed": true
   },
   "outputs": [
    {
     "ename": "NameError",
     "evalue": "name 'st' is not defined",
     "output_type": "error",
     "traceback": [
      "\u001b[1;31m---------------------------------------------------------------------------\u001b[0m",
      "\u001b[1;31mNameError\u001b[0m                                 Traceback (most recent call last)",
      "Cell \u001b[1;32mIn[1], line 4\u001b[0m\n\u001b[0;32m      2\u001b[0m \u001b[38;5;28;01mif\u001b[39;00m (x\u001b[38;5;241m>\u001b[39my):\n\u001b[0;32m      3\u001b[0m     st\u001b[38;5;241m=\u001b[39m\u001b[38;5;124m\"\u001b[39m\u001b[38;5;124mx is less than y\u001b[39m\u001b[38;5;124m\"\u001b[39m\n\u001b[1;32m----> 4\u001b[0m \u001b[38;5;28mprint\u001b[39m(\u001b[43mst\u001b[49m)\n",
      "\u001b[1;31mNameError\u001b[0m: name 'st' is not defined"
     ]
    }
   ],
   "source": [
    "x,y = 5,9\n",
    "if (x>y):\n",
    "    st=\"x is less than y\"\n",
    "print(st)"
   ]
  },
  {
   "cell_type": "code",
   "execution_count": null,
   "id": "2a3560d8",
   "metadata": {},
   "outputs": [],
   "source": [
    "x,y = 8,8"
   ]
  },
  {
   "cell_type": "markdown",
   "id": "0ab20428",
   "metadata": {},
   "source": []
  },
  {
   "cell_type": "markdown",
   "id": "745ef301",
   "metadata": {},
   "source": [
    "# Leap Year program Using control statement"
   ]
  },
  {
   "cell_type": "code",
   "execution_count": 4,
   "id": "d54c9bf5",
   "metadata": {
    "scrolled": true
   },
   "outputs": [
    {
     "name": "stdout",
     "output_type": "stream",
     "text": [
      "Enter the year2200\n",
      "year is not leap year\n"
     ]
    }
   ],
   "source": [
    "#write a program to check whether a year is leap year or not\n",
    "\n",
    "yr = int(input(\"Enter the year\"))\n",
    "\n",
    "if yr%100 == 0:\n",
    "    if yr%400 == 0:\n",
    "        print(\"year is leap year\")\n",
    "    else:\n",
    "        print(\"year is not leap year\")\n",
    "    \n",
    "else:\n",
    "    if yr%4 == 0:\n",
    "        print(\"Year is leap year\")\n",
    "    else:\n",
    "        print(\"year is not leap year\")\n"
   ]
  },
  {
   "cell_type": "code",
   "execution_count": null,
   "id": "e0df590d",
   "metadata": {},
   "outputs": [],
   "source": [
    "yr = int(input(\"Enter the year\"))\n",
    "\n",
    "if yr%100 == 0:\n",
    "    if yr%400 == 0:\n",
    "        st=\"year is leap year\"\n",
    "    else:\n",
    "        st=\"year is not leap year\"\n",
    "    \n",
    "else:\n",
    "    if yr%4 == 0:\n",
    "        st=\"Year is leap year\"\n",
    "    else:\n",
    "        st=\"year is not leap year\"\n",
    "print(st)\n"
   ]
  },
  {
   "cell_type": "code",
   "execution_count": null,
   "id": "1389d103",
   "metadata": {
    "scrolled": false
   },
   "outputs": [],
   "source": [
    "a = 10\n",
    "b = 20\n",
    "if a>b:\n",
    "    print(\"A\")\n",
    "else: \n",
    "    print(\"B\")"
   ]
  },
  {
   "cell_type": "code",
   "execution_count": null,
   "id": "800290a8",
   "metadata": {},
   "outputs": [],
   "source": [
    "a = 10\n",
    "b = 20\n",
    "if a>b: print(\"A\")\n",
    "else: print(\"B\")"
   ]
  },
  {
   "cell_type": "code",
   "execution_count": null,
   "id": "bb6d3c68",
   "metadata": {},
   "outputs": [],
   "source": [
    "a, b = 10,20\n",
    "if a>b:print(\"A\")\n",
    "else: print(\"B\")"
   ]
  },
  {
   "cell_type": "code",
   "execution_count": null,
   "id": "48cc463e",
   "metadata": {},
   "outputs": [],
   "source": [
    "a, b = 10,20\n",
    "print(\"A\") if (a>b) else print(\"B\")"
   ]
  },
  {
   "cell_type": "code",
   "execution_count": null,
   "id": "95ba4103",
   "metadata": {},
   "outputs": [],
   "source": [
    "a = 10\n",
    "b = 20\n",
    "if a>b:\n",
    "    print(\"A\")\n",
    "else:\n",
    "    if (a == b):\n",
    "        print(\"=\")\n",
    "    else:\n",
    "        print(\"B\")"
   ]
  },
  {
   "cell_type": "code",
   "execution_count": null,
   "id": "1d5cec7e",
   "metadata": {},
   "outputs": [],
   "source": [
    "a, b = 10, 20\n",
    "\n",
    "print(\"A\") if (a>b) else print(\"=\") if (a == b) else print(\"B\")\n",
    "    \n"
   ]
  },
  {
   "cell_type": "markdown",
   "id": "e9bced49",
   "metadata": {},
   "source": [
    "# While loop"
   ]
  },
  {
   "cell_type": "code",
   "execution_count": 5,
   "id": "3c0df836",
   "metadata": {},
   "outputs": [
    {
     "name": "stdout",
     "output_type": "stream",
     "text": [
      "1 2 3 4 5 6 7 8 9 "
     ]
    }
   ],
   "source": [
    "maxNum = 10\n",
    "i = 1\n",
    "while i < maxNum:\n",
    "    print(i, end=' ')\n",
    "    i = i + 1"
   ]
  },
  {
   "cell_type": "code",
   "execution_count": 9,
   "id": "050c648d",
   "metadata": {},
   "outputs": [
    {
     "name": "stdout",
     "output_type": "stream",
     "text": [
      "10 9 8 7 6 5 4 3 2 1 "
     ]
    }
   ],
   "source": [
    "maxNum = 1\n",
    "i = 10\n",
    "while i >= maxNum:\n",
    "    print(i, end=' ')\n",
    "    i -= 1"
   ]
  },
  {
   "cell_type": "code",
   "execution_count": 10,
   "id": "6b789f51",
   "metadata": {},
   "outputs": [
    {
     "name": "stdout",
     "output_type": "stream",
     "text": [
      "1 3 5 7 9 \n",
      " now i value is greater than maxNum\n"
     ]
    }
   ],
   "source": [
    "maxNum = 10 # -->stop\n",
    "i = 1 # ---> start\n",
    "while i < maxNum:\n",
    "    print(i, end=' ')\n",
    "    i+=2\n",
    "else:\n",
    "    print(\"\\n now i value is greater than maxNum\")"
   ]
  },
  {
   "cell_type": "code",
   "execution_count": 15,
   "id": "4192dbd0",
   "metadata": {},
   "outputs": [
    {
     "data": {
      "text/plain": [
       "[0, 30, 60, 90]"
      ]
     },
     "execution_count": 15,
     "metadata": {},
     "output_type": "execute_result"
    }
   ],
   "source": [
    "i=0\n",
    "maxNum = 100\n",
    "list(range(i,maxNum,30))"
   ]
  },
  {
   "cell_type": "code",
   "execution_count": 16,
   "id": "78e5db5d",
   "metadata": {},
   "outputs": [
    {
     "name": "stdout",
     "output_type": "stream",
     "text": [
      "1 2 3 4 5 6 7 8 9 "
     ]
    }
   ],
   "source": [
    "maxNum = 10\n",
    "i = 1\n",
    "for i in range(i,maxNum):\n",
    "    print(i, end=' ')"
   ]
  },
  {
   "cell_type": "code",
   "execution_count": 17,
   "id": "46e644e4",
   "metadata": {},
   "outputs": [
    {
     "name": "stdout",
     "output_type": "stream",
     "text": [
      "i like mango\n",
      "i like apple\n",
      "i like banana\n"
     ]
    }
   ],
   "source": [
    "fruits = [\"mango\",\"apple\",\"banana\"]\n",
    "for i in fruits:\n",
    "    print(\"i like\",i)"
   ]
  },
  {
   "cell_type": "code",
   "execution_count": 18,
   "id": "bef32d61",
   "metadata": {},
   "outputs": [
    {
     "name": "stdout",
     "output_type": "stream",
     "text": [
      "i like  mango\n",
      "i like  apple\n",
      "i don't like banana\n"
     ]
    }
   ],
   "source": [
    "fruits = [\"mango\",\"apple\",\"banana\"]\n",
    "for i in fruits:\n",
    "    if i == \"banana\":\n",
    "        print(\"i don't like\",i)\n",
    "    else:\n",
    "        print(\"i like \",i)"
   ]
  },
  {
   "cell_type": "code",
   "execution_count": 19,
   "id": "5b58de3d",
   "metadata": {},
   "outputs": [
    {
     "name": "stdout",
     "output_type": "stream",
     "text": [
      "b\n",
      "a\n",
      "n\n",
      "a\n",
      "n\n",
      "a\n"
     ]
    }
   ],
   "source": [
    "for i in \"banana\":\n",
    "    print(i)"
   ]
  },
  {
   "cell_type": "code",
   "execution_count": 20,
   "id": "57437cc9",
   "metadata": {},
   "outputs": [
    {
     "name": "stdout",
     "output_type": "stream",
     "text": [
      "6\n"
     ]
    }
   ],
   "source": [
    "c = 0\n",
    "for i in \"banana\":\n",
    "    c+=1\n",
    "print(c)"
   ]
  },
  {
   "cell_type": "code",
   "execution_count": 21,
   "id": "8dee91c4",
   "metadata": {},
   "outputs": [
    {
     "name": "stdout",
     "output_type": "stream",
     "text": [
      "5 7\n"
     ]
    }
   ],
   "source": [
    "s=len(\"suraj\")\n",
    "m=len(\"mangesh\")\n",
    "print(s,m)"
   ]
  },
  {
   "cell_type": "markdown",
   "id": "55a0b8b8",
   "metadata": {},
   "source": [
    "# Using Break"
   ]
  },
  {
   "cell_type": "code",
   "execution_count": 22,
   "id": "c6aa8e74",
   "metadata": {},
   "outputs": [
    {
     "name": "stdout",
     "output_type": "stream",
     "text": [
      "i like  mango\n",
      "i like  apple\n"
     ]
    }
   ],
   "source": [
    "fruits = [\"mango\",\"apple\",\"banana\",\"orange\"]\n",
    "for i in fruits:\n",
    "    if i == \"banana\":\n",
    "        break\n",
    "    else:\n",
    "        print(\"i like \",i)"
   ]
  },
  {
   "cell_type": "markdown",
   "id": "adb1e16a",
   "metadata": {},
   "source": [
    "# Using continue"
   ]
  },
  {
   "cell_type": "code",
   "execution_count": 23,
   "id": "872feda1",
   "metadata": {},
   "outputs": [
    {
     "name": "stdout",
     "output_type": "stream",
     "text": [
      "i like  mango\n",
      "i like  apple\n",
      "i like  orange\n"
     ]
    }
   ],
   "source": [
    "fruits = [\"mango\",\"apple\",\"banana\",\"orange\"]\n",
    "for i in fruits:\n",
    "    if i == \"banana\":\n",
    "        continue\n",
    "    else:\n",
    "        print(\"i like \",i)"
   ]
  },
  {
   "cell_type": "code",
   "execution_count": null,
   "id": "213deac6",
   "metadata": {},
   "outputs": [],
   "source": [
    "maxNum = 10 # -->stop\n",
    "i = 1 # ---> start\n",
    "while i < maxNum:\n",
    "    print(i, end=' ')\n",
    "    if i % 2 : break\n",
    "    i+=2\n",
    "else:\n",
    "    print(\"\\n now i value is greater than maxNum\")"
   ]
  },
  {
   "cell_type": "markdown",
   "id": "f030c6ab",
   "metadata": {},
   "source": [
    "maxNum = 10 # -->stop\n",
    "i = 1 # ---> start\n",
    "while i < maxNum:\n",
    "    print(i, end=' ')\n",
    "    i+=1\n",
    "    if i % 2 : continue\n",
    "    \n",
    "else:\n",
    "    print(\"\\n now i value is greater than maxNum\")"
   ]
  },
  {
   "cell_type": "code",
   "execution_count": 31,
   "id": "9555468d",
   "metadata": {
    "scrolled": true
   },
   "outputs": [
    {
     "name": "stdout",
     "output_type": "stream",
     "text": [
      "{'green': 'mango', 'red': 'apple', 'yellow': 'banana', 'orange': 'orange'}\n"
     ]
    }
   ],
   "source": [
    "# nested loop\n",
    "# using two creating dictionary without using zip function\n",
    "colour = [\"green\",\"red\",\"yellow\",\"orange\"]\n",
    "fruits = [\"mango\",\"apple\",\"banana\",\"orange\"]\n",
    "dict1={}\n",
    "for i in range(len(colour)):\n",
    "    dict1[colour[i]]=fruits[i]\n",
    "print(dict1)"
   ]
  },
  {
   "cell_type": "code",
   "execution_count": 32,
   "id": "18ad90e9",
   "metadata": {
    "scrolled": true
   },
   "outputs": [
    {
     "name": "stdout",
     "output_type": "stream",
     "text": [
      "red mango\n",
      "red apple\n",
      "red banana\n",
      "red orange\n",
      "green mango\n",
      "green apple\n",
      "green banana\n",
      "green orange\n",
      "orenge mango\n",
      "orenge apple\n",
      "orenge banana\n",
      "orenge orange\n"
     ]
    }
   ],
   "source": [
    "colour = [\"red\",\"green\",\"orenge\"]\n",
    "fruits = [\"mango\",\"apple\",\"banana\",\"orange\"]\n",
    "for c in colour:\n",
    "    for f in fruits:\n",
    "        if c == f : continue\n",
    "        print(c,f)"
   ]
  },
  {
   "cell_type": "markdown",
   "id": "66ef7212",
   "metadata": {},
   "source": [
    "# Nested For Loop Mearge"
   ]
  },
  {
   "cell_type": "code",
   "execution_count": 33,
   "id": "17f74bb0",
   "metadata": {
    "scrolled": true
   },
   "outputs": [
    {
     "name": "stdout",
     "output_type": "stream",
     "text": [
      "[('red', 'mango'), ('red', 'apple'), ('red', 'banana'), ('red', 'orange'), ('green', 'mango'), ('green', 'apple'), ('green', 'banana'), ('green', 'orange'), ('orenge', 'mango'), ('orenge', 'apple'), ('orenge', 'banana'), ('orenge', 'orange')]\n"
     ]
    }
   ],
   "source": [
    "colour = [\"red\",\"green\",\"orenge\"]\n",
    "fruits = [\"mango\",\"apple\",\"banana\",\"orange\"]\n",
    "\n",
    "z=[(c,f) for c in colour for f in fruits]\n",
    "print(z)\n",
    "        "
   ]
  },
  {
   "cell_type": "markdown",
   "id": "401ec151",
   "metadata": {},
   "source": [
    "# Random Libarary"
   ]
  },
  {
   "cell_type": "code",
   "execution_count": 34,
   "id": "7c4d7699",
   "metadata": {},
   "outputs": [
    {
     "data": {
      "text/plain": [
       "0.8456417560077127"
      ]
     },
     "execution_count": 34,
     "metadata": {},
     "output_type": "execute_result"
    }
   ],
   "source": [
    "import random\n",
    "random.random()"
   ]
  },
  {
   "cell_type": "code",
   "execution_count": 35,
   "id": "167ac4e0",
   "metadata": {},
   "outputs": [
    {
     "data": {
      "text/plain": [
       "18"
      ]
     },
     "execution_count": 35,
     "metadata": {},
     "output_type": "execute_result"
    }
   ],
   "source": [
    "n = 20\n",
    "int(n*random.random())+ 1"
   ]
  },
  {
   "cell_type": "code",
   "execution_count": 36,
   "id": "ab81f864",
   "metadata": {},
   "outputs": [
    {
     "data": {
      "text/plain": [
       "4"
      ]
     },
     "execution_count": 36,
     "metadata": {},
     "output_type": "execute_result"
    }
   ],
   "source": [
    "random.choice([1,2,3,4,5])"
   ]
  },
  {
   "cell_type": "code",
   "execution_count": 37,
   "id": "ba3e036b",
   "metadata": {},
   "outputs": [],
   "source": [
    "NL=list(range(20))"
   ]
  },
  {
   "cell_type": "code",
   "execution_count": 38,
   "id": "3dfc18eb",
   "metadata": {},
   "outputs": [
    {
     "data": {
      "text/plain": [
       "[0, 1, 2, 3, 4, 5, 6, 7, 8, 9, 10, 11, 12, 13, 14, 15, 16, 17, 18, 19]"
      ]
     },
     "execution_count": 38,
     "metadata": {},
     "output_type": "execute_result"
    }
   ],
   "source": [
    "NL"
   ]
  },
  {
   "cell_type": "code",
   "execution_count": 39,
   "id": "e86cc2d3",
   "metadata": {},
   "outputs": [
    {
     "data": {
      "text/plain": [
       "13"
      ]
     },
     "execution_count": 39,
     "metadata": {},
     "output_type": "execute_result"
    }
   ],
   "source": [
    "random.choice(NL)"
   ]
  },
  {
   "cell_type": "markdown",
   "id": "2e22fdfd",
   "metadata": {},
   "source": [
    "# Python Lecture Date:- 09.11.2022  4 to 6 pm"
   ]
  },
  {
   "cell_type": "code",
   "execution_count": 40,
   "id": "2c6c03c3",
   "metadata": {},
   "outputs": [],
   "source": [
    "Var = 'I am Student of DBDA'"
   ]
  },
  {
   "cell_type": "code",
   "execution_count": 41,
   "id": "8380ac10",
   "metadata": {},
   "outputs": [],
   "source": [
    "Var2 = \"I am Student of DBDA\""
   ]
  },
  {
   "cell_type": "code",
   "execution_count": 42,
   "id": "236e5203",
   "metadata": {},
   "outputs": [
    {
     "data": {
      "text/plain": [
       "'I am Student of DBDA'"
      ]
     },
     "execution_count": 42,
     "metadata": {},
     "output_type": "execute_result"
    }
   ],
   "source": [
    "Var"
   ]
  },
  {
   "cell_type": "code",
   "execution_count": 43,
   "id": "4279c338",
   "metadata": {},
   "outputs": [
    {
     "data": {
      "text/plain": [
       "'I am Student of DBDA'"
      ]
     },
     "execution_count": 43,
     "metadata": {},
     "output_type": "execute_result"
    }
   ],
   "source": [
    "Var2"
   ]
  },
  {
   "cell_type": "code",
   "execution_count": 44,
   "id": "d14aea75",
   "metadata": {},
   "outputs": [],
   "source": [
    "Var3 = \"I am a DBDA's Student\""
   ]
  },
  {
   "cell_type": "code",
   "execution_count": 46,
   "id": "20f0ed23",
   "metadata": {},
   "outputs": [],
   "source": [
    "Var4 = 'a am Suraj'"
   ]
  },
  {
   "cell_type": "code",
   "execution_count": null,
   "id": "fefab745",
   "metadata": {},
   "outputs": [],
   "source": [
    "var = 'i am DBDA\\'s Student'"
   ]
  },
  {
   "cell_type": "code",
   "execution_count": null,
   "id": "7fa3bb29",
   "metadata": {},
   "outputs": [],
   "source": [
    "var"
   ]
  },
  {
   "cell_type": "code",
   "execution_count": 47,
   "id": "1b03ef2e",
   "metadata": {},
   "outputs": [
    {
     "data": {
      "text/plain": [
       "'He said, \"Asim is a Good boy\" '"
      ]
     },
     "execution_count": 47,
     "metadata": {},
     "output_type": "execute_result"
    }
   ],
   "source": [
    "var4 = \"He said, \\\"Asim is a Good boy\\\" \"\n",
    "var4"
   ]
  },
  {
   "cell_type": "code",
   "execution_count": null,
   "id": "94e15a2d",
   "metadata": {},
   "outputs": [],
   "source": [
    "var4 = 'he said, \"Asim is good boy\"'\n",
    "var4"
   ]
  },
  {
   "cell_type": "code",
   "execution_count": null,
   "id": "1fc27008",
   "metadata": {},
   "outputs": [],
   "source": [
    "var5 = '''Mage said that the RTI documents show that Riteish and Genelia own 50% each in the company, which has a capital of Rs 7.5 crore. It paid a sum of over Rs 15 crore as premium for getting the land from MIDC. The documents also show that the company also obtained Rs 120 crore in loan from two different cooperative banks, including Latur DCC bank, which is headed by Riteish’s brother \n",
    "and Latur rural MLA Dheeraj.'''"
   ]
  },
  {
   "cell_type": "code",
   "execution_count": null,
   "id": "e732ff9c",
   "metadata": {},
   "outputs": [],
   "source": [
    "var5"
   ]
  },
  {
   "cell_type": "code",
   "execution_count": 50,
   "id": "ec2722f2",
   "metadata": {},
   "outputs": [],
   "source": [
    "var6 = \"Python\""
   ]
  },
  {
   "cell_type": "code",
   "execution_count": 51,
   "id": "8378191d",
   "metadata": {},
   "outputs": [
    {
     "data": {
      "text/plain": [
       "'n'"
      ]
     },
     "execution_count": 51,
     "metadata": {},
     "output_type": "execute_result"
    }
   ],
   "source": [
    "var6[1]\n",
    "var6[3]\n",
    "var6[5]"
   ]
  },
  {
   "cell_type": "code",
   "execution_count": 60,
   "id": "ae908928",
   "metadata": {},
   "outputs": [
    {
     "name": "stdout",
     "output_type": "stream",
     "text": [
      "n\n",
      "o\n",
      "h\n",
      "t\n",
      "y\n",
      "P\n"
     ]
    }
   ],
   "source": [
    "\n",
    "for i in range(-1,-7,-1):\n",
    "    print(var6[i])\n",
    "    "
   ]
  },
  {
   "cell_type": "code",
   "execution_count": 61,
   "id": "51f50374",
   "metadata": {},
   "outputs": [
    {
     "data": {
      "text/plain": [
       "6"
      ]
     },
     "execution_count": 61,
     "metadata": {},
     "output_type": "execute_result"
    }
   ],
   "source": [
    "len(var6)"
   ]
  },
  {
   "cell_type": "code",
   "execution_count": 62,
   "id": "5a4cb9ac",
   "metadata": {
    "scrolled": true
   },
   "outputs": [
    {
     "name": "stdout",
     "output_type": "stream",
     "text": [
      "P\n",
      "y\n",
      "t\n",
      "h\n",
      "o\n",
      "n\n"
     ]
    }
   ],
   "source": [
    "i=0\n",
    "while(i<len(var6)):\n",
    "    print(var6[i])\n",
    "    i+=1"
   ]
  },
  {
   "cell_type": "code",
   "execution_count": 63,
   "id": "0d3ccae8",
   "metadata": {
    "scrolled": true
   },
   "outputs": [
    {
     "name": "stdout",
     "output_type": "stream",
     "text": [
      "n\n",
      "o\n",
      "h\n",
      "t\n",
      "y\n",
      "P\n"
     ]
    }
   ],
   "source": [
    "print(var6[-1])\n",
    "print(var6[-2])\n",
    "print(var6[-3])\n",
    "print(var6[-4])\n",
    "print(var6[-5])\n",
    "print(var6[-6])"
   ]
  },
  {
   "cell_type": "code",
   "execution_count": null,
   "id": "db57922c",
   "metadata": {},
   "outputs": [],
   "source": [
    "var6 = \"python\"\n",
    "var6"
   ]
  },
  {
   "cell_type": "code",
   "execution_count": null,
   "id": "22f2fcb2",
   "metadata": {
    "scrolled": true
   },
   "outputs": [],
   "source": [
    "i=-1\n",
    "while(i >- len(var6) -1):\n",
    "    print(var6[i])\n",
    "    i=i-1"
   ]
  },
  {
   "cell_type": "code",
   "execution_count": null,
   "id": "2b73ba27",
   "metadata": {},
   "outputs": [],
   "source": [
    "var6=\"!!!PYTHON!!!\"\n",
    "i=-len(var6)\n",
    "while(i<0):\n",
    "    print(var6[i])\n",
    "    i += 1"
   ]
  },
  {
   "cell_type": "markdown",
   "id": "169f939f",
   "metadata": {},
   "source": [
    "# String\n",
    " #### >> Python String Is Immutable\n",
    " #### >> Does not modify it using its index"
   ]
  },
  {
   "cell_type": "markdown",
   "id": "bff8957a",
   "metadata": {},
   "source": [
    "\n",
    "var6 = \"PYTHON\"\n",
    "print(var6)\n",
    "var6"
   ]
  },
  {
   "cell_type": "code",
   "execution_count": null,
   "id": "fc1da190",
   "metadata": {
    "scrolled": true
   },
   "outputs": [],
   "source": [
    "var6[5]='m'"
   ]
  },
  {
   "cell_type": "markdown",
   "id": "855509ff",
   "metadata": {},
   "source": [
    "# Slicing Operation In String"
   ]
  },
  {
   "cell_type": "code",
   "execution_count": null,
   "id": "11a14c00",
   "metadata": {
    "scrolled": true
   },
   "outputs": [],
   "source": [
    "# strat :End :Step\n",
    "#  2    6   1\n",
    "#  [1:5:1])\n",
    "name = \"SURAJ\"\n",
    "print(name[1:5:1])\n",
    "print(name[1:5:3])"
   ]
  },
  {
   "cell_type": "code",
   "execution_count": null,
   "id": "74230807",
   "metadata": {},
   "outputs": [],
   "source": [
    "var10 = \"PYTHON\"\n",
    "var10"
   ]
  },
  {
   "cell_type": "code",
   "execution_count": null,
   "id": "492fcb02",
   "metadata": {},
   "outputs": [],
   "source": [
    "var10[0:6:3]"
   ]
  },
  {
   "cell_type": "code",
   "execution_count": null,
   "id": "6fad1142",
   "metadata": {},
   "outputs": [],
   "source": [
    "var10[::2]"
   ]
  },
  {
   "cell_type": "code",
   "execution_count": null,
   "id": "a9a89cf7",
   "metadata": {
    "scrolled": true
   },
   "outputs": [],
   "source": [
    "var10[-6:-1:3]"
   ]
  },
  {
   "cell_type": "code",
   "execution_count": null,
   "id": "ba3a9929",
   "metadata": {},
   "outputs": [],
   "source": [
    "var10[-1::-1]"
   ]
  },
  {
   "cell_type": "code",
   "execution_count": null,
   "id": "15479934",
   "metadata": {
    "scrolled": true
   },
   "outputs": [],
   "source": [
    "for i in var10:\n",
    "    print(i)"
   ]
  },
  {
   "cell_type": "code",
   "execution_count": null,
   "id": "ef93c23b",
   "metadata": {
    "scrolled": true
   },
   "outputs": [],
   "source": [
    "#check the string is palindrome or not\n",
    "v1= \"noon\"\n",
    "v2 = \"\"\n",
    "i=len(v1)-1\n",
    "while(i>=0):\n",
    "    v2 += v1[i]\n",
    "    i -= 1\n",
    "print(v2)\n",
    "if v1 == v2:\n",
    "    print(v1,\"is palindrome\")\n",
    "else:\n",
    "    print(v1,\"is not palindrome\")"
   ]
  },
  {
   "cell_type": "code",
   "execution_count": null,
   "id": "cf71ec80",
   "metadata": {},
   "outputs": [],
   "source": [
    "var10 = \"madam\""
   ]
  },
  {
   "cell_type": "code",
   "execution_count": null,
   "id": "fec81eac",
   "metadata": {},
   "outputs": [],
   "source": [
    "var10[::-1]"
   ]
  },
  {
   "cell_type": "code",
   "execution_count": null,
   "id": "d21b0473",
   "metadata": {},
   "outputs": [],
   "source": [
    "if var10[::-1] == var10: print(\"Palindrome\")"
   ]
  },
  {
   "cell_type": "code",
   "execution_count": null,
   "id": "fdcb6184",
   "metadata": {},
   "outputs": [],
   "source": [
    "Var2 = \"suraj\"\n",
    "Var3 = \"Kawathale\""
   ]
  },
  {
   "cell_type": "code",
   "execution_count": null,
   "id": "6c3cd4c0",
   "metadata": {
    "scrolled": true
   },
   "outputs": [],
   "source": [
    "Var2 + \" \" + Var3"
   ]
  },
  {
   "cell_type": "code",
   "execution_count": null,
   "id": "2c710a73",
   "metadata": {
    "scrolled": true
   },
   "outputs": [],
   "source": [
    "var6 = \"Python\"\n",
    "var6[6]"
   ]
  },
  {
   "cell_type": "code",
   "execution_count": null,
   "id": "6f6153c6",
   "metadata": {
    "scrolled": true
   },
   "outputs": [],
   "source": [
    "var6[8:10]"
   ]
  },
  {
   "cell_type": "code",
   "execution_count": null,
   "id": "092fdfa5",
   "metadata": {},
   "outputs": [],
   "source": [
    "#\\n \\t \\a \\b \\r \\\\\n",
    "\n",
    "print(\"CDAC\\u new\")"
   ]
  },
  {
   "cell_type": "code",
   "execution_count": null,
   "id": "c542b0e1",
   "metadata": {},
   "outputs": [],
   "source": [
    "path=r\":\\user\\home\\myfolder\""
   ]
  },
  {
   "cell_type": "code",
   "execution_count": null,
   "id": "1010230b",
   "metadata": {},
   "outputs": [],
   "source": [
    "path"
   ]
  },
  {
   "cell_type": "code",
   "execution_count": null,
   "id": "849e8182",
   "metadata": {},
   "outputs": [],
   "source": [
    "ord('a') #ASCII VALUE OF a"
   ]
  },
  {
   "cell_type": "code",
   "execution_count": null,
   "id": "77a82ed9",
   "metadata": {},
   "outputs": [],
   "source": [
    "chr(65) #reverse"
   ]
  },
  {
   "cell_type": "code",
   "execution_count": null,
   "id": "2178a6e1",
   "metadata": {},
   "outputs": [],
   "source": [
    "chr(ord('a')-32)"
   ]
  },
  {
   "cell_type": "code",
   "execution_count": null,
   "id": "111a42ea",
   "metadata": {},
   "outputs": [],
   "source": [
    "var = 'abcd'"
   ]
  },
  {
   "cell_type": "code",
   "execution_count": null,
   "id": "09227e25",
   "metadata": {
    "scrolled": true
   },
   "outputs": [],
   "source": [
    "#using ASCII value convert the lower case string to uppercase\n",
    "ns = \"\"\n",
    "for c in var:\n",
    "    ns+=chr(ord(c)-32)\n",
    "print(ns)"
   ]
  },
  {
   "cell_type": "code",
   "execution_count": null,
   "id": "cfb9a7ae",
   "metadata": {
    "scrolled": true
   },
   "outputs": [],
   "source": [
    "#converting upper case to lowercase\n",
    "var1 = \"SURAJ\"\n",
    "ns1 = \"\"\n",
    "for l in var1:\n",
    "    ns1+=chr(ord(l)+32)\n",
    "print(ns1)"
   ]
  },
  {
   "cell_type": "code",
   "execution_count": null,
   "id": "b4facdb6",
   "metadata": {},
   "outputs": [],
   "source": [
    "chr(0x915)+chr(0x932)"
   ]
  },
  {
   "cell_type": "code",
   "execution_count": null,
   "id": "343872e1",
   "metadata": {},
   "outputs": [],
   "source": [
    "ord(chr(0x915))"
   ]
  },
  {
   "cell_type": "code",
   "execution_count": null,
   "id": "c3602d24",
   "metadata": {},
   "outputs": [],
   "source": [
    "chr(2325)"
   ]
  },
  {
   "cell_type": "code",
   "execution_count": null,
   "id": "ac1ab512",
   "metadata": {},
   "outputs": [],
   "source": [
    "ord('0')"
   ]
  },
  {
   "cell_type": "code",
   "execution_count": null,
   "id": "5a92b5ed",
   "metadata": {
    "scrolled": true
   },
   "outputs": [],
   "source": [
    "chr(48)"
   ]
  },
  {
   "cell_type": "code",
   "execution_count": null,
   "id": "9b5c88cd",
   "metadata": {},
   "outputs": [],
   "source": [
    "var10 = \"PYTHON\"\n",
    "var10"
   ]
  },
  {
   "cell_type": "code",
   "execution_count": null,
   "id": "e41efb58",
   "metadata": {},
   "outputs": [],
   "source": [
    "var10.lower()"
   ]
  },
  {
   "cell_type": "code",
   "execution_count": 1,
   "id": "abdcdc4e",
   "metadata": {},
   "outputs": [
    {
     "data": {
      "text/plain": [
       "'SURAJ'"
      ]
     },
     "execution_count": 1,
     "metadata": {},
     "output_type": "execute_result"
    }
   ],
   "source": [
    "var11 = 'suraj'\n",
    "var11.upper()"
   ]
  },
  {
   "cell_type": "code",
   "execution_count": 2,
   "id": "2db9eeaf",
   "metadata": {},
   "outputs": [
    {
     "name": "stdout",
     "output_type": "stream",
     "text": [
      "आमार नाम राम\n"
     ]
    }
   ],
   "source": [
    "st= \"আমার নাম রাম\"\n",
    "hn=\"\"\n",
    "for i in st:\n",
    "    if i == \" \": hn += \" \"\n",
    "    else: hn+=chr(ord(i) - 128)\n",
    "print(hn)"
   ]
  },
  {
   "cell_type": "code",
   "execution_count": 3,
   "id": "5823560d",
   "metadata": {},
   "outputs": [
    {
     "data": {
      "text/plain": [
       "'Suraj'"
      ]
     },
     "execution_count": 3,
     "metadata": {},
     "output_type": "execute_result"
    }
   ],
   "source": [
    "var11.capitalize()"
   ]
  },
  {
   "cell_type": "code",
   "execution_count": 4,
   "id": "0b550f43",
   "metadata": {},
   "outputs": [
    {
     "data": {
      "text/plain": [
       "'suraj'"
      ]
     },
     "execution_count": 4,
     "metadata": {},
     "output_type": "execute_result"
    }
   ],
   "source": [
    "var11.casefold()"
   ]
  },
  {
   "cell_type": "code",
   "execution_count": 5,
   "id": "edf73e49",
   "metadata": {},
   "outputs": [
    {
     "data": {
      "text/plain": [
       "'suraj'"
      ]
     },
     "execution_count": 5,
     "metadata": {},
     "output_type": "execute_result"
    }
   ],
   "source": [
    "\"SURAJ\".casefold()"
   ]
  },
  {
   "cell_type": "code",
   "execution_count": 6,
   "id": "93fbe903",
   "metadata": {
    "scrolled": true
   },
   "outputs": [
    {
     "data": {
      "text/plain": [
       "1"
      ]
     },
     "execution_count": 6,
     "metadata": {},
     "output_type": "execute_result"
    }
   ],
   "source": [
    "var11.find('r')\n",
    "var11.index('u')"
   ]
  },
  {
   "cell_type": "code",
   "execution_count": 7,
   "id": "d3e8649f",
   "metadata": {},
   "outputs": [
    {
     "data": {
      "text/plain": [
       "False"
      ]
     },
     "execution_count": 7,
     "metadata": {},
     "output_type": "execute_result"
    }
   ],
   "source": [
    "#  ***IMPORTANT*** \n",
    "var11.islower()\n",
    "var11.isupper()"
   ]
  },
  {
   "cell_type": "code",
   "execution_count": null,
   "id": "2269a612",
   "metadata": {},
   "outputs": [],
   "source": [
    "#this is nice to check and convert\n",
    "\n",
    "INP = input()\n",
    "if INP.islower():\n",
    "    print(INP.upper())\n",
    "elif INP.isupper():\n",
    "    print(INP.lower())"
   ]
  },
  {
   "cell_type": "code",
   "execution_count": 69,
   "id": "44b56197",
   "metadata": {},
   "outputs": [
    {
     "data": {
      "text/plain": [
       "'python'"
      ]
     },
     "execution_count": 69,
     "metadata": {},
     "output_type": "execute_result"
    }
   ],
   "source": [
    "var12 = \"         python      \"\n",
    "var12.strip()"
   ]
  },
  {
   "cell_type": "code",
   "execution_count": 70,
   "id": "4937f10d",
   "metadata": {},
   "outputs": [],
   "source": [
    "var13 = \"Python\""
   ]
  },
  {
   "cell_type": "code",
   "execution_count": 71,
   "id": "3fa4553a",
   "metadata": {},
   "outputs": [
    {
     "data": {
      "text/plain": [
       "False"
      ]
     },
     "execution_count": 71,
     "metadata": {},
     "output_type": "execute_result"
    }
   ],
   "source": [
    "var12 == var13"
   ]
  },
  {
   "cell_type": "code",
   "execution_count": 74,
   "id": "1a9b8044",
   "metadata": {},
   "outputs": [
    {
     "data": {
      "text/plain": [
       "True"
      ]
     },
     "execution_count": 74,
     "metadata": {},
     "output_type": "execute_result"
    }
   ],
   "source": [
    "var12.strip() == var13.strip().lower()"
   ]
  },
  {
   "cell_type": "code",
   "execution_count": 75,
   "id": "78e84e82",
   "metadata": {},
   "outputs": [
    {
     "data": {
      "text/plain": [
       "True"
      ]
     },
     "execution_count": 75,
     "metadata": {},
     "output_type": "execute_result"
    }
   ],
   "source": [
    "var12.strip() == var13.strip().lower()"
   ]
  },
  {
   "cell_type": "code",
   "execution_count": 76,
   "id": "2842164d",
   "metadata": {},
   "outputs": [],
   "source": [
    "#for checking details about function\n",
    "var11.swapcase?\n"
   ]
  },
  {
   "cell_type": "code",
   "execution_count": 78,
   "id": "f5d2ae53",
   "metadata": {},
   "outputs": [],
   "source": [
    "Var1 = \"I am Student Of CDAC\""
   ]
  },
  {
   "cell_type": "code",
   "execution_count": 79,
   "id": "3583147e",
   "metadata": {},
   "outputs": [
    {
     "data": {
      "text/plain": [
       "['I', 'am', 'Student', 'Of', 'CDAC']"
      ]
     },
     "execution_count": 79,
     "metadata": {},
     "output_type": "execute_result"
    }
   ],
   "source": [
    "Var1.split()"
   ]
  },
  {
   "cell_type": "code",
   "execution_count": 82,
   "id": "4c97e815",
   "metadata": {},
   "outputs": [],
   "source": [
    "var2 = 'I,am,a , Student ,of ,CDAC'"
   ]
  },
  {
   "cell_type": "code",
   "execution_count": 83,
   "id": "2b70ce0c",
   "metadata": {},
   "outputs": [
    {
     "data": {
      "text/plain": [
       "'I,am,a , Student ,of ,CDAC'"
      ]
     },
     "execution_count": 83,
     "metadata": {},
     "output_type": "execute_result"
    }
   ],
   "source": [
    "var2"
   ]
  },
  {
   "cell_type": "code",
   "execution_count": 84,
   "id": "5066e6e3",
   "metadata": {},
   "outputs": [
    {
     "data": {
      "text/plain": [
       "['I', 'am', 'a ', ' Student ', 'of ', 'CDAC']"
      ]
     },
     "execution_count": 84,
     "metadata": {},
     "output_type": "execute_result"
    }
   ],
   "source": [
    "Var3=var2.split(\",\")\n",
    "Var3"
   ]
  },
  {
   "cell_type": "code",
   "execution_count": 85,
   "id": "2a88effa",
   "metadata": {},
   "outputs": [
    {
     "data": {
      "text/plain": [
       "'&-&&-&&-&&-&&-&&-&&-&&-&&-&&-&&-&&-&&-&&-&&-&&-&&-&&-&&-&&-&&-&&-&&-&&-&&-&'"
      ]
     },
     "execution_count": 85,
     "metadata": {},
     "output_type": "execute_result"
    }
   ],
   "source": [
    "\"&-&\"*25"
   ]
  },
  {
   "cell_type": "code",
   "execution_count": 86,
   "id": "f5332cef",
   "metadata": {},
   "outputs": [
    {
     "data": {
      "text/plain": [
       "'hihihihihihihihihihi'"
      ]
     },
     "execution_count": 86,
     "metadata": {},
     "output_type": "execute_result"
    }
   ],
   "source": [
    "\"hi\"*10"
   ]
  },
  {
   "cell_type": "code",
   "execution_count": 87,
   "id": "ab1bb921",
   "metadata": {},
   "outputs": [],
   "source": [
    "var = 'CDAC'"
   ]
  },
  {
   "cell_type": "code",
   "execution_count": null,
   "id": "f0044c19",
   "metadata": {},
   "outputs": [],
   "source": [
    "var[0]"
   ]
  },
  {
   "cell_type": "code",
   "execution_count": null,
   "id": "bf0a3a92",
   "metadata": {},
   "outputs": [],
   "source": [
    "var[-1]"
   ]
  },
  {
   "cell_type": "code",
   "execution_count": 88,
   "id": "fc2afb03",
   "metadata": {},
   "outputs": [
    {
     "data": {
      "text/plain": [
       "'CADC'"
      ]
     },
     "execution_count": 88,
     "metadata": {},
     "output_type": "execute_result"
    }
   ],
   "source": [
    "var[-1::-1]"
   ]
  },
  {
   "cell_type": "markdown",
   "id": "ac4ca131",
   "metadata": {},
   "source": [
    "# List = sequencial data\n",
    "### it denotes list = [values]\n",
    "### its Mutable"
   ]
  },
  {
   "cell_type": "code",
   "execution_count": null,
   "id": "47f05925",
   "metadata": {},
   "outputs": [],
   "source": [
    "l = []"
   ]
  },
  {
   "cell_type": "code",
   "execution_count": null,
   "id": "4a7d665a",
   "metadata": {
    "scrolled": true
   },
   "outputs": [],
   "source": [
    "l"
   ]
  },
  {
   "cell_type": "code",
   "execution_count": null,
   "id": "5b7011ab",
   "metadata": {},
   "outputs": [],
   "source": [
    "type(l)"
   ]
  },
  {
   "cell_type": "code",
   "execution_count": null,
   "id": "b278367e",
   "metadata": {},
   "outputs": [],
   "source": [
    "l1 = \" \""
   ]
  },
  {
   "cell_type": "code",
   "execution_count": null,
   "id": "63f57227",
   "metadata": {},
   "outputs": [],
   "source": [
    "type(l1)"
   ]
  },
  {
   "cell_type": "code",
   "execution_count": null,
   "id": "3988acea",
   "metadata": {},
   "outputs": [],
   "source": [
    "l = [1,2,3,4]\n",
    "l"
   ]
  },
  {
   "cell_type": "code",
   "execution_count": null,
   "id": "c9422004",
   "metadata": {},
   "outputs": [],
   "source": [
    "len(l)"
   ]
  },
  {
   "cell_type": "code",
   "execution_count": null,
   "id": "cdfd3543",
   "metadata": {},
   "outputs": [],
   "source": [
    "l = [\"Aksay\",\"Anshuman\",\"Milind\",\"Jitendra\"]"
   ]
  },
  {
   "cell_type": "code",
   "execution_count": null,
   "id": "30fbc97e",
   "metadata": {},
   "outputs": [],
   "source": [
    "l"
   ]
  },
  {
   "cell_type": "code",
   "execution_count": null,
   "id": "11a0bafb",
   "metadata": {},
   "outputs": [],
   "source": [
    "l =  [\"Aksay\",9168126184,10.56]"
   ]
  },
  {
   "cell_type": "code",
   "execution_count": null,
   "id": "20229f89",
   "metadata": {},
   "outputs": [],
   "source": [
    "l"
   ]
  },
  {
   "cell_type": "markdown",
   "id": "85eeb23e",
   "metadata": {},
   "source": [
    "## Nasted List"
   ]
  },
  {
   "cell_type": "code",
   "execution_count": null,
   "id": "419721fa",
   "metadata": {},
   "outputs": [],
   "source": [
    "pD = [[\"Ram\",\"Kolkata\",9168126184,True],[\"raj\",\"pune\",985264713],[\"Seeta\",\"Chennai\",586974315]]"
   ]
  },
  {
   "cell_type": "code",
   "execution_count": null,
   "id": "0a9c27b1",
   "metadata": {
    "scrolled": true
   },
   "outputs": [],
   "source": [
    "pD"
   ]
  },
  {
   "cell_type": "markdown",
   "id": "7a9cd5b8",
   "metadata": {},
   "source": [
    "## Deeply Nested List"
   ]
  },
  {
   "cell_type": "code",
   "execution_count": null,
   "id": "04a5f3ff",
   "metadata": {},
   "outputs": [],
   "source": [
    "pD=[[\"ram\",\"kolkata\",[697158264,558787585]],[\"Raj\",\"Pune\",[4587296782,5869742586]]]"
   ]
  },
  {
   "cell_type": "code",
   "execution_count": null,
   "id": "917f0ea8",
   "metadata": {},
   "outputs": [],
   "source": [
    "pD"
   ]
  },
  {
   "cell_type": "code",
   "execution_count": 89,
   "id": "8501b8d5",
   "metadata": {},
   "outputs": [],
   "source": [
    "pD = [['c',['cse',[90,98,99]],[111,222]]]"
   ]
  },
  {
   "cell_type": "code",
   "execution_count": 90,
   "id": "7554a894",
   "metadata": {},
   "outputs": [
    {
     "data": {
      "text/plain": [
       "[['c', ['cse', [90, 98, 99]], [111, 222]]]"
      ]
     },
     "execution_count": 90,
     "metadata": {},
     "output_type": "execute_result"
    }
   ],
   "source": [
    "pD"
   ]
  },
  {
   "cell_type": "code",
   "execution_count": 91,
   "id": "a9d07718",
   "metadata": {},
   "outputs": [],
   "source": [
    "id = [['Ac',['instagram','facebook','linkedin',['I','F','L',[123,456,678]]]]]"
   ]
  },
  {
   "cell_type": "code",
   "execution_count": 92,
   "id": "76a45a2a",
   "metadata": {},
   "outputs": [
    {
     "data": {
      "text/plain": [
       "[['Ac',\n",
       "  ['instagram', 'facebook', 'linkedin', ['I', 'F', 'L', [123, 456, 678]]]]]"
      ]
     },
     "execution_count": 92,
     "metadata": {},
     "output_type": "execute_result"
    }
   ],
   "source": [
    "id"
   ]
  },
  {
   "cell_type": "code",
   "execution_count": 188,
   "id": "f2c09d38",
   "metadata": {},
   "outputs": [
    {
     "data": {
      "text/plain": [
       "456"
      ]
     },
     "execution_count": 188,
     "metadata": {},
     "output_type": "execute_result"
    }
   ],
   "source": [
    "id[0][1][3][3][1]"
   ]
  },
  {
   "cell_type": "code",
   "execution_count": 189,
   "id": "7f193dd7",
   "metadata": {},
   "outputs": [
    {
     "data": {
      "text/plain": [
       "1"
      ]
     },
     "execution_count": 189,
     "metadata": {},
     "output_type": "execute_result"
    }
   ],
   "source": [
    "#basic operation in list\n",
    "len(id)"
   ]
  },
  {
   "cell_type": "code",
   "execution_count": 190,
   "id": "f18479dc",
   "metadata": {},
   "outputs": [
    {
     "data": {
      "text/plain": [
       "[1, 2, 3, 2, 3, 4]"
      ]
     },
     "execution_count": 190,
     "metadata": {},
     "output_type": "execute_result"
    }
   ],
   "source": [
    "#concating the list using +\n",
    "[1,2,3]+[2,3,4]\n"
   ]
  },
  {
   "cell_type": "code",
   "execution_count": 191,
   "id": "f708b8dd",
   "metadata": {},
   "outputs": [
    {
     "name": "stdout",
     "output_type": "stream",
     "text": [
      "3\n",
      "6\n",
      "8\n"
     ]
    }
   ],
   "source": [
    "#addition of individual element in list\n",
    "l1 = [1,2,3]\n",
    "l2 = [2,4,5]\n",
    "c = len(l1)\n",
    "for i in range(c):\n",
    "    print(l1[i]+l2[i])"
   ]
  },
  {
   "cell_type": "code",
   "execution_count": 192,
   "id": "1b5478af",
   "metadata": {},
   "outputs": [
    {
     "name": "stdout",
     "output_type": "stream",
     "text": [
      "C\n",
      "D\n",
      "A\n",
      "C\n"
     ]
    }
   ],
   "source": [
    "var = \"CDAC\"\n",
    "for i in var:\n",
    "    print(i)"
   ]
  },
  {
   "cell_type": "code",
   "execution_count": 193,
   "id": "a4483126",
   "metadata": {},
   "outputs": [],
   "source": [
    "l3=[]"
   ]
  },
  {
   "cell_type": "code",
   "execution_count": 194,
   "id": "54901ce4",
   "metadata": {},
   "outputs": [
    {
     "data": {
      "text/plain": [
       "[1, 2, 3]"
      ]
     },
     "execution_count": 194,
     "metadata": {},
     "output_type": "execute_result"
    }
   ],
   "source": [
    "l1"
   ]
  },
  {
   "cell_type": "code",
   "execution_count": 109,
   "id": "d30b44bd",
   "metadata": {
    "scrolled": true
   },
   "outputs": [
    {
     "data": {
      "text/plain": [
       "[1, 2, 3]"
      ]
     },
     "execution_count": 109,
     "metadata": {},
     "output_type": "execute_result"
    }
   ],
   "source": [
    "l3+l1"
   ]
  },
  {
   "cell_type": "code",
   "execution_count": 195,
   "id": "c467fb5b",
   "metadata": {},
   "outputs": [
    {
     "data": {
      "text/plain": [
       "[1]"
      ]
     },
     "execution_count": 195,
     "metadata": {},
     "output_type": "execute_result"
    }
   ],
   "source": [
    "l3+[l1[0]] #does not concatinate it\n"
   ]
  },
  {
   "cell_type": "code",
   "execution_count": 196,
   "id": "cc800bc0",
   "metadata": {
    "scrolled": true
   },
   "outputs": [
    {
     "data": {
      "text/plain": [
       "int"
      ]
     },
     "execution_count": 196,
     "metadata": {},
     "output_type": "execute_result"
    }
   ],
   "source": [
    "type([l1[0]])\n",
    "type(l1[0])"
   ]
  },
  {
   "cell_type": "code",
   "execution_count": 113,
   "id": "6dd682d8",
   "metadata": {},
   "outputs": [
    {
     "data": {
      "text/plain": [
       "list"
      ]
     },
     "execution_count": 113,
     "metadata": {},
     "output_type": "execute_result"
    }
   ],
   "source": [
    "type(l3)"
   ]
  },
  {
   "cell_type": "code",
   "execution_count": 114,
   "id": "4fbb4a7a",
   "metadata": {},
   "outputs": [],
   "source": [
    "l3 = l3+[l1[1]]"
   ]
  },
  {
   "cell_type": "code",
   "execution_count": 115,
   "id": "17ce79c6",
   "metadata": {
    "scrolled": true
   },
   "outputs": [
    {
     "data": {
      "text/plain": [
       "[2]"
      ]
     },
     "execution_count": 115,
     "metadata": {},
     "output_type": "execute_result"
    }
   ],
   "source": [
    "l3"
   ]
  },
  {
   "cell_type": "code",
   "execution_count": 116,
   "id": "7fdf646b",
   "metadata": {},
   "outputs": [],
   "source": [
    "l3+=[l1[0]]"
   ]
  },
  {
   "cell_type": "code",
   "execution_count": 117,
   "id": "fb7c8d06",
   "metadata": {
    "scrolled": true
   },
   "outputs": [
    {
     "data": {
      "text/plain": [
       "[2, 1]"
      ]
     },
     "execution_count": 117,
     "metadata": {},
     "output_type": "execute_result"
    }
   ],
   "source": [
    "l3"
   ]
  },
  {
   "cell_type": "code",
   "execution_count": 118,
   "id": "ef482e0d",
   "metadata": {},
   "outputs": [],
   "source": [
    "l3 = []"
   ]
  },
  {
   "cell_type": "code",
   "execution_count": 119,
   "id": "ace4b5c9",
   "metadata": {},
   "outputs": [
    {
     "data": {
      "text/plain": [
       "[]"
      ]
     },
     "execution_count": 119,
     "metadata": {},
     "output_type": "execute_result"
    }
   ],
   "source": [
    "l3"
   ]
  },
  {
   "cell_type": "code",
   "execution_count": null,
   "id": "ebbfe52a",
   "metadata": {},
   "outputs": [],
   "source": [
    "l1"
   ]
  },
  {
   "cell_type": "code",
   "execution_count": null,
   "id": "507ce48f",
   "metadata": {},
   "outputs": [],
   "source": [
    "l2"
   ]
  },
  {
   "cell_type": "code",
   "execution_count": 120,
   "id": "7c416080",
   "metadata": {},
   "outputs": [
    {
     "data": {
      "text/plain": [
       "[7]"
      ]
     },
     "execution_count": 120,
     "metadata": {},
     "output_type": "execute_result"
    }
   ],
   "source": [
    "l3 = []\n",
    "l3 = l3 + [l1[1]+l2[2]]\n",
    "l3"
   ]
  },
  {
   "cell_type": "code",
   "execution_count": 198,
   "id": "34bd1769",
   "metadata": {},
   "outputs": [
    {
     "name": "stdout",
     "output_type": "stream",
     "text": [
      "[1, 2, 3]\n",
      "[2, 4, 5]\n"
     ]
    }
   ],
   "source": [
    "#addition of two element in list\n",
    "print(l1)\n",
    "print(l2)\n",
    "l3 = []\n",
    "c = len(l1)\n",
    "for i in range(c):\n",
    "    l3 = l3 + [l1[i]+l2[i]]"
   ]
  },
  {
   "cell_type": "code",
   "execution_count": 199,
   "id": "f5fbb2e7",
   "metadata": {},
   "outputs": [
    {
     "data": {
      "text/plain": [
       "[3, 6, 8]"
      ]
     },
     "execution_count": 199,
     "metadata": {},
     "output_type": "execute_result"
    }
   ],
   "source": [
    "l3"
   ]
  },
  {
   "cell_type": "code",
   "execution_count": 123,
   "id": "a2f1a73c",
   "metadata": {},
   "outputs": [],
   "source": [
    "l3 = []\n",
    "c = len(l1)\n",
    "for i in range(c):l3 = l3 + [l1[i]+l2[i]]"
   ]
  },
  {
   "cell_type": "code",
   "execution_count": 124,
   "id": "6385d88a",
   "metadata": {},
   "outputs": [],
   "source": [
    "#############################\n",
    "### IMP ###\n",
    "\n",
    "l3= [l1[i]+l2[i] for i in range(len(l1))]"
   ]
  },
  {
   "cell_type": "code",
   "execution_count": 125,
   "id": "feb552cd",
   "metadata": {},
   "outputs": [
    {
     "data": {
      "text/plain": [
       "[3, 6, 8]"
      ]
     },
     "execution_count": 125,
     "metadata": {},
     "output_type": "execute_result"
    }
   ],
   "source": [
    "l3"
   ]
  },
  {
   "cell_type": "code",
   "execution_count": 126,
   "id": "f87243a7",
   "metadata": {},
   "outputs": [],
   "source": [
    "####\n",
    "l4 = [i+2 for i in [1,2,3]]"
   ]
  },
  {
   "cell_type": "code",
   "execution_count": 127,
   "id": "eda9ce8b",
   "metadata": {},
   "outputs": [
    {
     "data": {
      "text/plain": [
       "[3, 4, 5]"
      ]
     },
     "execution_count": 127,
     "metadata": {},
     "output_type": "execute_result"
    }
   ],
   "source": [
    "l4"
   ]
  },
  {
   "cell_type": "code",
   "execution_count": 128,
   "id": "bb4327f0",
   "metadata": {
    "scrolled": true
   },
   "outputs": [
    {
     "data": {
      "text/plain": [
       "4"
      ]
     },
     "execution_count": 128,
     "metadata": {},
     "output_type": "execute_result"
    }
   ],
   "source": [
    "2**2 #power x to the power of y = x**y"
   ]
  },
  {
   "cell_type": "code",
   "execution_count": 129,
   "id": "45fd6bd7",
   "metadata": {},
   "outputs": [
    {
     "data": {
      "text/plain": [
       "'-*--*--*-'"
      ]
     },
     "execution_count": 129,
     "metadata": {},
     "output_type": "execute_result"
    }
   ],
   "source": [
    "\"-*-\"*3"
   ]
  },
  {
   "cell_type": "code",
   "execution_count": 130,
   "id": "98f2b3f3",
   "metadata": {
    "scrolled": true
   },
   "outputs": [
    {
     "data": {
      "text/plain": [
       "[1, 2, 1, 2, 1, 2]"
      ]
     },
     "execution_count": 130,
     "metadata": {},
     "output_type": "execute_result"
    }
   ],
   "source": [
    "[1,2]*3"
   ]
  },
  {
   "cell_type": "code",
   "execution_count": 131,
   "id": "67f2cf70",
   "metadata": {
    "scrolled": true
   },
   "outputs": [
    {
     "data": {
      "text/plain": [
       "[1, 2, 3, 4, 1, 2, 3, 4, 1, 2, 3, 4]"
      ]
     },
     "execution_count": 131,
     "metadata": {},
     "output_type": "execute_result"
    }
   ],
   "source": [
    "[1,2,3,4]*3"
   ]
  },
  {
   "cell_type": "code",
   "execution_count": 132,
   "id": "1eb57cac",
   "metadata": {
    "scrolled": false
   },
   "outputs": [
    {
     "data": {
      "text/plain": [
       "[[1, 1, 1], [2, 2, 2], [3, 3, 3]]"
      ]
     },
     "execution_count": 132,
     "metadata": {},
     "output_type": "execute_result"
    }
   ],
   "source": [
    "[[i]*3 for i in [1,2,3]] #it print nested list"
   ]
  },
  {
   "cell_type": "code",
   "execution_count": 133,
   "id": "f4c8ee22",
   "metadata": {},
   "outputs": [
    {
     "data": {
      "text/plain": [
       "[3, 6, 9, 12]"
      ]
     },
     "execution_count": 133,
     "metadata": {},
     "output_type": "execute_result"
    }
   ],
   "source": [
    "[i*3 for i in [1,2,3,4]]"
   ]
  },
  {
   "cell_type": "code",
   "execution_count": 134,
   "id": "71f23e8b",
   "metadata": {
    "scrolled": true
   },
   "outputs": [
    {
     "data": {
      "text/plain": [
       "[3, 6, 9, 12, 15, 18, 21, 24, 27, 30]"
      ]
     },
     "execution_count": 134,
     "metadata": {},
     "output_type": "execute_result"
    }
   ],
   "source": [
    "[i*3 for i in range(1,11)]"
   ]
  },
  {
   "cell_type": "code",
   "execution_count": 135,
   "id": "78f3d821",
   "metadata": {},
   "outputs": [
    {
     "data": {
      "text/plain": [
       "[1, 2, 3]"
      ]
     },
     "execution_count": 135,
     "metadata": {},
     "output_type": "execute_result"
    }
   ],
   "source": [
    "[i for i in [1,2,3]]"
   ]
  },
  {
   "cell_type": "code",
   "execution_count": 136,
   "id": "ad5c2832",
   "metadata": {
    "scrolled": true
   },
   "outputs": [
    {
     "data": {
      "text/plain": [
       "[2, 3, 4]"
      ]
     },
     "execution_count": 136,
     "metadata": {},
     "output_type": "execute_result"
    }
   ],
   "source": [
    "[i+1 for i in [1,2,3]]"
   ]
  },
  {
   "cell_type": "code",
   "execution_count": 137,
   "id": "7fd80e67",
   "metadata": {
    "scrolled": true
   },
   "outputs": [
    {
     "data": {
      "text/plain": [
       "[2, 4, 6]"
      ]
     },
     "execution_count": 137,
     "metadata": {},
     "output_type": "execute_result"
    }
   ],
   "source": [
    "[i*2 for i in [1,2,3]]"
   ]
  },
  {
   "cell_type": "code",
   "execution_count": 138,
   "id": "040ec52d",
   "metadata": {
    "scrolled": true
   },
   "outputs": [
    {
     "data": {
      "text/plain": [
       "[[1], [2], [3]]"
      ]
     },
     "execution_count": 138,
     "metadata": {},
     "output_type": "execute_result"
    }
   ],
   "source": [
    "[[i]*1 for i in [1,2,3]]"
   ]
  },
  {
   "cell_type": "code",
   "execution_count": 139,
   "id": "2cfa64ec",
   "metadata": {
    "scrolled": true
   },
   "outputs": [
    {
     "data": {
      "text/plain": [
       "[[1, 1], [2, 2], [3, 3]]"
      ]
     },
     "execution_count": 139,
     "metadata": {},
     "output_type": "execute_result"
    }
   ],
   "source": [
    "[[i]+[i] for i in [1,2,3]]"
   ]
  },
  {
   "cell_type": "code",
   "execution_count": 140,
   "id": "eee8d30e",
   "metadata": {
    "scrolled": true
   },
   "outputs": [
    {
     "ename": "TypeError",
     "evalue": "can't multiply sequence by non-int of type 'list'",
     "output_type": "error",
     "traceback": [
      "\u001b[1;31m---------------------------------------------------------------------------\u001b[0m",
      "\u001b[1;31mTypeError\u001b[0m                                 Traceback (most recent call last)",
      "Cell \u001b[1;32mIn[140], line 1\u001b[0m\n\u001b[1;32m----> 1\u001b[0m [[i]\u001b[38;5;241m*\u001b[39m[i] \u001b[38;5;28;01mfor\u001b[39;00m i \u001b[38;5;129;01min\u001b[39;00m [\u001b[38;5;241m1\u001b[39m,\u001b[38;5;241m2\u001b[39m,\u001b[38;5;241m3\u001b[39m]]\n",
      "Cell \u001b[1;32mIn[140], line 1\u001b[0m, in \u001b[0;36m<listcomp>\u001b[1;34m(.0)\u001b[0m\n\u001b[1;32m----> 1\u001b[0m [\u001b[43m[\u001b[49m\u001b[43mi\u001b[49m\u001b[43m]\u001b[49m\u001b[38;5;241;43m*\u001b[39;49m\u001b[43m[\u001b[49m\u001b[43mi\u001b[49m\u001b[43m]\u001b[49m \u001b[38;5;28;01mfor\u001b[39;00m i \u001b[38;5;129;01min\u001b[39;00m [\u001b[38;5;241m1\u001b[39m,\u001b[38;5;241m2\u001b[39m,\u001b[38;5;241m3\u001b[39m]]\n",
      "\u001b[1;31mTypeError\u001b[0m: can't multiply sequence by non-int of type 'list'"
     ]
    }
   ],
   "source": [
    "[[i]*[i] for i in [1,2,3]] # error multiplication of list is not possible"
   ]
  },
  {
   "cell_type": "code",
   "execution_count": 141,
   "id": "7c150e12",
   "metadata": {
    "scrolled": true
   },
   "outputs": [
    {
     "data": {
      "text/plain": [
       "[1, 1]"
      ]
     },
     "execution_count": 141,
     "metadata": {},
     "output_type": "execute_result"
    }
   ],
   "source": [
    "[1]*2"
   ]
  },
  {
   "cell_type": "code",
   "execution_count": 142,
   "id": "70c2ae13",
   "metadata": {
    "scrolled": true
   },
   "outputs": [
    {
     "data": {
      "text/plain": [
       "['hi', 'hi', 'hi', 'hi']"
      ]
     },
     "execution_count": 142,
     "metadata": {},
     "output_type": "execute_result"
    }
   ],
   "source": [
    "['hi']*4"
   ]
  },
  {
   "cell_type": "markdown",
   "id": "efcbb736",
   "metadata": {},
   "source": [
    "# check element in list"
   ]
  },
  {
   "cell_type": "code",
   "execution_count": 143,
   "id": "0783528f",
   "metadata": {},
   "outputs": [
    {
     "name": "stdout",
     "output_type": "stream",
     "text": [
      "found\n"
     ]
    }
   ],
   "source": [
    "l1 = [1,2,3,4,5]\n",
    "if 4 in l1:  #Membership\n",
    "    print(\"found\")\n",
    "else:\n",
    "    print(\"not found\")"
   ]
  },
  {
   "cell_type": "code",
   "execution_count": 144,
   "id": "ac1a8f5a",
   "metadata": {
    "scrolled": true
   },
   "outputs": [
    {
     "name": "stdout",
     "output_type": "stream",
     "text": [
      "1\n",
      "2\n",
      "3\n"
     ]
    }
   ],
   "source": [
    "for x in [1,2,3]:print(x) #iteration in given list"
   ]
  },
  {
   "cell_type": "code",
   "execution_count": 145,
   "id": "6388ba2b",
   "metadata": {},
   "outputs": [],
   "source": [
    "var = 'cdac'"
   ]
  },
  {
   "cell_type": "code",
   "execution_count": 146,
   "id": "89fdd160",
   "metadata": {},
   "outputs": [
    {
     "data": {
      "text/plain": [
       "'cdac'"
      ]
     },
     "execution_count": 146,
     "metadata": {},
     "output_type": "execute_result"
    }
   ],
   "source": [
    "var\n"
   ]
  },
  {
   "cell_type": "code",
   "execution_count": 147,
   "id": "819e574b",
   "metadata": {},
   "outputs": [
    {
     "data": {
      "text/plain": [
       "[1, 2, 3, 4, 5]"
      ]
     },
     "execution_count": 147,
     "metadata": {},
     "output_type": "execute_result"
    }
   ],
   "source": [
    "l1"
   ]
  },
  {
   "cell_type": "code",
   "execution_count": 148,
   "id": "eebfcd42",
   "metadata": {},
   "outputs": [],
   "source": [
    "l1[0]=10"
   ]
  },
  {
   "cell_type": "code",
   "execution_count": 149,
   "id": "878cdb05",
   "metadata": {},
   "outputs": [
    {
     "data": {
      "text/plain": [
       "[10, 2, 3, 4, 5]"
      ]
     },
     "execution_count": 149,
     "metadata": {},
     "output_type": "execute_result"
    }
   ],
   "source": [
    "l1"
   ]
  },
  {
   "cell_type": "code",
   "execution_count": null,
   "id": "e63e2168",
   "metadata": {},
   "outputs": [],
   "source": [
    "#list very is power full data structure in python"
   ]
  },
  {
   "cell_type": "markdown",
   "id": "0b517383",
   "metadata": {},
   "source": [
    "# Slicing Of List\n",
    "## 14 - 11 - 2022\n",
    " > list very is power full data structure in python"
   ]
  },
  {
   "cell_type": "code",
   "execution_count": 239,
   "id": "1b409587",
   "metadata": {},
   "outputs": [],
   "source": [
    " L=[1,[2,[]]]"
   ]
  },
  {
   "cell_type": "code",
   "execution_count": 238,
   "id": "d73a8dff",
   "metadata": {},
   "outputs": [
    {
     "data": {
      "text/plain": [
       "True"
      ]
     },
     "execution_count": 238,
     "metadata": {},
     "output_type": "execute_result"
    }
   ],
   "source": [
    "L=[\"red\",\"green\",\"yellow\",\"white\"]\n",
    "\"red\" in L"
   ]
  },
  {
   "cell_type": "code",
   "execution_count": 240,
   "id": "6ac948e7",
   "metadata": {
    "scrolled": true
   },
   "outputs": [
    {
     "data": {
      "text/plain": [
       "False"
      ]
     },
     "execution_count": 240,
     "metadata": {},
     "output_type": "execute_result"
    }
   ],
   "source": [
    "L=[\"red\",\"green\",\"yellow\",\"white\"]\n",
    "\"red1\" in L"
   ]
  },
  {
   "cell_type": "code",
   "execution_count": 241,
   "id": "d57ab695",
   "metadata": {},
   "outputs": [
    {
     "data": {
      "text/plain": [
       "'green'"
      ]
     },
     "execution_count": 241,
     "metadata": {},
     "output_type": "execute_result"
    }
   ],
   "source": [
    "L[1]"
   ]
  },
  {
   "cell_type": "code",
   "execution_count": 242,
   "id": "9e89cf0e",
   "metadata": {
    "scrolled": true
   },
   "outputs": [
    {
     "data": {
      "text/plain": [
       "'green'"
      ]
     },
     "execution_count": 242,
     "metadata": {},
     "output_type": "execute_result"
    }
   ],
   "source": [
    "L[-3]"
   ]
  },
  {
   "cell_type": "code",
   "execution_count": 243,
   "id": "2ac858d3",
   "metadata": {
    "scrolled": true
   },
   "outputs": [
    {
     "data": {
      "text/plain": [
       "['green', 'yellow']"
      ]
     },
     "execution_count": 243,
     "metadata": {},
     "output_type": "execute_result"
    }
   ],
   "source": [
    "L[1:3]"
   ]
  },
  {
   "cell_type": "code",
   "execution_count": 245,
   "id": "36625a19",
   "metadata": {
    "scrolled": true
   },
   "outputs": [
    {
     "data": {
      "text/plain": [
       "['red', 'white']"
      ]
     },
     "execution_count": 245,
     "metadata": {},
     "output_type": "execute_result"
    }
   ],
   "source": [
    "L[0:4:3]"
   ]
  },
  {
   "cell_type": "code",
   "execution_count": 246,
   "id": "f55c5586",
   "metadata": {
    "scrolled": true
   },
   "outputs": [
    {
     "data": {
      "text/plain": [
       "['white', 'yellow', 'green', 'red']"
      ]
     },
     "execution_count": 246,
     "metadata": {},
     "output_type": "execute_result"
    }
   ],
   "source": [
    "L[::-1]"
   ]
  },
  {
   "cell_type": "code",
   "execution_count": 247,
   "id": "42c1a5a2",
   "metadata": {},
   "outputs": [
    {
     "data": {
      "text/plain": [
       "['white', 'yellow', 'green', 'red']"
      ]
     },
     "execution_count": 247,
     "metadata": {},
     "output_type": "execute_result"
    }
   ],
   "source": [
    "L[-1::-1]"
   ]
  },
  {
   "cell_type": "code",
   "execution_count": 248,
   "id": "3a836997",
   "metadata": {},
   "outputs": [
    {
     "data": {
      "text/plain": [
       "['white', 'yellow', 'green', 'red']"
      ]
     },
     "execution_count": 248,
     "metadata": {},
     "output_type": "execute_result"
    }
   ],
   "source": [
    "i=len(L)-1\n",
    "L1=[]\n",
    "while(i >= 0):\n",
    "    L1+=[L[i]]  # l1=L1 + [l[i]]\n",
    "    i-=1  \n",
    "L1"
   ]
  },
  {
   "cell_type": "code",
   "execution_count": 249,
   "id": "97cb736f",
   "metadata": {
    "scrolled": true
   },
   "outputs": [
    {
     "name": "stdout",
     "output_type": "stream",
     "text": [
      "white\n",
      "yellow\n",
      "green\n",
      "red\n"
     ]
    }
   ],
   "source": [
    "#i=len(L)-1\n",
    "for i in range(-1,-5,-1):\n",
    "    print(L[i])"
   ]
  },
  {
   "cell_type": "markdown",
   "id": "fc4fd4c8",
   "metadata": {},
   "source": [
    "# Linklist structure / nested list accessing\n",
    "> like binary tree\n",
    "> NL=[[\"a\",[\"b\",[\"c\",[\"d\"]]]]]"
   ]
  },
  {
   "cell_type": "code",
   "execution_count": 250,
   "id": "0f35bc95",
   "metadata": {},
   "outputs": [],
   "source": [
    "NL=[[\"a\",[\"b\",[\"c\",[\"d\"]]]]]"
   ]
  },
  {
   "cell_type": "code",
   "execution_count": 251,
   "id": "00bfe6b4",
   "metadata": {},
   "outputs": [
    {
     "data": {
      "text/plain": [
       "['a', ['b', ['c', ['d']]]]"
      ]
     },
     "execution_count": 251,
     "metadata": {},
     "output_type": "execute_result"
    }
   ],
   "source": [
    "NL[0]"
   ]
  },
  {
   "cell_type": "code",
   "execution_count": 252,
   "id": "b9e3fa5c",
   "metadata": {},
   "outputs": [
    {
     "data": {
      "text/plain": [
       "'a'"
      ]
     },
     "execution_count": 252,
     "metadata": {},
     "output_type": "execute_result"
    }
   ],
   "source": [
    "NL[0][0]"
   ]
  },
  {
   "cell_type": "code",
   "execution_count": 253,
   "id": "86646e42",
   "metadata": {},
   "outputs": [
    {
     "data": {
      "text/plain": [
       "['b', ['c', ['d']]]"
      ]
     },
     "execution_count": 253,
     "metadata": {},
     "output_type": "execute_result"
    }
   ],
   "source": [
    "NL[0][1]"
   ]
  },
  {
   "cell_type": "code",
   "execution_count": 254,
   "id": "85ff95b4",
   "metadata": {},
   "outputs": [
    {
     "data": {
      "text/plain": [
       "'b'"
      ]
     },
     "execution_count": 254,
     "metadata": {},
     "output_type": "execute_result"
    }
   ],
   "source": [
    "NL[0][1][0]"
   ]
  },
  {
   "cell_type": "code",
   "execution_count": 255,
   "id": "c2446aff",
   "metadata": {},
   "outputs": [
    {
     "data": {
      "text/plain": [
       "['c', ['d']]"
      ]
     },
     "execution_count": 255,
     "metadata": {},
     "output_type": "execute_result"
    }
   ],
   "source": [
    "NL[0][1][1]"
   ]
  },
  {
   "cell_type": "code",
   "execution_count": 256,
   "id": "0c97f669",
   "metadata": {
    "scrolled": true
   },
   "outputs": [
    {
     "data": {
      "text/plain": [
       "'c'"
      ]
     },
     "execution_count": 256,
     "metadata": {},
     "output_type": "execute_result"
    }
   ],
   "source": [
    "NL[0][1][1][0]"
   ]
  },
  {
   "cell_type": "code",
   "execution_count": 257,
   "id": "0dbedad8",
   "metadata": {},
   "outputs": [
    {
     "data": {
      "text/plain": [
       "['d']"
      ]
     },
     "execution_count": 257,
     "metadata": {},
     "output_type": "execute_result"
    }
   ],
   "source": [
    "NL[0][1][1][1]"
   ]
  },
  {
   "cell_type": "code",
   "execution_count": 218,
   "id": "c4752e62",
   "metadata": {
    "scrolled": true
   },
   "outputs": [
    {
     "data": {
      "text/plain": [
       "'d'"
      ]
     },
     "execution_count": 218,
     "metadata": {},
     "output_type": "execute_result"
    }
   ],
   "source": [
    "NL[0][1][1][1][0]"
   ]
  },
  {
   "cell_type": "code",
   "execution_count": 258,
   "id": "c702b721",
   "metadata": {},
   "outputs": [
    {
     "data": {
      "text/plain": [
       "[1, 1, 1, 1, 1]"
      ]
     },
     "execution_count": 258,
     "metadata": {},
     "output_type": "execute_result"
    }
   ],
   "source": [
    "l=[1]\n",
    "l*5"
   ]
  },
  {
   "cell_type": "code",
   "execution_count": 259,
   "id": "70d59c5b",
   "metadata": {
    "scrolled": true
   },
   "outputs": [
    {
     "data": {
      "text/plain": [
       "[1, 2, 1, 2]"
      ]
     },
     "execution_count": 259,
     "metadata": {},
     "output_type": "execute_result"
    }
   ],
   "source": [
    "l=[1,2]\n",
    "l*2"
   ]
  },
  {
   "cell_type": "code",
   "execution_count": 260,
   "id": "3d346eaf",
   "metadata": {},
   "outputs": [
    {
     "data": {
      "text/plain": [
       "[[1, 2], [1, 2], [1, 2]]"
      ]
     },
     "execution_count": 260,
     "metadata": {},
     "output_type": "execute_result"
    }
   ],
   "source": [
    "l=[[1,2]]\n",
    "l*3"
   ]
  },
  {
   "cell_type": "code",
   "execution_count": 261,
   "id": "400ec8fc",
   "metadata": {},
   "outputs": [],
   "source": [
    "NL[0][1][1][1][0]=\"e\""
   ]
  },
  {
   "cell_type": "code",
   "execution_count": 262,
   "id": "478c2064",
   "metadata": {},
   "outputs": [
    {
     "data": {
      "text/plain": [
       "[['a', ['b', ['c', ['e']]]]]"
      ]
     },
     "execution_count": 262,
     "metadata": {},
     "output_type": "execute_result"
    }
   ],
   "source": [
    "NL"
   ]
  },
  {
   "cell_type": "code",
   "execution_count": 263,
   "id": "be6bcd33",
   "metadata": {},
   "outputs": [
    {
     "data": {
      "text/plain": [
       "[[1, 2, 3], [1, 2, 3], [1, 2, 3], [1, 2, 3]]"
      ]
     },
     "execution_count": 263,
     "metadata": {},
     "output_type": "execute_result"
    }
   ],
   "source": [
    "x=[1,2,3]\n",
    "y=[x]*4\n",
    "y"
   ]
  },
  {
   "cell_type": "code",
   "execution_count": 264,
   "id": "6fb3af2e",
   "metadata": {
    "scrolled": true
   },
   "outputs": [
    {
     "data": {
      "text/plain": [
       "[1, 2, 3]"
      ]
     },
     "execution_count": 264,
     "metadata": {},
     "output_type": "execute_result"
    }
   ],
   "source": [
    "y[0]"
   ]
  },
  {
   "cell_type": "code",
   "execution_count": 265,
   "id": "3e2b3081",
   "metadata": {},
   "outputs": [],
   "source": [
    "y[0][0]=4"
   ]
  },
  {
   "cell_type": "code",
   "execution_count": 266,
   "id": "081fc993",
   "metadata": {
    "scrolled": true
   },
   "outputs": [
    {
     "data": {
      "text/plain": [
       "[[4, 2, 3], [4, 2, 3], [4, 2, 3], [4, 2, 3]]"
      ]
     },
     "execution_count": 266,
     "metadata": {},
     "output_type": "execute_result"
    }
   ],
   "source": [
    "y #importabnt"
   ]
  },
  {
   "cell_type": "code",
   "execution_count": 267,
   "id": "d30381eb",
   "metadata": {
    "scrolled": true
   },
   "outputs": [
    {
     "data": {
      "text/plain": [
       "4"
      ]
     },
     "execution_count": 267,
     "metadata": {},
     "output_type": "execute_result"
    }
   ],
   "source": [
    "y[0][0]"
   ]
  },
  {
   "cell_type": "code",
   "execution_count": 268,
   "id": "dd4adb8b",
   "metadata": {},
   "outputs": [],
   "source": [
    "z=[[4, 2, 3], [4, 2, 3], [4, 2, 3], [4, 2, 3]]"
   ]
  },
  {
   "cell_type": "code",
   "execution_count": 269,
   "id": "ead5d4cb",
   "metadata": {
    "scrolled": true
   },
   "outputs": [
    {
     "data": {
      "text/plain": [
       "4"
      ]
     },
     "execution_count": 269,
     "metadata": {},
     "output_type": "execute_result"
    }
   ],
   "source": [
    "z[0][0]"
   ]
  },
  {
   "cell_type": "code",
   "execution_count": 270,
   "id": "df0a47b1",
   "metadata": {},
   "outputs": [
    {
     "data": {
      "text/plain": [
       "[[1, 2, 3], [4, 2, 3], [4, 2, 3], [4, 2, 3]]"
      ]
     },
     "execution_count": 270,
     "metadata": {},
     "output_type": "execute_result"
    }
   ],
   "source": [
    "z[0][0]=1\n",
    "z"
   ]
  },
  {
   "cell_type": "code",
   "execution_count": 271,
   "id": "97be49e4",
   "metadata": {},
   "outputs": [
    {
     "name": "stdout",
     "output_type": "stream",
     "text": [
      "[1, 2, 3]\n"
     ]
    }
   ],
   "source": [
    "x=[1,2,3]\n",
    "y=x    #both as same location copying its reference only\n",
    "print(x)"
   ]
  },
  {
   "cell_type": "code",
   "execution_count": 272,
   "id": "851aeb00",
   "metadata": {},
   "outputs": [
    {
     "name": "stdout",
     "output_type": "stream",
     "text": [
      "[1, 2, 3]\n"
     ]
    }
   ],
   "source": [
    "print(y)"
   ]
  },
  {
   "cell_type": "code",
   "execution_count": null,
   "id": "9a4e905e",
   "metadata": {},
   "outputs": [],
   "source": [
    "y[0]=4"
   ]
  },
  {
   "cell_type": "code",
   "execution_count": 273,
   "id": "13dcc759",
   "metadata": {
    "scrolled": true
   },
   "outputs": [
    {
     "name": "stdout",
     "output_type": "stream",
     "text": [
      "[1, 2, 3]\n",
      "[1, 2, 3]\n"
     ]
    }
   ],
   "source": [
    "print(y)\n",
    "print(x)"
   ]
  },
  {
   "cell_type": "code",
   "execution_count": 274,
   "id": "1477480e",
   "metadata": {
    "scrolled": false
   },
   "outputs": [
    {
     "name": "stdout",
     "output_type": "stream",
     "text": [
      "[1, 2, 3] [1, 2, 3]\n"
     ]
    }
   ],
   "source": [
    "x=[1,2,3]\n",
    "z=x[:]   #copying values of x to z\n",
    "print(z,x)"
   ]
  },
  {
   "cell_type": "code",
   "execution_count": 275,
   "id": "31f53548",
   "metadata": {},
   "outputs": [],
   "source": [
    "z[0]=4"
   ]
  },
  {
   "cell_type": "code",
   "execution_count": 276,
   "id": "7b1342d5",
   "metadata": {},
   "outputs": [
    {
     "data": {
      "text/plain": [
       "[4, 2, 3]"
      ]
     },
     "execution_count": 276,
     "metadata": {},
     "output_type": "execute_result"
    }
   ],
   "source": [
    "z"
   ]
  },
  {
   "cell_type": "code",
   "execution_count": null,
   "id": "cb3358f0",
   "metadata": {},
   "outputs": [],
   "source": [
    "x"
   ]
  },
  {
   "cell_type": "markdown",
   "id": "ba291d0f",
   "metadata": {},
   "source": [
    "## Output Displaying Pattern "
   ]
  },
  {
   "cell_type": "code",
   "execution_count": 229,
   "id": "4aff1116",
   "metadata": {},
   "outputs": [
    {
     "name": "stdout",
     "output_type": "stream",
     "text": [
      "459 0.098 44.982\n"
     ]
    }
   ],
   "source": [
    "q = 459\n",
    "p = 0.098\n",
    "print(q,p,p*q)"
   ]
  },
  {
   "cell_type": "code",
   "execution_count": null,
   "id": "79e2ea13",
   "metadata": {
    "scrolled": true
   },
   "outputs": [],
   "source": [
    "print(q,p,p*q,sep=\" >> \")"
   ]
  },
  {
   "cell_type": "code",
   "execution_count": null,
   "id": "86254091",
   "metadata": {},
   "outputs": [],
   "source": [
    "print(q,p,p*q,sep= \" | \")"
   ]
  },
  {
   "cell_type": "code",
   "execution_count": null,
   "id": "f58c91c5",
   "metadata": {
    "scrolled": true
   },
   "outputs": [],
   "source": [
    "print(str(q)+ \"|\" + str(p) + \"|\" + str(p*q))"
   ]
  },
  {
   "cell_type": "code",
   "execution_count": null,
   "id": "73962b44",
   "metadata": {},
   "outputs": [],
   "source": [
    "x=453\n",
    "y=59.058"
   ]
  },
  {
   "cell_type": "code",
   "execution_count": 230,
   "id": "bc5df8b8",
   "metadata": {
    "scrolled": true
   },
   "outputs": [
    {
     "name": "stdout",
     "output_type": "stream",
     "text": [
      "[4, 2, 3]\n",
      "[[4, 2, 3], [4, 2, 3], [4, 2, 3], [4, 2, 3]]\n"
     ]
    }
   ],
   "source": [
    "print(x)\n",
    "print(y)"
   ]
  },
  {
   "cell_type": "code",
   "execution_count": 231,
   "id": "5790c918",
   "metadata": {},
   "outputs": [
    {
     "name": "stdout",
     "output_type": "stream",
     "text": [
      "X: [4, 2, 3]\n"
     ]
    }
   ],
   "source": [
    "print(\"X:\",x)"
   ]
  },
  {
   "cell_type": "code",
   "execution_count": 232,
   "id": "689f0f08",
   "metadata": {},
   "outputs": [
    {
     "name": "stdout",
     "output_type": "stream",
     "text": [
      "Y: [[4, 2, 3], [4, 2, 3], [4, 2, 3], [4, 2, 3]]\n"
     ]
    }
   ],
   "source": [
    "print(\"Y:\",y)"
   ]
  },
  {
   "cell_type": "code",
   "execution_count": 233,
   "id": "04b57a5d",
   "metadata": {},
   "outputs": [
    {
     "name": "stdout",
     "output_type": "stream",
     "text": [
      "X: [4, 2, 3]\n"
     ]
    }
   ],
   "source": [
    "print(\"X:\"+\" \"+str(x))"
   ]
  },
  {
   "cell_type": "code",
   "execution_count": 234,
   "id": "37070bc3",
   "metadata": {
    "scrolled": true
   },
   "outputs": [
    {
     "name": "stdout",
     "output_type": "stream",
     "text": [
      "X: [4, 2, 3]\n"
     ]
    }
   ],
   "source": [
    "print(\"X:\"+\" \"+str(x))"
   ]
  },
  {
   "cell_type": "code",
   "execution_count": null,
   "id": "93d922e7",
   "metadata": {
    "scrolled": true
   },
   "outputs": [],
   "source": [
    "print(\"x:%6d\"%(x))"
   ]
  },
  {
   "cell_type": "code",
   "execution_count": null,
   "id": "307a478b",
   "metadata": {
    "scrolled": false
   },
   "outputs": [],
   "source": [
    "print(\"Y:%f\"%(y))"
   ]
  },
  {
   "cell_type": "code",
   "execution_count": null,
   "id": "fd5b2a4b",
   "metadata": {},
   "outputs": [],
   "source": [
    "print(\"Y:%4f\"%(y))"
   ]
  },
  {
   "cell_type": "code",
   "execution_count": null,
   "id": "c22b0009",
   "metadata": {
    "scrolled": true
   },
   "outputs": [],
   "source": [
    "print(\"Y:%4.3f\"%(y))"
   ]
  },
  {
   "cell_type": "code",
   "execution_count": null,
   "id": "06cd24e1",
   "metadata": {
    "scrolled": true
   },
   "outputs": [],
   "source": [
    "print(\"X:%5d Y:%4.2f\"%(x,y))"
   ]
  },
  {
   "cell_type": "code",
   "execution_count": null,
   "id": "b5615d29",
   "metadata": {
    "scrolled": false
   },
   "outputs": [],
   "source": [
    "print(\"X:{0:4d} Y:{1:4.2f}\".format(x,y))"
   ]
  },
  {
   "cell_type": "code",
   "execution_count": null,
   "id": "a75aaebb",
   "metadata": {
    "scrolled": true
   },
   "outputs": [],
   "source": [
    "print(\"Y:{a:4.2f} X:{b:4d}\".format(b=x,a=y))"
   ]
  },
  {
   "cell_type": "code",
   "execution_count": null,
   "id": "e7bf1de0",
   "metadata": {},
   "outputs": [],
   "source": [
    "# FUNCTIONS\n",
    "\n",
    "s=\"a\"\n",
    "s.center(10)\n",
    "s.center(10,\"!\")"
   ]
  },
  {
   "cell_type": "code",
   "execution_count": null,
   "id": "02c29cce",
   "metadata": {},
   "outputs": [],
   "source": [
    "s"
   ]
  },
  {
   "cell_type": "code",
   "execution_count": null,
   "id": "8b57d15a",
   "metadata": {
    "scrolled": true
   },
   "outputs": [],
   "source": [
    "s.rjust(10,'.') #functon"
   ]
  },
  {
   "cell_type": "code",
   "execution_count": 1,
   "id": "5179de2b",
   "metadata": {},
   "outputs": [
    {
     "data": {
      "text/plain": [
       "'000000000123'"
      ]
     },
     "execution_count": 1,
     "metadata": {},
     "output_type": "execute_result"
    }
   ],
   "source": [
    "account_number = \"123\"\n",
    "account_number.zfill(12)"
   ]
  },
  {
   "cell_type": "code",
   "execution_count": null,
   "id": "2390bfc0",
   "metadata": {
    "scrolled": true
   },
   "outputs": [],
   "source": [
    "type(s)"
   ]
  },
  {
   "cell_type": "code",
   "execution_count": null,
   "id": "b98ef669",
   "metadata": {},
   "outputs": [],
   "source": [
    "s.count(\"a\")"
   ]
  },
  {
   "cell_type": "code",
   "execution_count": null,
   "id": "ebff8081",
   "metadata": {
    "scrolled": true
   },
   "outputs": [],
   "source": [
    "s.upper()"
   ]
  },
  {
   "cell_type": "code",
   "execution_count": null,
   "id": "31df5eb0",
   "metadata": {
    "scrolled": true
   },
   "outputs": [],
   "source": [
    "s.lower()"
   ]
  },
  {
   "cell_type": "code",
   "execution_count": 277,
   "id": "b8ee9bc2",
   "metadata": {},
   "outputs": [
    {
     "name": "stdout",
     "output_type": "stream",
     "text": [
      "Enter the list size:5\n",
      "Enter the elemet in list:7\n",
      "Enter the elemet in list:8\n",
      "Enter the elemet in list:5\n",
      "Enter the elemet in list:4\n",
      "Enter the elemet in list:8\n",
      "max element in list l1 is =  8\n"
     ]
    }
   ],
   "source": [
    "#find the maximum number in the given list\n",
    "l1=[]\n",
    "n=int(input(\"Enter the list size:\"))\n",
    "for i in range(0,n):\n",
    "    a=int(input(\"Enter the elemet in list:\"))\n",
    "    l1.append(a) \n",
    "j=0\n",
    "max1 = -999\n",
    "for j in range(n):\n",
    "    if(l1[j]>max1):\n",
    "        max1=l1[j]\n",
    "print(\"max element in list l1 is = \",max1) "
   ]
  },
  {
   "cell_type": "code",
   "execution_count": 278,
   "id": "3b7a9bbc",
   "metadata": {
    "scrolled": true
   },
   "outputs": [
    {
     "name": "stdout",
     "output_type": "stream",
     "text": [
      "['a', 's', 'd', 'd', 's', 'e', 'r', 'v']\n"
     ]
    }
   ],
   "source": [
    "str1 = \"a,s,d,d,s,e,r,v\"\n",
    "s=str1.split(\",\")\n",
    "print(s)"
   ]
  },
  {
   "cell_type": "markdown",
   "id": "816ee685",
   "metadata": {},
   "source": [
    "# date : 16-11-2022"
   ]
  },
  {
   "cell_type": "markdown",
   "id": "9b6d92e0",
   "metadata": {},
   "source": [
    "###  List \n",
    "###  Tuple \n",
    "###   Set"
   ]
  },
  {
   "cell_type": "code",
   "execution_count": 281,
   "id": "46e1e6fd",
   "metadata": {
    "scrolled": true
   },
   "outputs": [],
   "source": [
    "L=[]\n",
    "L.append(2)\n",
    "L.append(3)\n",
    "L.append(4)"
   ]
  },
  {
   "cell_type": "code",
   "execution_count": 282,
   "id": "67b40f6c",
   "metadata": {},
   "outputs": [
    {
     "data": {
      "text/plain": [
       "[2, 3, 4]"
      ]
     },
     "execution_count": 282,
     "metadata": {},
     "output_type": "execute_result"
    }
   ],
   "source": [
    "L"
   ]
  },
  {
   "cell_type": "code",
   "execution_count": null,
   "id": "9004c603",
   "metadata": {
    "scrolled": true
   },
   "outputs": [],
   "source": [
    "min(L)"
   ]
  },
  {
   "cell_type": "code",
   "execution_count": null,
   "id": "3fa29bb4",
   "metadata": {},
   "outputs": [],
   "source": [
    "max(L)"
   ]
  },
  {
   "cell_type": "code",
   "execution_count": null,
   "id": "33b49518",
   "metadata": {},
   "outputs": [],
   "source": [
    "L=[1,4,6,2,3,6,7,1]"
   ]
  },
  {
   "cell_type": "code",
   "execution_count": null,
   "id": "d5af07ee",
   "metadata": {
    "scrolled": true
   },
   "outputs": [],
   "source": [
    "L.sort()\n",
    "L"
   ]
  },
  {
   "cell_type": "code",
   "execution_count": null,
   "id": "9e59180c",
   "metadata": {
    "scrolled": true
   },
   "outputs": [],
   "source": [
    "L.sort(reverse=True)\n",
    "L"
   ]
  },
  {
   "cell_type": "code",
   "execution_count": null,
   "id": "0e50dfd5",
   "metadata": {},
   "outputs": [],
   "source": [
    "sorted(L)\n",
    "L"
   ]
  },
  {
   "cell_type": "code",
   "execution_count": null,
   "id": "08574217",
   "metadata": {},
   "outputs": [],
   "source": [
    "L.append(['a','b','c'])"
   ]
  },
  {
   "cell_type": "code",
   "execution_count": null,
   "id": "909a8406",
   "metadata": {
    "scrolled": true
   },
   "outputs": [],
   "source": [
    "L"
   ]
  },
  {
   "cell_type": "code",
   "execution_count": null,
   "id": "14963b49",
   "metadata": {},
   "outputs": [],
   "source": [
    "L.extend([2,3,4])"
   ]
  },
  {
   "cell_type": "code",
   "execution_count": null,
   "id": "6ebcc4d0",
   "metadata": {
    "scrolled": true
   },
   "outputs": [],
   "source": [
    "L"
   ]
  },
  {
   "cell_type": "code",
   "execution_count": null,
   "id": "bebe0740",
   "metadata": {},
   "outputs": [],
   "source": [
    "a=[22,33,44]\n",
    "L.append(a)"
   ]
  },
  {
   "cell_type": "code",
   "execution_count": null,
   "id": "6947d279",
   "metadata": {
    "scrolled": true
   },
   "outputs": [],
   "source": [
    "L"
   ]
  },
  {
   "cell_type": "code",
   "execution_count": null,
   "id": "4edbca6f",
   "metadata": {},
   "outputs": [],
   "source": [
    "L1=[1,2,3]"
   ]
  },
  {
   "cell_type": "code",
   "execution_count": null,
   "id": "fdbba098",
   "metadata": {
    "scrolled": true
   },
   "outputs": [],
   "source": [
    "L1+[4]"
   ]
  },
  {
   "cell_type": "code",
   "execution_count": null,
   "id": "36f8761b",
   "metadata": {},
   "outputs": [],
   "source": [
    "L1+[1,2,3,4]"
   ]
  },
  {
   "cell_type": "code",
   "execution_count": null,
   "id": "25404a88",
   "metadata": {},
   "outputs": [],
   "source": [
    "L2=['a','b']\n",
    "L1+L2"
   ]
  },
  {
   "cell_type": "code",
   "execution_count": 283,
   "id": "8822eaff",
   "metadata": {},
   "outputs": [],
   "source": [
    "st=\"Ram is a good boy\"\n",
    "wrds=st.split()\n"
   ]
  },
  {
   "cell_type": "code",
   "execution_count": 284,
   "id": "1e5ee855",
   "metadata": {
    "scrolled": true
   },
   "outputs": [
    {
     "data": {
      "text/plain": [
       "['Ram', 'is', 'a', 'good', 'boy']"
      ]
     },
     "execution_count": 284,
     "metadata": {},
     "output_type": "execute_result"
    }
   ],
   "source": [
    "wrds"
   ]
  },
  {
   "cell_type": "code",
   "execution_count": 285,
   "id": "98b239dd",
   "metadata": {
    "scrolled": true
   },
   "outputs": [
    {
     "data": {
      "text/plain": [
       "list"
      ]
     },
     "execution_count": 285,
     "metadata": {},
     "output_type": "execute_result"
    }
   ],
   "source": [
    "type(wrds)"
   ]
  },
  {
   "cell_type": "code",
   "execution_count": 286,
   "id": "7ca4b8ea",
   "metadata": {},
   "outputs": [
    {
     "data": {
      "text/plain": [
       "str"
      ]
     },
     "execution_count": 286,
     "metadata": {},
     "output_type": "execute_result"
    }
   ],
   "source": [
    "type(st)"
   ]
  },
  {
   "cell_type": "code",
   "execution_count": 287,
   "id": "5c44badb",
   "metadata": {
    "scrolled": true
   },
   "outputs": [
    {
     "data": {
      "text/plain": [
       "[2, 4, 6, 8]"
      ]
     },
     "execution_count": 287,
     "metadata": {},
     "output_type": "execute_result"
    }
   ],
   "source": [
    "list(range(2,10,2))"
   ]
  },
  {
   "cell_type": "code",
   "execution_count": 288,
   "id": "c5215dab",
   "metadata": {
    "scrolled": false
   },
   "outputs": [
    {
     "data": {
      "text/plain": [
       "[['Ram'], ['is'], ['a'], ['good'], ['boy']]"
      ]
     },
     "execution_count": 288,
     "metadata": {},
     "output_type": "execute_result"
    }
   ],
   "source": [
    "[[w] for w in st.split()]"
   ]
  },
  {
   "cell_type": "code",
   "execution_count": 289,
   "id": "7c7e94da",
   "metadata": {},
   "outputs": [
    {
     "data": {
      "text/plain": [
       "3"
      ]
     },
     "execution_count": 289,
     "metadata": {},
     "output_type": "execute_result"
    }
   ],
   "source": [
    "L=[1,2,3,1,1,3]\n",
    "L.count(1)"
   ]
  },
  {
   "cell_type": "code",
   "execution_count": 290,
   "id": "d0d8a29f",
   "metadata": {},
   "outputs": [],
   "source": [
    "st1=\"Ram is a good boy .Sita is good girl\"\n",
    "\n",
    "wrds=st1.split()\n"
   ]
  },
  {
   "cell_type": "code",
   "execution_count": 291,
   "id": "f70d0153",
   "metadata": {
    "scrolled": true
   },
   "outputs": [
    {
     "data": {
      "text/plain": [
       "['Ram', 'is', 'a', 'good', 'boy', '.Sita', 'is', 'good', 'girl']"
      ]
     },
     "execution_count": 291,
     "metadata": {},
     "output_type": "execute_result"
    }
   ],
   "source": [
    "wrds"
   ]
  },
  {
   "cell_type": "code",
   "execution_count": null,
   "id": "c5a6b103",
   "metadata": {},
   "outputs": [],
   "source": [
    "wrds.count(\"is\")"
   ]
  },
  {
   "cell_type": "code",
   "execution_count": null,
   "id": "7b601702",
   "metadata": {},
   "outputs": [],
   "source": [
    "for w in wrds:\n",
    "    print(w,wrds.count(w))"
   ]
  },
  {
   "cell_type": "code",
   "execution_count": null,
   "id": "39c37948",
   "metadata": {
    "scrolled": true
   },
   "outputs": [],
   "source": [
    "[(w,wrds.count(w)) for w in wrds]"
   ]
  },
  {
   "cell_type": "code",
   "execution_count": null,
   "id": "5ede4e4e",
   "metadata": {},
   "outputs": [],
   "source": [
    "v=('ram',1)"
   ]
  },
  {
   "cell_type": "code",
   "execution_count": null,
   "id": "e3ac072c",
   "metadata": {
    "scrolled": true
   },
   "outputs": [],
   "source": [
    "type(v)"
   ]
  },
  {
   "cell_type": "code",
   "execution_count": null,
   "id": "e3fcbc7c",
   "metadata": {},
   "outputs": [],
   "source": [
    "v1=['ram',1]"
   ]
  },
  {
   "cell_type": "code",
   "execution_count": null,
   "id": "730e9234",
   "metadata": {
    "scrolled": true
   },
   "outputs": [],
   "source": [
    "type(v1)"
   ]
  },
  {
   "cell_type": "markdown",
   "id": "cc27f54f",
   "metadata": {},
   "source": [
    "## TUPLE ##\n",
    "### immutable\n",
    "##### collection of sequensial elements separeted by comma\n",
    "##### nested tuple"
   ]
  },
  {
   "cell_type": "code",
   "execution_count": null,
   "id": "8c18dff9",
   "metadata": {
    "scrolled": true
   },
   "outputs": [],
   "source": [
    " 2 in[1,2,3,4]\n"
   ]
  },
  {
   "cell_type": "code",
   "execution_count": null,
   "id": "aa33c07e",
   "metadata": {
    "scrolled": true
   },
   "outputs": [],
   "source": [
    "U=[]\n",
    "for w in wrds:\n",
    "    if not (w,wrds.count(w)) in U:\n",
    "        U.append ((w,wrds.count(w)))\n",
    "print(U)"
   ]
  },
  {
   "cell_type": "code",
   "execution_count": null,
   "id": "487967be",
   "metadata": {},
   "outputs": [],
   "source": [
    "L=[1,2,3]\n",
    "L.index(3)"
   ]
  },
  {
   "cell_type": "code",
   "execution_count": null,
   "id": "cd305161",
   "metadata": {
    "scrolled": true
   },
   "outputs": [],
   "source": [
    "U"
   ]
  },
  {
   "cell_type": "code",
   "execution_count": null,
   "id": "625b26bf",
   "metadata": {},
   "outputs": [],
   "source": [
    "U.remove(('good',2))"
   ]
  },
  {
   "cell_type": "code",
   "execution_count": null,
   "id": "b039206a",
   "metadata": {},
   "outputs": [],
   "source": [
    "U"
   ]
  },
  {
   "cell_type": "code",
   "execution_count": null,
   "id": "6a6aab3c",
   "metadata": {
    "scrolled": true
   },
   "outputs": [],
   "source": [
    "U.index(('good',2))"
   ]
  },
  {
   "cell_type": "code",
   "execution_count": null,
   "id": "74b4aceb",
   "metadata": {
    "scrolled": true
   },
   "outputs": [],
   "source": [
    "U.index(('Ram',1))"
   ]
  },
  {
   "cell_type": "code",
   "execution_count": null,
   "id": "1347b51d",
   "metadata": {},
   "outputs": [],
   "source": [
    "L.append(5)"
   ]
  },
  {
   "cell_type": "code",
   "execution_count": null,
   "id": "7a70f6b1",
   "metadata": {},
   "outputs": [],
   "source": [
    "L"
   ]
  },
  {
   "cell_type": "code",
   "execution_count": null,
   "id": "be58fd83",
   "metadata": {},
   "outputs": [],
   "source": [
    "L.insert(0,6)"
   ]
  },
  {
   "cell_type": "code",
   "execution_count": null,
   "id": "236155cf",
   "metadata": {
    "scrolled": true
   },
   "outputs": [],
   "source": [
    "L"
   ]
  },
  {
   "cell_type": "code",
   "execution_count": null,
   "id": "972c13f7",
   "metadata": {},
   "outputs": [],
   "source": [
    "L.insert(2,7)"
   ]
  },
  {
   "cell_type": "code",
   "execution_count": null,
   "id": "07259d5f",
   "metadata": {
    "scrolled": true
   },
   "outputs": [],
   "source": [
    "L"
   ]
  },
  {
   "cell_type": "code",
   "execution_count": null,
   "id": "ea4e3ded",
   "metadata": {
    "scrolled": true
   },
   "outputs": [],
   "source": [
    "L.pop()"
   ]
  },
  {
   "cell_type": "code",
   "execution_count": null,
   "id": "0825d968",
   "metadata": {},
   "outputs": [],
   "source": [
    "L"
   ]
  },
  {
   "cell_type": "code",
   "execution_count": null,
   "id": "604ab3b5",
   "metadata": {
    "scrolled": true
   },
   "outputs": [],
   "source": [
    "L.pop(0)"
   ]
  },
  {
   "cell_type": "code",
   "execution_count": null,
   "id": "7486a55f",
   "metadata": {
    "scrolled": true
   },
   "outputs": [],
   "source": [
    "L"
   ]
  },
  {
   "cell_type": "code",
   "execution_count": null,
   "id": "606660c5",
   "metadata": {},
   "outputs": [],
   "source": [
    "L.remove(3) #its remove perticular elemwnt"
   ]
  },
  {
   "cell_type": "code",
   "execution_count": null,
   "id": "d6d12388",
   "metadata": {},
   "outputs": [],
   "source": [
    "L"
   ]
  },
  {
   "cell_type": "code",
   "execution_count": null,
   "id": "1eb963f8",
   "metadata": {},
   "outputs": [],
   "source": [
    "L.remove(7)"
   ]
  },
  {
   "cell_type": "code",
   "execution_count": null,
   "id": "b0ff48e7",
   "metadata": {},
   "outputs": [],
   "source": [
    "L"
   ]
  },
  {
   "cell_type": "code",
   "execution_count": null,
   "id": "c5185577",
   "metadata": {},
   "outputs": [],
   "source": [
    "L.insert(2,4)"
   ]
  },
  {
   "cell_type": "code",
   "execution_count": null,
   "id": "6acee437",
   "metadata": {
    "scrolled": false
   },
   "outputs": [],
   "source": [
    "L"
   ]
  },
  {
   "cell_type": "code",
   "execution_count": null,
   "id": "5baa8f41",
   "metadata": {},
   "outputs": [],
   "source": [
    "L.insert(2,10)"
   ]
  },
  {
   "cell_type": "code",
   "execution_count": null,
   "id": "187a77c3",
   "metadata": {},
   "outputs": [],
   "source": [
    "L"
   ]
  },
  {
   "cell_type": "code",
   "execution_count": null,
   "id": "b90dd91a",
   "metadata": {
    "scrolled": true
   },
   "outputs": [],
   "source": [
    "L1"
   ]
  },
  {
   "cell_type": "code",
   "execution_count": null,
   "id": "8425903c",
   "metadata": {
    "scrolled": true
   },
   "outputs": [],
   "source": [
    "L1.reverse()\n",
    "L1"
   ]
  },
  {
   "cell_type": "code",
   "execution_count": null,
   "id": "b6aa24ec",
   "metadata": {
    "scrolled": false
   },
   "outputs": [],
   "source": [
    "L1[::-1]"
   ]
  },
  {
   "cell_type": "code",
   "execution_count": null,
   "id": "333146ce",
   "metadata": {},
   "outputs": [],
   "source": [
    "t=()"
   ]
  },
  {
   "cell_type": "code",
   "execution_count": null,
   "id": "434baa3a",
   "metadata": {},
   "outputs": [],
   "source": [
    "t=(1,2,3,4)"
   ]
  },
  {
   "cell_type": "code",
   "execution_count": null,
   "id": "8980061d",
   "metadata": {},
   "outputs": [],
   "source": [
    "t=(\"a\",\"b\",\"c\")"
   ]
  },
  {
   "cell_type": "code",
   "execution_count": null,
   "id": "614135d8",
   "metadata": {
    "scrolled": true
   },
   "outputs": [],
   "source": [
    "t"
   ]
  },
  {
   "cell_type": "code",
   "execution_count": null,
   "id": "0e05391c",
   "metadata": {},
   "outputs": [],
   "source": [
    "t=(1,(2,(3)))"
   ]
  },
  {
   "cell_type": "code",
   "execution_count": null,
   "id": "9fdac0a6",
   "metadata": {},
   "outputs": [],
   "source": [
    "t"
   ]
  },
  {
   "cell_type": "code",
   "execution_count": null,
   "id": "3a570f30",
   "metadata": {},
   "outputs": [],
   "source": [
    "y=(2,3)\n",
    "x,z=y"
   ]
  },
  {
   "cell_type": "code",
   "execution_count": null,
   "id": "406d0766",
   "metadata": {},
   "outputs": [],
   "source": [
    "x"
   ]
  },
  {
   "cell_type": "code",
   "execution_count": null,
   "id": "04d66974",
   "metadata": {},
   "outputs": [],
   "source": []
  },
  {
   "cell_type": "code",
   "execution_count": null,
   "id": "9270591d",
   "metadata": {},
   "outputs": [],
   "source": [
    "N=()"
   ]
  },
  {
   "cell_type": "code",
   "execution_count": null,
   "id": "281c7edf",
   "metadata": {
    "scrolled": true
   },
   "outputs": [],
   "source": [
    "type(t)"
   ]
  },
  {
   "cell_type": "code",
   "execution_count": null,
   "id": "ee177984",
   "metadata": {
    "scrolled": true
   },
   "outputs": [],
   "source": [
    "t"
   ]
  },
  {
   "cell_type": "code",
   "execution_count": null,
   "id": "26dcfab0",
   "metadata": {
    "scrolled": false
   },
   "outputs": [],
   "source": [
    "t*2"
   ]
  },
  {
   "cell_type": "code",
   "execution_count": null,
   "id": "fd5531ff",
   "metadata": {},
   "outputs": [],
   "source": [
    "t1=()\n",
    "type(t1)"
   ]
  },
  {
   "cell_type": "code",
   "execution_count": null,
   "id": "f5db7236",
   "metadata": {
    "scrolled": true
   },
   "outputs": [],
   "source": [
    "t1=(1,)\n",
    "type(t1)"
   ]
  },
  {
   "cell_type": "code",
   "execution_count": null,
   "id": "448780cb",
   "metadata": {
    "scrolled": true
   },
   "outputs": [],
   "source": [
    "t1=(1)\n",
    "type(t1)"
   ]
  },
  {
   "cell_type": "code",
   "execution_count": null,
   "id": "64075224",
   "metadata": {},
   "outputs": [],
   "source": [
    "t=(3,5,6)"
   ]
  },
  {
   "cell_type": "code",
   "execution_count": null,
   "id": "0acf08f0",
   "metadata": {
    "scrolled": true
   },
   "outputs": [],
   "source": [
    "t[1]"
   ]
  },
  {
   "cell_type": "code",
   "execution_count": null,
   "id": "08a8cf6c",
   "metadata": {
    "scrolled": true
   },
   "outputs": [],
   "source": [
    "t[::-1]"
   ]
  },
  {
   "cell_type": "code",
   "execution_count": null,
   "id": "612b6072",
   "metadata": {},
   "outputs": [],
   "source": [
    "del t"
   ]
  },
  {
   "cell_type": "code",
   "execution_count": null,
   "id": "865ef219",
   "metadata": {},
   "outputs": [],
   "source": [
    "t"
   ]
  },
  {
   "cell_type": "code",
   "execution_count": null,
   "id": "840db7c5",
   "metadata": {
    "scrolled": true
   },
   "outputs": [],
   "source": [
    "U"
   ]
  },
  {
   "cell_type": "code",
   "execution_count": null,
   "id": "9307aae0",
   "metadata": {},
   "outputs": [],
   "source": [
    "L=[1,2,3]\n",
    "L[0]=6"
   ]
  },
  {
   "cell_type": "code",
   "execution_count": null,
   "id": "b774e768",
   "metadata": {
    "scrolled": true
   },
   "outputs": [],
   "source": [
    "L"
   ]
  },
  {
   "cell_type": "code",
   "execution_count": null,
   "id": "96f24be2",
   "metadata": {},
   "outputs": [],
   "source": [
    "t=tuple(L)"
   ]
  },
  {
   "cell_type": "code",
   "execution_count": null,
   "id": "e1d5bb94",
   "metadata": {
    "scrolled": true
   },
   "outputs": [],
   "source": [
    "t"
   ]
  },
  {
   "cell_type": "code",
   "execution_count": null,
   "id": "2cd5e802",
   "metadata": {},
   "outputs": [],
   "source": [
    "t[0]=7"
   ]
  },
  {
   "cell_type": "code",
   "execution_count": null,
   "id": "cf16155a",
   "metadata": {},
   "outputs": [],
   "source": [
    "t=('cdac',)\n",
    "type(t)"
   ]
  },
  {
   "cell_type": "code",
   "execution_count": null,
   "id": "176ba38e",
   "metadata": {},
   "outputs": [],
   "source": [
    "n=6"
   ]
  },
  {
   "cell_type": "code",
   "execution_count": null,
   "id": "8e2341ac",
   "metadata": {},
   "outputs": [],
   "source": [
    "t1=(1,)"
   ]
  },
  {
   "cell_type": "code",
   "execution_count": null,
   "id": "94c35d6d",
   "metadata": {},
   "outputs": [],
   "source": [
    "t1=(t1,)"
   ]
  },
  {
   "cell_type": "code",
   "execution_count": null,
   "id": "0bd70db1",
   "metadata": {
    "scrolled": true
   },
   "outputs": [],
   "source": [
    "t1"
   ]
  },
  {
   "cell_type": "code",
   "execution_count": null,
   "id": "cd9b5455",
   "metadata": {
    "scrolled": true
   },
   "outputs": [],
   "source": [
    "for i in range(n):\n",
    "    t=(t,)\n",
    "    print(t)"
   ]
  },
  {
   "cell_type": "code",
   "execution_count": null,
   "id": "53235970",
   "metadata": {
    "scrolled": true
   },
   "outputs": [],
   "source": [
    "\n",
    "#print(s1)"
   ]
  },
  {
   "cell_type": "code",
   "execution_count": null,
   "id": "27b30f61",
   "metadata": {
    "scrolled": true
   },
   "outputs": [],
   "source": [
    "i=input()\n",
    "j=input()\n",
    "i+j"
   ]
  },
  {
   "cell_type": "code",
   "execution_count": null,
   "id": "06cd2f66",
   "metadata": {},
   "outputs": [],
   "source": [
    "n = int(input())\n",
    "for i in range(1,n+1):\n",
    "    print(i,end=\"\")"
   ]
  },
  {
   "cell_type": "code",
   "execution_count": null,
   "id": "43c10d46",
   "metadata": {},
   "outputs": [],
   "source": [
    "set(['HackerRank'])\n",
    "str."
   ]
  },
  {
   "cell_type": "code",
   "execution_count": null,
   "id": "51ed204b",
   "metadata": {},
   "outputs": [],
   "source": [
    "def swap_case(s):\n",
    "    s=input()\n",
    "    s.swapcase()\n",
    "    return\n",
    "swap_case(\"Suraj\")"
   ]
  },
  {
   "cell_type": "markdown",
   "id": "3eba7270",
   "metadata": {},
   "source": [
    "            ### Date 18-11-2022\n",
    "# SET In Python\n",
    "#### set is denoted by using {} \n",
    "- All OBJECTS ARE UNIQUE \n",
    "- here is not repeated value\n",
    "\n",
    "> 1.normal set\n",
    "\n",
    "> 2.Frozen set\n",
    "\n",
    "> 1.Normal set\n",
    " - Unique elements\n",
    " - Iterable\n",
    " - Mutable\n",
    " - Unorder\n",
    " \n",
    "> 2.Frozen Set\n",
    " - immutable only one is not there\n",
    "  "
   ]
  },
  {
   "cell_type": "code",
   "execution_count": null,
   "id": "acf7fb14",
   "metadata": {
    "scrolled": true
   },
   "outputs": [],
   "source": [
    "L=[]\n",
    "L1=[1,1,2,3,4,2]\n",
    "for l in L1:\n",
    "    if l not in L:\n",
    "        L.append(l)\n",
    "print(L)"
   ]
  },
  {
   "cell_type": "code",
   "execution_count": null,
   "id": "16a7ee6e",
   "metadata": {
    "scrolled": true
   },
   "outputs": [],
   "source": [
    "L1"
   ]
  },
  {
   "cell_type": "code",
   "execution_count": null,
   "id": "2e069264",
   "metadata": {
    "scrolled": true
   },
   "outputs": [],
   "source": [
    "set(L1)"
   ]
  },
  {
   "cell_type": "code",
   "execution_count": null,
   "id": "6ee82077",
   "metadata": {},
   "outputs": [],
   "source": [
    "L2=[5,5,6,7,8,5]"
   ]
  },
  {
   "cell_type": "code",
   "execution_count": null,
   "id": "d989286a",
   "metadata": {
    "scrolled": true
   },
   "outputs": [],
   "source": [
    "L1+L2"
   ]
  },
  {
   "cell_type": "code",
   "execution_count": null,
   "id": "e346ea66",
   "metadata": {
    "scrolled": true
   },
   "outputs": [],
   "source": [
    "set(L1+L2)"
   ]
  },
  {
   "cell_type": "code",
   "execution_count": null,
   "id": "6e278c5a",
   "metadata": {},
   "outputs": [],
   "source": [
    "set(L1)"
   ]
  },
  {
   "cell_type": "code",
   "execution_count": null,
   "id": "ee833021",
   "metadata": {
    "scrolled": true
   },
   "outputs": [],
   "source": [
    "set(L2)"
   ]
  },
  {
   "cell_type": "code",
   "execution_count": null,
   "id": "92363ec8",
   "metadata": {
    "scrolled": true
   },
   "outputs": [],
   "source": [
    "#convert set to list\n",
    "list(set(L1) | set(L2))"
   ]
  },
  {
   "cell_type": "code",
   "execution_count": null,
   "id": "7d7378d4",
   "metadata": {
    "scrolled": true
   },
   "outputs": [],
   "source": [
    "# - UNION OF SET\n",
    "set(L1) | set(L2)"
   ]
  },
  {
   "cell_type": "code",
   "execution_count": null,
   "id": "4604c1d6",
   "metadata": {},
   "outputs": [],
   "source": [
    "# - HERE IS CREATING EMPTY SET\n",
    "myset= set()"
   ]
  },
  {
   "cell_type": "code",
   "execution_count": null,
   "id": "fcd044b1",
   "metadata": {
    "scrolled": true
   },
   "outputs": [],
   "source": [
    "type(myset)"
   ]
  },
  {
   "cell_type": "code",
   "execution_count": null,
   "id": "c92ff792",
   "metadata": {},
   "outputs": [],
   "source": [
    "myset = set([\"ram\",\"raj\",\"sita\",1,2.6])"
   ]
  },
  {
   "cell_type": "code",
   "execution_count": null,
   "id": "dfffeb39",
   "metadata": {
    "scrolled": true
   },
   "outputs": [],
   "source": [
    "myset"
   ]
  },
  {
   "cell_type": "code",
   "execution_count": null,
   "id": "71a8906c",
   "metadata": {},
   "outputs": [],
   "source": [
    "S=set([5,4,\"hi\",2,\"apple\"])"
   ]
  },
  {
   "cell_type": "code",
   "execution_count": null,
   "id": "f8b53009",
   "metadata": {
    "scrolled": true
   },
   "outputs": [],
   "source": [
    "# - Unorder ddtaset\n",
    "L"
   ]
  },
  {
   "cell_type": "code",
   "execution_count": null,
   "id": "e3efe194",
   "metadata": {},
   "outputs": [],
   "source": [
    "L=[5,4,\"hi\",2,\"apple\"]"
   ]
  },
  {
   "cell_type": "code",
   "execution_count": null,
   "id": "1a202648",
   "metadata": {
    "scrolled": true
   },
   "outputs": [],
   "source": [
    "2 in L"
   ]
  },
  {
   "cell_type": "code",
   "execution_count": null,
   "id": "704962e6",
   "metadata": {},
   "outputs": [],
   "source": [
    "2 in S"
   ]
  },
  {
   "cell_type": "code",
   "execution_count": null,
   "id": "05522105",
   "metadata": {
    "scrolled": true
   },
   "outputs": [],
   "source": [
    "#  set - UNwanted collection of datatype\n",
    "S[0]"
   ]
  },
  {
   "cell_type": "code",
   "execution_count": null,
   "id": "bc4ad1cf",
   "metadata": {
    "scrolled": true
   },
   "outputs": [],
   "source": [
    "%timeit range(100)"
   ]
  },
  {
   "cell_type": "code",
   "execution_count": null,
   "id": "114574ca",
   "metadata": {
    "scrolled": false
   },
   "outputs": [],
   "source": [
    "%timeit [i*j for i in range(10000) for j in range(10000)]"
   ]
  },
  {
   "cell_type": "code",
   "execution_count": null,
   "id": "7d01205f",
   "metadata": {},
   "outputs": [],
   "source": [
    "l=[]\n",
    "for i in range(1000):\n",
    "    for j in range(1000):\n",
    "        l.append(i*j)"
   ]
  },
  {
   "cell_type": "code",
   "execution_count": null,
   "id": "8ff69708",
   "metadata": {},
   "outputs": [],
   "source": [
    "L1=list(range(10000))"
   ]
  },
  {
   "cell_type": "code",
   "execution_count": null,
   "id": "8de8d217",
   "metadata": {
    "scrolled": true
   },
   "outputs": [],
   "source": [
    "date=int(input(\"Enter a dd/mm/yyyy Date:\"))\n",
    "DATE=[]\n",
    "DATE=date.split(\"/\")\n",
    "print(DATE)\n",
    "if(0<DATE[0]<=31):\n",
    "    if 12>=DATE[1]>0:\n",
    "        if 10000>DATE[2]>0:\n",
    "            print(\"DATE is Valid\")\n",
    "    "
   ]
  },
  {
   "cell_type": "markdown",
   "id": "ad788387",
   "metadata": {},
   "source": [
    "   ###  21-11-2022\n",
    "\n",
    "# Dictionary \n",
    "  - it is datatype contain key and values.\n",
    "  - it denoted by = {} \n",
    "  - {key:values}\n",
    "  - update values using key values.\n",
    "  - immutable object can be 'key' of dictionary\n",
    "  - exmple of creating empty dictionary var = {} <- creating empty.\n",
    "  - mutable object are 'values' of dictionary."
   ]
  },
  {
   "cell_type": "code",
   "execution_count": null,
   "id": "3b79a705",
   "metadata": {},
   "outputs": [],
   "source": [
    "D={}"
   ]
  },
  {
   "cell_type": "code",
   "execution_count": null,
   "id": "cfcad934",
   "metadata": {},
   "outputs": [],
   "source": [
    "type(D)"
   ]
  },
  {
   "cell_type": "code",
   "execution_count": null,
   "id": "94e798aa",
   "metadata": {},
   "outputs": [],
   "source": [
    "Menu = {\n",
    "    \"ham\":23,\n",
    "    \"boiled egg\":20,\n",
    "    \"magi\":10  \n",
    "}"
   ]
  },
  {
   "cell_type": "code",
   "execution_count": null,
   "id": "eefac30d",
   "metadata": {},
   "outputs": [],
   "source": [
    "Menu[\"ham\"]"
   ]
  },
  {
   "cell_type": "code",
   "execution_count": null,
   "id": "564568b0",
   "metadata": {
    "scrolled": true
   },
   "outputs": [],
   "source": [
    "Menu[\"boiled egg\"]"
   ]
  },
  {
   "cell_type": "code",
   "execution_count": null,
   "id": "82c841fe",
   "metadata": {},
   "outputs": [],
   "source": [
    "Menu[\"Boiled egg\"]"
   ]
  },
  {
   "cell_type": "code",
   "execution_count": null,
   "id": "c9cf20cf",
   "metadata": {},
   "outputs": [],
   "source": [
    "Student = {\n",
    "    1:\"Ram\",\n",
    "    2:\"sita\",\n",
    "    3:\"Ravan\",\n",
    "    1:\"Krishna\"\n",
    "}"
   ]
  },
  {
   "cell_type": "code",
   "execution_count": null,
   "id": "a84b0395",
   "metadata": {
    "scrolled": true
   },
   "outputs": [],
   "source": [
    "Student[1]"
   ]
  },
  {
   "cell_type": "code",
   "execution_count": null,
   "id": "54099eb1",
   "metadata": {
    "scrolled": true
   },
   "outputs": [],
   "source": [
    "Student"
   ]
  },
  {
   "cell_type": "code",
   "execution_count": null,
   "id": "692ce087",
   "metadata": {},
   "outputs": [],
   "source": [
    "Student[1]=\"Krishna\""
   ]
  },
  {
   "cell_type": "code",
   "execution_count": null,
   "id": "d2e7ab1f",
   "metadata": {},
   "outputs": [],
   "source": [
    "Student"
   ]
  },
  {
   "cell_type": "code",
   "execution_count": null,
   "id": "d2270e3b",
   "metadata": {},
   "outputs": [],
   "source": [
    "Student={\n",
    "    (1,\"Ram\") : \"CSE\",\n",
    "    (2,\"Sita\") : \"IT\",\n",
    "    (3,\"Krishna\"): \"CSE\",\n",
    "    4 : [\"Rahim\",\"IT\"]\n",
    "}"
   ]
  },
  {
   "cell_type": "code",
   "execution_count": null,
   "id": "f1a6f2be",
   "metadata": {},
   "outputs": [],
   "source": [
    "Student[4]"
   ]
  },
  {
   "cell_type": "code",
   "execution_count": null,
   "id": "f8af2ec4",
   "metadata": {},
   "outputs": [],
   "source": [
    "Student[(1,\"Ram\")]"
   ]
  },
  {
   "cell_type": "code",
   "execution_count": null,
   "id": "b622f095",
   "metadata": {},
   "outputs": [],
   "source": [
    "Student={\n",
    "    (1,\"Ram\") : \"CSE\",\n",
    "    (2,\"Sita\") : \"ECE\",\n",
    "    (3,\"Ravan\"): \"IT\",\n",
    "    (1,\"Krishna\"):\"CSE\",\n",
    "    4 : [\"Rahim\",\"IT\"],\n",
    "    5 : {\"a\":100,\"b\":200}\n",
    "}"
   ]
  },
  {
   "cell_type": "code",
   "execution_count": null,
   "id": "c72e036e",
   "metadata": {
    "scrolled": true
   },
   "outputs": [],
   "source": [
    "len(Student)"
   ]
  },
  {
   "cell_type": "code",
   "execution_count": null,
   "id": "de974fd7",
   "metadata": {},
   "outputs": [],
   "source": [
    "len(Student[5])"
   ]
  },
  {
   "cell_type": "code",
   "execution_count": null,
   "id": "c7d417d5",
   "metadata": {},
   "outputs": [],
   "source": [
    "del Student[5]"
   ]
  },
  {
   "cell_type": "code",
   "execution_count": null,
   "id": "15b163fb",
   "metadata": {},
   "outputs": [],
   "source": [
    "Student"
   ]
  },
  {
   "cell_type": "code",
   "execution_count": null,
   "id": "c1cb2320",
   "metadata": {},
   "outputs": [],
   "source": [
    "3 in [1,2,3,4]"
   ]
  },
  {
   "cell_type": "code",
   "execution_count": null,
   "id": "ce27aae4",
   "metadata": {},
   "outputs": [],
   "source": [
    "(2,'Sita') in Student"
   ]
  },
  {
   "cell_type": "code",
   "execution_count": null,
   "id": "b4ca6bce",
   "metadata": {},
   "outputs": [],
   "source": [
    "2 in Student"
   ]
  },
  {
   "cell_type": "code",
   "execution_count": null,
   "id": "ff94ca68",
   "metadata": {},
   "outputs": [],
   "source": [
    "Student"
   ]
  },
  {
   "cell_type": "code",
   "execution_count": null,
   "id": "254167e4",
   "metadata": {},
   "outputs": [],
   "source": [
    "'Ram' in Student[4]"
   ]
  },
  {
   "cell_type": "code",
   "execution_count": null,
   "id": "89082e79",
   "metadata": {},
   "outputs": [],
   "source": [
    "import copy\n",
    "newStudent = copy.deepcopy(Student)"
   ]
  },
  {
   "cell_type": "code",
   "execution_count": null,
   "id": "5937a2ed",
   "metadata": {},
   "outputs": [],
   "source": [
    "newStudent[(1,'Ram')]='ECE'"
   ]
  },
  {
   "cell_type": "code",
   "execution_count": null,
   "id": "a31b5d5e",
   "metadata": {
    "scrolled": true
   },
   "outputs": [],
   "source": [
    "newStudent"
   ]
  },
  {
   "cell_type": "code",
   "execution_count": null,
   "id": "9e7e0d2b",
   "metadata": {
    "scrolled": true
   },
   "outputs": [],
   "source": [
    "Student"
   ]
  },
  {
   "cell_type": "code",
   "execution_count": null,
   "id": "9493f240",
   "metadata": {},
   "outputs": [],
   "source": [
    "Student.clear()"
   ]
  },
  {
   "cell_type": "code",
   "execution_count": null,
   "id": "6f7dc513",
   "metadata": {},
   "outputs": [],
   "source": [
    "Student"
   ]
  },
  {
   "cell_type": "code",
   "execution_count": null,
   "id": "586acc0f",
   "metadata": {},
   "outputs": [],
   "source": [
    "newStudent"
   ]
  },
  {
   "cell_type": "code",
   "execution_count": null,
   "id": "5a88ea5b",
   "metadata": {},
   "outputs": [],
   "source": [
    "del Student"
   ]
  },
  {
   "cell_type": "code",
   "execution_count": null,
   "id": "8fb95781",
   "metadata": {},
   "outputs": [],
   "source": [
    "Student"
   ]
  },
  {
   "cell_type": "code",
   "execution_count": null,
   "id": "1a8712c7",
   "metadata": {},
   "outputs": [],
   "source": [
    "Dict={\n",
    "    1:\"a\",\n",
    "    2:\"b\"\n",
    "}\n",
    "\n",
    "Dict2={\n",
    "    1: \"c\",\n",
    "    3: \"d\",\n",
    "    4: \"e\"\n",
    "}"
   ]
  },
  {
   "cell_type": "code",
   "execution_count": null,
   "id": "06da27a3",
   "metadata": {},
   "outputs": [],
   "source": [
    "Dict.update(Dict2)"
   ]
  },
  {
   "cell_type": "code",
   "execution_count": null,
   "id": "3a6d4dbf",
   "metadata": {},
   "outputs": [],
   "source": [
    "Dict"
   ]
  },
  {
   "cell_type": "code",
   "execution_count": null,
   "id": "3b9f35b1",
   "metadata": {},
   "outputs": [],
   "source": [
    "Dict2.update(Dict)"
   ]
  },
  {
   "cell_type": "code",
   "execution_count": null,
   "id": "7c749a34",
   "metadata": {},
   "outputs": [],
   "source": [
    "Dict2"
   ]
  },
  {
   "cell_type": "code",
   "execution_count": null,
   "id": "1a53be96",
   "metadata": {},
   "outputs": [],
   "source": [
    "L=[1,2,3,4,5]"
   ]
  },
  {
   "cell_type": "code",
   "execution_count": null,
   "id": "7b517362",
   "metadata": {},
   "outputs": [],
   "source": [
    "for i in L:\n",
    "    print(i)"
   ]
  },
  {
   "cell_type": "code",
   "execution_count": null,
   "id": "0de01db8",
   "metadata": {},
   "outputs": [],
   "source": [
    "for i in Dict2:\n",
    "    print(i)"
   ]
  },
  {
   "cell_type": "code",
   "execution_count": null,
   "id": "eef44b65",
   "metadata": {},
   "outputs": [],
   "source": [
    "for i in Dict2:\n",
    "    print(Dict[i])"
   ]
  },
  {
   "cell_type": "code",
   "execution_count": null,
   "id": "7fd2d9fb",
   "metadata": {
    "scrolled": true
   },
   "outputs": [],
   "source": [
    "for i in Dict2:\n",
    "    print(i,Dict[i])"
   ]
  },
  {
   "cell_type": "code",
   "execution_count": null,
   "id": "4dcdbdb9",
   "metadata": {
    "scrolled": true
   },
   "outputs": [],
   "source": [
    "for i in Dict2:\n",
    "    print(\"key={%s},Value={%s}\"%(i,Dict2[i]))"
   ]
  },
  {
   "cell_type": "code",
   "execution_count": null,
   "id": "bf961fb3",
   "metadata": {},
   "outputs": [],
   "source": [
    "Dict2.keys()"
   ]
  },
  {
   "cell_type": "code",
   "execution_count": null,
   "id": "2c3c6eb6",
   "metadata": {},
   "outputs": [],
   "source": [
    "Dict2.values()"
   ]
  },
  {
   "cell_type": "code",
   "execution_count": null,
   "id": "262af4ee",
   "metadata": {
    "scrolled": true
   },
   "outputs": [],
   "source": [
    "for k in Dict2.keys():\n",
    "    print(k)"
   ]
  },
  {
   "cell_type": "code",
   "execution_count": null,
   "id": "953d859f",
   "metadata": {},
   "outputs": [],
   "source": [
    "for k in Dict.values():\n",
    "    print(k)"
   ]
  },
  {
   "cell_type": "code",
   "execution_count": null,
   "id": "edb28734",
   "metadata": {
    "scrolled": true
   },
   "outputs": [],
   "source": [
    "for k in Dict2.keys():\n",
    "    print(k,Dict[k])"
   ]
  },
  {
   "cell_type": "code",
   "execution_count": null,
   "id": "ca1b8899",
   "metadata": {},
   "outputs": [],
   "source": [
    "Dict2.items()"
   ]
  },
  {
   "cell_type": "code",
   "execution_count": null,
   "id": "f0a00bf0",
   "metadata": {},
   "outputs": [],
   "source": [
    "Dict2"
   ]
  },
  {
   "cell_type": "code",
   "execution_count": null,
   "id": "aff8bc41",
   "metadata": {},
   "outputs": [],
   "source": [
    "for k,v in Dict.items():\n",
    "    print(k,v)"
   ]
  },
  {
   "cell_type": "code",
   "execution_count": null,
   "id": "3d1b9ae0",
   "metadata": {},
   "outputs": [],
   "source": [
    "Student_ids = [100,101,102,103,104]\n",
    "Student_names=[\"Ram\",\"Sita\",\"Ravan\",\"Krishna\",\"Rahim\"]"
   ]
  },
  {
   "cell_type": "code",
   "execution_count": null,
   "id": "83cec8bd",
   "metadata": {},
   "outputs": [],
   "source": [
    "len(Student_ids)"
   ]
  },
  {
   "cell_type": "code",
   "execution_count": null,
   "id": "0f847e41",
   "metadata": {},
   "outputs": [],
   "source": [
    "len(Student_names)"
   ]
  },
  {
   "cell_type": "code",
   "execution_count": null,
   "id": "9352a11d",
   "metadata": {},
   "outputs": [],
   "source": [
    "zip??\n",
    "#zip is use to bind the low listd as well as two dictionary"
   ]
  },
  {
   "cell_type": "code",
   "execution_count": 2,
   "id": "ae116f68",
   "metadata": {
    "scrolled": true
   },
   "outputs": [
    {
     "data": {
      "text/plain": [
       "[(1, 4), (2, 5), (3, 6)]"
      ]
     },
     "execution_count": 2,
     "metadata": {},
     "output_type": "execute_result"
    }
   ],
   "source": [
    "L=[1,2,3]\n",
    "L1=[4,5,6]\n",
    "list(zip(L,L1))"
   ]
  },
  {
   "cell_type": "code",
   "execution_count": null,
   "id": "63937c44",
   "metadata": {},
   "outputs": [],
   "source": [
    "d=list(zip(Student_ids,Student_names))"
   ]
  },
  {
   "cell_type": "code",
   "execution_count": null,
   "id": "b3e9c0e2",
   "metadata": {},
   "outputs": [],
   "source": [
    "Std=dict(d)"
   ]
  },
  {
   "cell_type": "code",
   "execution_count": null,
   "id": "4fe91387",
   "metadata": {
    "scrolled": true
   },
   "outputs": [],
   "source": [
    "Std"
   ]
  },
  {
   "cell_type": "code",
   "execution_count": null,
   "id": "c1935cbd",
   "metadata": {},
   "outputs": [],
   "source": [
    "Std[104]"
   ]
  },
  {
   "cell_type": "code",
   "execution_count": null,
   "id": "8ae2b13d",
   "metadata": {},
   "outputs": [],
   "source": [
    "Student_ids[-1]"
   ]
  },
  {
   "cell_type": "code",
   "execution_count": null,
   "id": "83594222",
   "metadata": {
    "scrolled": true
   },
   "outputs": [],
   "source": [
    "Student_names[-1]"
   ]
  },
  {
   "cell_type": "code",
   "execution_count": null,
   "id": "2739f7d1",
   "metadata": {
    "scrolled": true
   },
   "outputs": [],
   "source": [
    "list(zip(student_ids,student_names))"
   ]
  },
  {
   "cell_type": "code",
   "execution_count": null,
   "id": "3c966b79",
   "metadata": {
    "scrolled": true
   },
   "outputs": [],
   "source": [
    "d=list(zip(studnt_ids,student_namesb))\n",
    "Std=dict(d)\n"
   ]
  },
  {
   "cell_type": "code",
   "execution_count": null,
   "id": "6a0544b7",
   "metadata": {},
   "outputs": [],
   "source": [
    "st= \"Ram is a good boy . sita is good gorl . rahim is good men\""
   ]
  },
  {
   "cell_type": "code",
   "execution_count": null,
   "id": "db831968",
   "metadata": {},
   "outputs": [],
   "source": [
    "wds=st.split()"
   ]
  },
  {
   "cell_type": "code",
   "execution_count": null,
   "id": "a7f3ba2f",
   "metadata": {
    "scrolled": true
   },
   "outputs": [],
   "source": [
    "wds"
   ]
  },
  {
   "cell_type": "code",
   "execution_count": null,
   "id": "5d89bbf8",
   "metadata": {
    "scrolled": true
   },
   "outputs": [],
   "source": [
    "d={}\n",
    "for w in wds:\n",
    "    if w not in d:\n",
    "        d[w]=1\n",
    "    else:\n",
    "        d[w]+=1\n",
    "print(d)\n",
    "        "
   ]
  },
  {
   "cell_type": "code",
   "execution_count": null,
   "id": "28e1a51e",
   "metadata": {
    "scrolled": true
   },
   "outputs": [],
   "source": [
    "Dict = {\n",
    "    \"a\" : [\"c\"],\n",
    "    \"b\" : [\"c\",\"e\"],\n",
    "    \"c\" : [\"a\",\"b\",\"d\",\"e\"],\n",
    "    \"d\" : [\"c\"],\n",
    "    \"e\" : [\"c\",\"b\"],\n",
    "    \"f\" : []\n",
    "}\n",
    "print(Dict)"
   ]
  },
  {
   "cell_type": "code",
   "execution_count": null,
   "id": "52000afb",
   "metadata": {
    "scrolled": true
   },
   "outputs": [],
   "source": [
    "dic11={'a':('c'),\n",
    "       'b':('c','e'),\n",
    "       'c':('a','b','d','e'),\n",
    "       'd':('c'),\n",
    "       'e':('c','b'),\n",
    "       'f':()\n",
    "       }\n",
    "for i in dic11:\n",
    "    print([i,dic11[i]])"
   ]
  },
  {
   "cell_type": "code",
   "execution_count": null,
   "id": "9adcda62",
   "metadata": {},
   "outputs": [],
   "source": [
    "graph = {\"a\":[\"c\"],\n",
    "          \"b\":[\"c\",\"e\"],\n",
    "          \"c\":[\"a\",\"b\",\"d\",\"e\"],\n",
    "         \"d\":[\"c\"],\n",
    "         \"e\":[\"c\",\"b\"],\n",
    "         \"f\":[]\n",
    "         }"
   ]
  },
  {
   "cell_type": "code",
   "execution_count": null,
   "id": "8d6fd08f",
   "metadata": {},
   "outputs": [],
   "source": [
    "edges = []\n",
    "for node in graph:\n",
    "    for neighbour in  graph[node]:\n",
    "        edges.append((node,neighbour))"
   ]
  },
  {
   "cell_type": "code",
   "execution_count": null,
   "id": "6f3c002b",
   "metadata": {
    "scrolled": true
   },
   "outputs": [],
   "source": [
    "edges"
   ]
  },
  {
   "cell_type": "markdown",
   "id": "75e76457",
   "metadata": {},
   "source": [
    "### File Handling In Python\n",
    "> creating file in system"
   ]
  },
  {
   "cell_type": "code",
   "execution_count": 1,
   "id": "37f0e73f",
   "metadata": {},
   "outputs": [],
   "source": [
    "path=\"D:/test.txt\"\n",
    "#default mode id read\n",
    "#(r\"this is raw string\")\n",
    "fp = open(path,\"w\") # \"w\"=write in file \n",
    "\n",
    "fp.write(\"12548 \\n ymdmkmklfmkl\")\n",
    "#print(fp.read())\n",
    "fp.close()"
   ]
  },
  {
   "cell_type": "code",
   "execution_count": null,
   "id": "39d3ef33",
   "metadata": {},
   "outputs": [],
   "source": [
    "open?"
   ]
  },
  {
   "cell_type": "code",
   "execution_count": 2,
   "id": "21f1e8f8",
   "metadata": {},
   "outputs": [
    {
     "name": "stdout",
     "output_type": "stream",
     "text": [
      "12548 \n",
      " ymdmkmklfmkl\n"
     ]
    }
   ],
   "source": [
    "path=\"D:/test.txt\"\n",
    "fp = open(path,\"r\")\n",
    "\n",
    "print(fp.read())\n",
    "\n",
    "fp.close()"
   ]
  },
  {
   "cell_type": "code",
   "execution_count": 3,
   "id": "311f36fe",
   "metadata": {
    "scrolled": true
   },
   "outputs": [
    {
     "name": "stdout",
     "output_type": "stream",
     "text": [
      "Jitendra\n",
      "\n",
      "Pooja\n",
      "\n",
      "Rohit\n",
      "\n",
      "ShilpiSuraj\n",
      "\n",
      "Umang\n",
      "\n"
     ]
    }
   ],
   "source": [
    "path=\"D:/test.txt\"\n",
    "fp = open(path,\"r\")\n",
    "\n",
    "for c in fp:\n",
    "    print(c)#striping extra \\n\n",
    "\n",
    "fp.close()"
   ]
  },
  {
   "cell_type": "code",
   "execution_count": 9,
   "id": "59fce030",
   "metadata": {
    "scrolled": true
   },
   "outputs": [],
   "source": [
    "path=\"D:/test.txt\"\n",
    "fp = open(path,\"w\")\n",
    "fp.write(\"102\\tram\\t232423\\t6.7\")\n",
    "fp.close()"
   ]
  },
  {
   "cell_type": "code",
   "execution_count": 12,
   "id": "4d622df2",
   "metadata": {},
   "outputs": [
    {
     "name": "stdout",
     "output_type": "stream",
     "text": [
      "102\tram\t232423\t6.7\n",
      "\n"
     ]
    }
   ],
   "source": [
    "fp1=open(path,\"r\")\n",
    "print(fp1.read())\n",
    "fp1.close()"
   ]
  },
  {
   "cell_type": "code",
   "execution_count": 13,
   "id": "6fdcd4bf",
   "metadata": {
    "scrolled": true
   },
   "outputs": [
    {
     "name": "stdout",
     "output_type": "stream",
     "text": [
      "102\n",
      "ram\n",
      "232423\n",
      "6.7\n",
      "\n"
     ]
    }
   ],
   "source": [
    "path=\"D:/test.txt\"\n",
    "path1=\"D:/test1.txt\"\n",
    "fp = open(path,\"r\")\n",
    "fp1 = open(path1,\"w\")\n",
    "var=fp.read()\n",
    "\n",
    "var=var.replace(\"\\t\",\"\\n\")\n",
    "print(var)\n",
    "fp1.write(var)\n",
    "fp.close()\n",
    "fp1.close()"
   ]
  },
  {
   "cell_type": "code",
   "execution_count": 4,
   "id": "b3530ec5",
   "metadata": {},
   "outputs": [
    {
     "name": "stdout",
     "output_type": "stream",
     "text": [
      "Jitendra\n",
      "\n",
      "Pooja\n",
      "\n",
      "Rohit\n",
      "\n",
      "ShilpiSuraj\n",
      "\n",
      "Umang\n",
      "\n"
     ]
    }
   ],
   "source": [
    "path=\"D:/test.txt\"\n",
    "fp = open(path,\"r\")\n",
    "#fp.replace(\"\\t\",\"\\n\")\n",
    "for c in fp:\n",
    "    print(c)\n",
    "    if(c==\" \"):\n",
    "        print(\"\")\n",
    "fp.close()"
   ]
  },
  {
   "cell_type": "code",
   "execution_count": 6,
   "id": "d0955ee3",
   "metadata": {},
   "outputs": [
    {
     "name": "stdout",
     "output_type": "stream",
     "text": [
      "Jitendra\n",
      "Pooja\n",
      "Rohit\n",
      "ShilpiSuraj\n",
      "Umang\n",
      "\n"
     ]
    }
   ],
   "source": [
    "#without close file u can read this file\n",
    "with open(path1,\"r\") as fp :\n",
    "    print(fp.read())"
   ]
  },
  {
   "cell_type": "code",
   "execution_count": 21,
   "id": "b8fab372",
   "metadata": {},
   "outputs": [],
   "source": [
    "studentLs=[\"Pooja\",\"Jitendra\",\"Suraj\",\"Umang\"]\n",
    "\n",
    "fp=open(path,\"w\")\n",
    "for sn in studentLs:\n",
    "    fp.write(sn +\"\\t\")\n",
    "fp.close() "
   ]
  },
  {
   "cell_type": "code",
   "execution_count": 22,
   "id": "99ad3951",
   "metadata": {},
   "outputs": [
    {
     "name": "stdout",
     "output_type": "stream",
     "text": [
      "Pooja\tJitendra\tSuraj\tUmang\t\n"
     ]
    }
   ],
   "source": [
    "fp1=open(path,\"r\")\n",
    "print(fp1.read())\n",
    "fp1.close()"
   ]
  },
  {
   "cell_type": "code",
   "execution_count": 10,
   "id": "3e15012f",
   "metadata": {},
   "outputs": [
    {
     "data": {
      "text/plain": [
       "'Pooja Jitendra Suraj Umang'"
      ]
     },
     "execution_count": 10,
     "metadata": {},
     "output_type": "execute_result"
    }
   ],
   "source": [
    "\" \".join(studentLs)"
   ]
  },
  {
   "cell_type": "code",
   "execution_count": 11,
   "id": "828d606f",
   "metadata": {},
   "outputs": [
    {
     "data": {
      "text/plain": [
       "'Pooja\\nJitendra\\nSuraj\\nUmang'"
      ]
     },
     "execution_count": 11,
     "metadata": {},
     "output_type": "execute_result"
    }
   ],
   "source": [
    "\"\\n\".join(studentLs)"
   ]
  },
  {
   "cell_type": "code",
   "execution_count": 12,
   "id": "bf6ec9e9",
   "metadata": {},
   "outputs": [],
   "source": [
    "studentLs=[\"Pooja\",\"Jitendra\",\"Suraj\",\"Umang\"]\n",
    "\n",
    "fp=open(path,\"w\")\n",
    "\n",
    "fp.write(\"\\n\".join(studentLs))\n",
    "\n",
    "fp.close() "
   ]
  },
  {
   "cell_type": "code",
   "execution_count": 13,
   "id": "be9c68ec",
   "metadata": {},
   "outputs": [],
   "source": [
    "##_______________WRITELINE FUNCTION__________\n",
    "\n",
    "studentLs=[\"Pooja\\n\",\"Jitendra\\n\",\"Suraj\\n\",\"Umang\"]\n",
    "\n",
    "fp=open(path,\"w\")\n",
    "\n",
    "fp.writelines(studentLs) #write except line\n",
    "\n",
    "fp.close() "
   ]
  },
  {
   "cell_type": "code",
   "execution_count": 14,
   "id": "b8950d39",
   "metadata": {
    "scrolled": true
   },
   "outputs": [],
   "source": [
    "fp1=open(path1,\"r\")\n",
    "st=fp1.read()\n",
    "fp1.close()"
   ]
  },
  {
   "cell_type": "code",
   "execution_count": 15,
   "id": "afd6f015",
   "metadata": {},
   "outputs": [
    {
     "data": {
      "text/plain": [
       "str"
      ]
     },
     "execution_count": 15,
     "metadata": {},
     "output_type": "execute_result"
    }
   ],
   "source": [
    "type(st)"
   ]
  },
  {
   "cell_type": "code",
   "execution_count": 16,
   "id": "90e661b6",
   "metadata": {
    "scrolled": true
   },
   "outputs": [
    {
     "name": "stdout",
     "output_type": "stream",
     "text": [
      "102\n",
      "ram\n",
      "232423\n",
      "6.7\n",
      "\n"
     ]
    }
   ],
   "source": [
    "print(st)"
   ]
  },
  {
   "cell_type": "code",
   "execution_count": 17,
   "id": "5c1a503d",
   "metadata": {},
   "outputs": [
    {
     "name": "stdout",
     "output_type": "stream",
     "text": [
      "['102\\n', 'ram\\n', '232423\\n', '6.7\\n']\n"
     ]
    }
   ],
   "source": [
    "fp1=open(path1,\"r\")\n",
    "ls=fp1.readlines() #line read in list format\n",
    "fp1.close()\n",
    "print(ls)"
   ]
  },
  {
   "cell_type": "code",
   "execution_count": null,
   "id": "58802ef0",
   "metadata": {},
   "outputs": [],
   "source": [
    "type(ls)"
   ]
  },
  {
   "cell_type": "code",
   "execution_count": null,
   "id": "d27462b0",
   "metadata": {},
   "outputs": [],
   "source": [
    "ls"
   ]
  },
  {
   "cell_type": "code",
   "execution_count": 18,
   "id": "901f408c",
   "metadata": {
    "scrolled": true
   },
   "outputs": [
    {
     "name": "stdout",
     "output_type": "stream",
     "text": [
      "P\n"
     ]
    }
   ],
   "source": [
    "fp1=open(path,\"r\")\n",
    "print(fp1.read(1))\n",
    "fp1.close()"
   ]
  },
  {
   "cell_type": "code",
   "execution_count": 19,
   "id": "db7b625c",
   "metadata": {},
   "outputs": [
    {
     "name": "stdout",
     "output_type": "stream",
     "text": [
      "Suraj\n",
      "Umang\n"
     ]
    }
   ],
   "source": [
    "fp1=open(path,\"r\")#reading file with skip\n",
    "fp1.read(15)\n",
    "print(fp1.read())\n",
    "fp1.close()"
   ]
  },
  {
   "cell_type": "code",
   "execution_count": 20,
   "id": "4e401150",
   "metadata": {},
   "outputs": [
    {
     "name": "stdout",
     "output_type": "stream",
     "text": [
      "Pooja\n",
      "Jitendra\n",
      "Suraj\n",
      "Umang\n"
     ]
    }
   ],
   "source": [
    "path=\"D:/test.txt\"\n",
    "path1=\"D:/test1.txt\"\n",
    "fp = open(path,\"r\")\n",
    "fp1 = open(path1,\"w\")\n",
    "var=fp.read()\n",
    "\n",
    "var=var.replace(\"\\t\",\"\\n\")\n",
    "print(var)\n",
    "fp1.write(var)\n",
    "fp.close()\n",
    "fp1.close()"
   ]
  },
  {
   "cell_type": "code",
   "execution_count": 21,
   "id": "e245bc22",
   "metadata": {
    "scrolled": true
   },
   "outputs": [
    {
     "name": "stdout",
     "output_type": "stream",
     "text": [
      "Pooja\n",
      "Jitendra\n",
      "Suraj\n",
      "Umang\n"
     ]
    }
   ],
   "source": [
    "\n",
    "fp1=open(path,\"r\")\n",
    "print(fp1.read())\n",
    "fp1.close()\n"
   ]
  },
  {
   "cell_type": "code",
   "execution_count": 22,
   "id": "5d791096",
   "metadata": {
    "scrolled": true
   },
   "outputs": [
    {
     "name": "stdout",
     "output_type": "stream",
     "text": [
      "['Jitendra\\n', 'Umang']\n"
     ]
    }
   ],
   "source": [
    "ls=[]\n",
    "path=\"D:/test.txt\"\n",
    "fp1=open(path,\"r\")\n",
    "ls=fp1.readlines()\n",
    "fp1.close()\n",
    "print(ls[1::2])"
   ]
  },
  {
   "cell_type": "code",
   "execution_count": 23,
   "id": "8465febf",
   "metadata": {},
   "outputs": [
    {
     "name": "stdout",
     "output_type": "stream",
     "text": [
      "Pooja\n",
      "Suraj\n"
     ]
    }
   ],
   "source": [
    "i=0\n",
    "path=\"D:/test.txt\"\n",
    "fp1=open(path,\"r\")\n",
    "for l in fp1:\n",
    "    if (i%2)==0: \n",
    "        print(l.strip()) #strip for same location\n",
    "    i+=1\n",
    "fp1.close()\n",
    "    "
   ]
  },
  {
   "cell_type": "code",
   "execution_count": 24,
   "id": "5a8fa550",
   "metadata": {},
   "outputs": [],
   "source": [
    "path=\"D:/test.txt\"\n",
    "fp2=open(path,\"a\")\n",
    "fp2.write(\"\\nShilpi\")\n",
    "fp2.close()"
   ]
  },
  {
   "cell_type": "code",
   "execution_count": 25,
   "id": "447688bb",
   "metadata": {
    "scrolled": true
   },
   "outputs": [
    {
     "name": "stdout",
     "output_type": "stream",
     "text": [
      "Jitendra\n",
      "Pooja\n",
      "Rohit\n",
      "ShilpiSuraj\n",
      "Umang\n",
      "\n"
     ]
    }
   ],
   "source": [
    "path=\"D:/test.txt\"\n",
    "fp1=open(path,\"r\")\n",
    "l1=list(fp1.readlines())\n",
    "l1.insert(0,\"Rohit\\n\")\n",
    "l1.sort()\n",
    "fp1.close()\n",
    "fp3=open(path,\"w\")\n",
    "fp3.writelines(l1)\n",
    "\n",
    "fp3.close()\n",
    "fp4=open(path,\"r\")\n",
    "print(fp4.read())"
   ]
  },
  {
   "cell_type": "code",
   "execution_count": 26,
   "id": "f28cd136",
   "metadata": {
    "scrolled": true
   },
   "outputs": [
    {
     "name": "stdout",
     "output_type": "stream",
     "text": [
      "['Jitendra\\n', 'Pooja\\n', 'Rohit\\n', 'ShilpiSuraj\\n', 'Umang\\n']\n",
      "{'pooja', 'umang', 'jitendra', 'suraj'}\n",
      "enter namesuraj\n",
      "Found\n"
     ]
    }
   ],
   "source": [
    "path=\"D:/test.txt\"\n",
    "fp1=open(path,\"r\")\n",
    "print(fp1.readlines())\n",
    "s=set([l.strip().lower() for l in ls])\n",
    "print(s)\n",
    "fp1.close()\n",
    "nm=input(\"enter name\")\n",
    "if nm in s:\n",
    "    print(\"Found\")\n",
    "else:\n",
    "    print(\"Not Found\")"
   ]
  },
  {
   "cell_type": "code",
   "execution_count": 27,
   "id": "bd8dc9b5",
   "metadata": {
    "scrolled": true
   },
   "outputs": [
    {
     "name": "stdout",
     "output_type": "stream",
     "text": [
      "Jitendra\n",
      "\n",
      "10\n",
      "Jitendra\n",
      "\n",
      "10\n"
     ]
    }
   ],
   "source": [
    "path=\"D:/test.txt\"\n",
    "fp2=open(path,\"r\")\n",
    "print(fp2.read(9))\n",
    "print(fp2.tell())#.tell() where is your file pointer now\n",
    "fp2.seek(0)        #.seek() it is start reading from the 0 index location\n",
    "print(fp2.read(9))\n",
    "print(fp2.tell())\n",
    "fp2.close()"
   ]
  },
  {
   "cell_type": "code",
   "execution_count": 28,
   "id": "6a024af0",
   "metadata": {
    "scrolled": true
   },
   "outputs": [
    {
     "name": "stdout",
     "output_type": "stream",
     "text": [
      "Jitendra\n",
      "Pooja\n",
      "Rohit\n",
      "ShilpiSuraj\n",
      "Umang\n",
      "\n",
      "44\n"
     ]
    }
   ],
   "source": [
    "path=\"D:/test.txt\"\n",
    "fp2=open(path,\"r\")\n",
    "print(fp2.read())\n",
    "print(fp2.tell())\n",
    "fp2.close()"
   ]
  },
  {
   "cell_type": "code",
   "execution_count": 29,
   "id": "c965a7f6",
   "metadata": {
    "scrolled": true
   },
   "outputs": [
    {
     "name": "stdout",
     "output_type": "stream",
     "text": [
      "\n",
      "\n",
      "gnamU\n",
      "\n",
      "jaruSiplihS\n",
      "\n",
      "tihoR\n",
      "\n",
      "ajooP\n",
      "\n",
      "ardnetiJitendra\n",
      "Pooja\n",
      "Rohit\n",
      "ShilpiSuraj\n",
      "Umang\n",
      "\n"
     ]
    }
   ],
   "source": [
    "path=\"D:/test.txt\"\n",
    "fp2=open(path,\"r\")\n",
    "pos=44\n",
    "while( pos > -1):\n",
    "    fp2.seek(pos)\n",
    "    print(fp2.read(1),end=\"\")\n",
    "    pos-=1\n",
    "print(fp2.read())\n",
    "fp2.close()"
   ]
  },
  {
   "cell_type": "code",
   "execution_count": 30,
   "id": "389727f0",
   "metadata": {
    "scrolled": true
   },
   "outputs": [
    {
     "name": "stdout",
     "output_type": "stream",
     "text": [
      "\n",
      "\n",
      "gnamU\n",
      "\n",
      "jaruSiplihS\n",
      "\n",
      "tihoR\n",
      "\n",
      "ajooP\n",
      "\n",
      "ardnetiJ"
     ]
    }
   ],
   "source": [
    "path=\"D:/test.txt\"\n",
    "fp2=open(path,\"r\")\n",
    "pos=fp2.seek(0,2) #***#\n",
    "while( pos > -1):\n",
    "    fp2.seek(pos)\n",
    "    print(fp2.read(1),end=\"\")\n",
    "    pos-=1\n",
    "#print(fp2.read())\n",
    "fp2.close()"
   ]
  },
  {
   "cell_type": "markdown",
   "id": "fd7594dc",
   "metadata": {},
   "source": [
    "# Read abd write in same program"
   ]
  },
  {
   "cell_type": "code",
   "execution_count": 31,
   "id": "ec9ac980",
   "metadata": {},
   "outputs": [
    {
     "name": "stdout",
     "output_type": "stream",
     "text": [
      "Jitendra\n",
      "Pooja\n",
      "Rohit\n",
      "ShilpiSuraj\n",
      "Umang\n",
      "\n"
     ]
    }
   ],
   "source": [
    "path=\"D:/test.txt\"\n",
    "fp2=open(path,\"r\")\n",
    "print(fp2.read())\n",
    "fp2.close()"
   ]
  },
  {
   "cell_type": "code",
   "execution_count": 55,
   "id": "4f04b9f5",
   "metadata": {},
   "outputs": [
    {
     "name": "stdout",
     "output_type": "stream",
     "text": [
      "I Love CDAC\n",
      "CDAC\n",
      "I Love kolkata CDAC\n"
     ]
    }
   ],
   "source": [
    "path=\"D:/test3.txt\"\n",
    "fp2=open(path,\"w+\")  # w+ is used for read and write at same time\n",
    "#fp2.seek(28)\n",
    "#print(fp2.read())\n",
    "fp2.write(\"I Love CDAC\")\n",
    "fp2.seek(0)\n",
    "print(fp2.read())\n",
    "fp2.seek(7)\n",
    "rv=fp2.read()\n",
    "print(rv)\n",
    "fp2.seek(7)\n",
    "fp2.write(\"kolkata \"+rv)\n",
    "#fp2.write(\" My name is suraj\")\n",
    "fp2.seek(0)\n",
    "print(fp2.read())\n",
    "fp2.close()"
   ]
  },
  {
   "cell_type": "code",
   "execution_count": 43,
   "id": "4482ccec",
   "metadata": {},
   "outputs": [],
   "source": [
    "ls=[1,2,3,4,5]\n",
    "path=\"D:/test4.txt\"\n",
    "fp2=open(path,\"w\")\n",
    "fp2.writelines([str(l)+\"\\n\" for l in ls])\n",
    "fp2.close()"
   ]
  },
  {
   "cell_type": "code",
   "execution_count": 46,
   "id": "36d093f3",
   "metadata": {},
   "outputs": [
    {
     "name": "stdout",
     "output_type": "stream",
     "text": [
      "[1, 2, 3, 4, 5]\n"
     ]
    }
   ],
   "source": [
    "path=\"D:/test4.txt\"\n",
    "fp2=open(path,\"r\")\n",
    "#fp2.writelines([str(1) for l in ls])\n",
    "ls1=fp2.readlines()\n",
    "\n",
    "fp2.close()\n",
    "print([int(l.strip()) for l in ls1])\n",
    "#os\n"
   ]
  },
  {
   "cell_type": "markdown",
   "id": "14a5d6df",
   "metadata": {},
   "source": [
    "# File Handling In Py Date : 30-11-2022\n",
    "\n",
    "> Accesssing files from parent directory"
   ]
  },
  {
   "cell_type": "code",
   "execution_count": 11,
   "id": "49bdc5de",
   "metadata": {
    "scrolled": false
   },
   "outputs": [
    {
     "name": "stdout",
     "output_type": "stream",
     "text": [
      "root: .\\1\\1\n",
      "file 1.txt\n",
      "file with path: .\\1\\1\\1.txt\n",
      "बँकेची कामांचं आताच नियोजन करा.\n",
      "root: .\\2\\1\n",
      "file 1.txt\n",
      "file with path: .\\2\\1\\1.txt\n",
      "तीन वर्षात राज्यातील उद्योग कोणामुळे गेले\n",
      "root: .\\3\\1\n",
      "file 1.txt\n",
      "file with path: .\\3\\1\\1.txt\n",
      "लाइव टीवी.\n"
     ]
    }
   ],
   "source": [
    "import os\n",
    "os.chdir(\"D:\\\\Python-Test\")\n",
    "\n",
    "for root, dirs, files in os.walk(\".\",topdown=True):\n",
    "# \".\" means current path\n",
    "    for name in files:\n",
    "        print(\"root:\",root)\n",
    "        print(\"file\",name)\n",
    "        print(\"file with path:\", os.path.join(root,name))\n",
    "        flname=os.path.join(root,name)\n",
    "        print(read_file(flname))"
   ]
  },
  {
   "cell_type": "code",
   "execution_count": 4,
   "id": "86b22a4f",
   "metadata": {},
   "outputs": [
    {
     "data": {
      "text/plain": [
       "15"
      ]
     },
     "execution_count": 4,
     "metadata": {},
     "output_type": "execute_result"
    }
   ],
   "source": [
    "def add(x,y=10):\n",
    "    s=x+y\n",
    "    return s\n",
    "add(5)"
   ]
  },
  {
   "cell_type": "code",
   "execution_count": 5,
   "id": "6ddd800a",
   "metadata": {},
   "outputs": [
    {
     "data": {
      "text/plain": [
       "6"
      ]
     },
     "execution_count": 5,
     "metadata": {},
     "output_type": "execute_result"
    }
   ],
   "source": [
    "add(5,1)"
   ]
  },
  {
   "cell_type": "code",
   "execution_count": 10,
   "id": "e07cd040",
   "metadata": {},
   "outputs": [],
   "source": [
    "def read_file(flname):\n",
    "    fp=open(flname,\"rb\") #rb=read binary\n",
    "    ln=fp.read().decode()\n",
    "    fp.close()\n",
    "    return ln\n"
   ]
  },
  {
   "cell_type": "markdown",
   "id": "be7f74f0",
   "metadata": {},
   "source": [
    "# File Handling Date:02-12-22"
   ]
  },
  {
   "cell_type": "code",
   "execution_count": 8,
   "id": "29bb76de",
   "metadata": {},
   "outputs": [
    {
     "name": "stdout",
     "output_type": "stream",
     "text": [
      "D:/Downloads\\Binomial Distribution (1).txt\n",
      "D:/Downloads\\Binomial Distribution.txt\n",
      "D:/Downloads\\cmd 31nov.txt\n",
      "D:/Downloads\\day3_queries.txt\n",
      "D:/Downloads\\Drive links for preparation.txt\n",
      "D:/Downloads\\Graphical-Distribution.txt\n",
      "D:/Downloads\\How to read file and convert it in MP3.txt\n",
      "D:/Downloads\\r prog amitava sir.txt\n",
      "D:/Downloads\\R-Programming-TEST-1-ANSWER.txt\n",
      "D:/Downloads\\R-Programming-TEST-1.txt\n",
      "D:/Downloads\\R-Programming.txt\n",
      "D:/Downloads\\regr.txt\n"
     ]
    }
   ],
   "source": [
    "\n",
    "import glob\n",
    "path=\"D:/Downloads/*.txt\"\n",
    "glob.iglob(path)\n",
    "for f in glob.iglob(path):\n",
    "    print(f)"
   ]
  },
  {
   "cell_type": "code",
   "execution_count": 15,
   "id": "c7cb57be",
   "metadata": {
    "scrolled": true
   },
   "outputs": [
    {
     "name": "stdout",
     "output_type": "stream",
     "text": [
      "D:/Downloads\\hem.jpeg\n",
      "D:/Downloads\\hem2.jpeg\n",
      "D:/Downloads\\Rise husk Ash.jpeg\n",
      "D:/Downloads\\Rise husk.jpeg\n",
      "D:/Downloads\\WhatsApp Image 2022-02-12 at 12.29.26 PM.jpeg\n",
      "D:/Downloads\\WhatsApp Image 2022-02-13 at 1.35.30 PM.jpeg\n",
      "D:/Downloads\\WhatsApp Image 2022-03-10 at 11.42.06 PM.jpeg\n",
      "D:/Downloads\\WhatsApp Image 2022-03-10 at 11.42.12 PM.jpeg\n",
      "D:/Downloads\\WhatsApp Image 2022-03-15 at 5.09.38 PM.jpeg\n",
      "D:/Downloads\\WhatsApp Image 2022-03-15 at 5.10.27 PM.jpeg\n",
      "D:/Downloads\\WhatsApp Image 2022-03-15 at 5.10.53 PM.jpeg\n",
      "D:/Downloads\\WhatsApp Image 2022-03-15 at 5.11.14 PM.jpeg\n",
      "D:/Downloads\\WhatsApp Image 2022-03-15 at 5.28.35 PM.jpeg\n",
      "D:/Downloads\\WhatsApp Image 2022-03-17 at 2.28.31 PM.jpeg\n",
      "D:/Downloads\\WhatsApp Image 2022-04-03 at 11.11.05 PM (1).jpeg\n",
      "D:/Downloads\\WhatsApp Image 2022-04-03 at 11.11.05 PM.jpeg\n",
      "D:/Downloads\\WhatsApp Image 2022-04-03 at 11.11.37 PM.jpeg\n",
      "D:/Downloads\\WhatsApp Image 2022-05-12 at 12.13.04 PM.jpeg\n",
      "D:/Downloads\\WhatsApp Image 2022-05-22 at 11.39.45 PM.jpeg\n",
      "D:/Downloads\\WhatsApp Image 2022-06-02 at 8.39.24 PM.jpeg\n",
      "D:/Downloads\\WhatsApp Image 2022-06-02 at 8.39.25 PM.jpeg\n",
      "D:/Downloads\\WhatsApp Image 2022-06-02 at 8.39.26 PM.jpeg\n",
      "D:/Downloads\\WhatsApp Image 2022-06-02 at 8.39.46 PM.jpeg\n",
      "D:/Downloads\\WhatsApp Image 2022-06-02 at 8.40.15 PM.jpeg\n",
      "D:/Downloads\\WhatsApp Image 2022-06-15 at 2.45.23 AM.jpeg\n",
      "D:/Downloads\\WhatsApp Image 2022-07-08 at 9.50.09 PM.jpeg\n",
      "D:/Downloads\\WhatsApp Image 2022-09-05 at 21.10.02.jpeg\n",
      "D:/Downloads\\WhatsApp Image 2022-09-07 at 22.45.02.jpeg\n",
      "D:/Downloads\\WhatsApp Image 2022-09-08 at 16.33.58.jpeg\n",
      "D:/Downloads\\WhatsApp Image 2022-10-28 at 13.12.39.jpeg\n",
      "D:/Downloads\\WhatsApp Image 2022-10-28 at 13.13.20.jpeg\n",
      "D:/Downloads\\WhatsApp Image 2022-11-23 at 13.51.36.jpeg\n"
     ]
    },
    {
     "data": {
      "image/png": "[encoded data removed]",
      "text/plain": [
       "<Figure size 432x288 with 1 Axes>"
      ]
     },
     "metadata": {
      "needs_background": "light"
     },
     "output_type": "display_data"
    }
   ],
   "source": [
    "import glob\n",
    "import matplotlib.pyplot as plt\n",
    "path=\"D:/Downloads/*.jpeg\" #you can change extension of file\n",
    "glob.iglob(path)\n",
    "for f in glob.iglob(path):\n",
    "    print(f)\n",
    "    plt.imshow(plt.imread(f))"
   ]
  },
  {
   "cell_type": "code",
   "execution_count": 17,
   "id": "3ff495ef",
   "metadata": {},
   "outputs": [],
   "source": [
    "path=\"D:\\\\Python-Test\"\n",
    "fp=open(path+\"\\\\1.txt\",\"w\")\n",
    "fp.write('2')\n",
    "fp.close()"
   ]
  },
  {
   "cell_type": "code",
   "execution_count": 18,
   "id": "4fa3a490",
   "metadata": {},
   "outputs": [
    {
     "name": "stdout",
     "output_type": "stream",
     "text": [
      "5\n"
     ]
    }
   ],
   "source": [
    "fp=open(path+\"\\\\1.txt\",\"r\")\n",
    "x=fp.read()\n",
    "print(eval(x)+3)\n",
    "fp.close()"
   ]
  },
  {
   "cell_type": "code",
   "execution_count": 36,
   "id": "8afbff7d",
   "metadata": {},
   "outputs": [],
   "source": [
    "import pickle\n",
    "path=\"D:\\\\Python-Test\"\n",
    "fp=open(path+\"\\\\1.pkl\",\"wb\")\n",
    "pickle.dump(2,fp)\n",
    "fp.close()\n",
    "\n"
   ]
  },
  {
   "cell_type": "code",
   "execution_count": 37,
   "id": "0b4973b4",
   "metadata": {},
   "outputs": [
    {
     "name": "stdout",
     "output_type": "stream",
     "text": [
      "5\n"
     ]
    }
   ],
   "source": [
    "\n",
    "fp=open(path +\"\\\\1.pkl\",\"rb\")\n",
    "v=pickle.load(fp)\n",
    "print(v+3)\n",
    "fp.close()\n"
   ]
  },
  {
   "cell_type": "code",
   "execution_count": 4,
   "id": "2989d4cd",
   "metadata": {},
   "outputs": [],
   "source": [
    "import pickle\n",
    "dct={\n",
    "    \n",
    "    100 : \"Rohit\",\n",
    "    101 : \"Nikita\",\n",
    "    102 : \"Suraj\",\n",
    "    103 : \"Sradha\"\n",
    "}\n",
    "\n",
    "fp=open(\"D:\\\\Python-Test\\\\2.pkl\",\"wb\")\n",
    "pickle.dump(dct,fp)\n",
    "fp.close()"
   ]
  },
  {
   "cell_type": "code",
   "execution_count": 7,
   "id": "af0e629a",
   "metadata": {},
   "outputs": [
    {
     "name": "stdout",
     "output_type": "stream",
     "text": [
      "Enter student id : 102\n",
      "Suraj\n",
      "Enter student id : 222\n",
      "NOT FOUND\n",
      "Enter student id : 1000\n",
      "NOT FOUND\n",
      "Enter student id : 1001\n",
      "NOT FOUND\n"
     ]
    }
   ],
   "source": [
    "fp=open(\"D:\\\\Python-Test\\\\2.pkl\",\"rb\")\n",
    "mydct=pickle.load(fp)\n",
    "fp.close()\n",
    "id1=0\n",
    "while int(id1)<=1000:\n",
    "    id1=input(\"Enter student id : \")\n",
    "    if int(id1)in dct:\n",
    "        print(mydct[int(id1)])\n",
    "    else: print(\"NOT FOUND\")"
   ]
  },
  {
   "cell_type": "code",
   "execution_count": 1,
   "id": "0d9628fe",
   "metadata": {},
   "outputs": [
    {
     "name": "stdout",
     "output_type": "stream",
     "text": [
      "{100: 'Rohit', 101: 'Nikita', 102: 'Suraj', 103: 'Sradha'}\n",
      "Enter student id: 102\n",
      "Suraj\n"
     ]
    }
   ],
   "source": [
    "path=\"D:\\\\Python-Test\\\\2.txt\"\n",
    "fp=open(path,\"r\")\n",
    "dct={}\n",
    "for f in fp:\n",
    "    l=f.strip()\n",
    "    r=l.split()\n",
    "    if int(r[0]) not in dct:\n",
    "        dct[int(r[0])]=r[1]\n",
    "print(dct)\n",
    "##  Utilizing the dictionary to fetch record\n",
    "\n",
    "id1=input(\"Enter student id: \")\n",
    "if int(id1) in dct:\n",
    "    print(dct[int(id1)])\n",
    "else: print(\"Not Found\")\n",
    "fp.close()"
   ]
  },
  {
   "cell_type": "code",
   "execution_count": 12,
   "id": "1626283d",
   "metadata": {},
   "outputs": [
    {
     "data": {
      "text/plain": [
       "\"print(value, ..., sep=' ', end='\\\\n', file=sys.stdout, flush=False)\\n\\nPrints the values to a stream, or to sys.stdout by default.\\nOptional keyword arguments:\\nfile:  a file-like object (stream); defaults to the current sys.stdout.\\nsep:   string inserted between values, default a space.\\nend:   string appended after the last value, default a newline.\\nflush: whether to forcibly flush the stream.\""
      ]
     },
     "execution_count": 12,
     "metadata": {},
     "output_type": "execute_result"
    }
   ],
   "source": [
    "print.__doc__"
   ]
  },
  {
   "cell_type": "code",
   "execution_count": 13,
   "id": "935089bd",
   "metadata": {},
   "outputs": [
    {
     "data": {
      "text/plain": [
       "'Return the number of items in a container.'"
      ]
     },
     "execution_count": 13,
     "metadata": {},
     "output_type": "execute_result"
    }
   ],
   "source": [
    "len.__doc__\n"
   ]
  },
  {
   "cell_type": "code",
   "execution_count": 15,
   "id": "57b2259c",
   "metadata": {},
   "outputs": [],
   "source": [
    "def add(x,*y):\n",
    "    s=0\n",
    "    for i in y:\n",
    "        s+=i\n",
    "    print(y)\n",
    "    return x+sum(y)"
   ]
  },
  {
   "cell_type": "code",
   "execution_count": 16,
   "id": "9ad3baba",
   "metadata": {
    "scrolled": true
   },
   "outputs": [
    {
     "name": "stdout",
     "output_type": "stream",
     "text": [
      "(30, 40, 50, 60, 70)\n"
     ]
    },
    {
     "data": {
      "text/plain": [
       "270"
      ]
     },
     "execution_count": 16,
     "metadata": {},
     "output_type": "execute_result"
    }
   ],
   "source": [
    "add(20,30,40,50,60,70)"
   ]
  }
 ],
 "metadata": {
  "kernelspec": {
   "display_name": "Python 3 (ipykernel)",
   "language": "python",
   "name": "python3"
  },
  "language_info": {
   "codemirror_mode": {
    "name": "ipython",
    "version": 3
   },
   "file_extension": ".py",
   "mimetype": "text/x-python",
   "name": "python",
   "nbconvert_exporter": "python",
   "pygments_lexer": "ipython3",
   "version": "3.8.8"
  }
 },
 "nbformat": 4,
 "nbformat_minor": 5
}
