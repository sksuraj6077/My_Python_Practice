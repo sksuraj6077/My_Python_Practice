{
 "cells": [
  {
   "cell_type": "code",
   "execution_count": null,
   "id": "fe1ddc32",
   "metadata": {},
   "outputs": [],
   "source": [
    "# Groupby is very common and important operations in Data analysis\n",
    "# There are mainly 3 steps in Groupby operation\n",
    "\n",
    "    #Splitting the data into groups based on some criteria.\n",
    "    #Applying operations to each group independently.\n",
    "    #Combining the results."
   ]
  },
  {
   "cell_type": "code",
   "execution_count": 2,
   "id": "c233e493",
   "metadata": {},
   "outputs": [],
   "source": [
    "import pandas as pd"
   ]
  },
  {
   "cell_type": "code",
   "execution_count": 3,
   "id": "3ee240c1",
   "metadata": {},
   "outputs": [],
   "source": [
    "# Creating a product DataFrame\n",
    "\n",
    "d = {\n",
    "    \"Product\":[\"Samsung\",\"Nokia\",\"Samsung\",\"Motorola\",\"Nokia\",\"Samsung\",\"Samsung\"],\n",
    "    \"Orders\":[2,4,3,4,6,7,3]\n",
    "    }\n",
    "\n"
   ]
  },
  {
   "cell_type": "code",
   "execution_count": 4,
   "id": "bd016888",
   "metadata": {},
   "outputs": [],
   "source": [
    "df = pd.DataFrame(d)"
   ]
  },
  {
   "cell_type": "code",
   "execution_count": 5,
   "id": "ab1b0de2",
   "metadata": {},
   "outputs": [
    {
     "data": {
      "text/html": [
       "<div>\n",
       "<style scoped>\n",
       "    .dataframe tbody tr th:only-of-type {\n",
       "        vertical-align: middle;\n",
       "    }\n",
       "\n",
       "    .dataframe tbody tr th {\n",
       "        vertical-align: top;\n",
       "    }\n",
       "\n",
       "    .dataframe thead th {\n",
       "        text-align: right;\n",
       "    }\n",
       "</style>\n",
       "<table border=\"1\" class=\"dataframe\">\n",
       "  <thead>\n",
       "    <tr style=\"text-align: right;\">\n",
       "      <th></th>\n",
       "      <th>Product</th>\n",
       "      <th>Orders</th>\n",
       "    </tr>\n",
       "  </thead>\n",
       "  <tbody>\n",
       "    <tr>\n",
       "      <th>0</th>\n",
       "      <td>Samsung</td>\n",
       "      <td>2</td>\n",
       "    </tr>\n",
       "    <tr>\n",
       "      <th>1</th>\n",
       "      <td>Nokia</td>\n",
       "      <td>4</td>\n",
       "    </tr>\n",
       "    <tr>\n",
       "      <th>2</th>\n",
       "      <td>Samsung</td>\n",
       "      <td>3</td>\n",
       "    </tr>\n",
       "    <tr>\n",
       "      <th>3</th>\n",
       "      <td>Motorola</td>\n",
       "      <td>4</td>\n",
       "    </tr>\n",
       "    <tr>\n",
       "      <th>4</th>\n",
       "      <td>Nokia</td>\n",
       "      <td>6</td>\n",
       "    </tr>\n",
       "    <tr>\n",
       "      <th>5</th>\n",
       "      <td>Samsung</td>\n",
       "      <td>7</td>\n",
       "    </tr>\n",
       "    <tr>\n",
       "      <th>6</th>\n",
       "      <td>Samsung</td>\n",
       "      <td>3</td>\n",
       "    </tr>\n",
       "  </tbody>\n",
       "</table>\n",
       "</div>"
      ],
      "text/plain": [
       "    Product  Orders\n",
       "0   Samsung       2\n",
       "1     Nokia       4\n",
       "2   Samsung       3\n",
       "3  Motorola       4\n",
       "4     Nokia       6\n",
       "5   Samsung       7\n",
       "6   Samsung       3"
      ]
     },
     "execution_count": 5,
     "metadata": {},
     "output_type": "execute_result"
    }
   ],
   "source": [
    "df"
   ]
  },
  {
   "cell_type": "code",
   "execution_count": 6,
   "id": "5fd822c8",
   "metadata": {},
   "outputs": [],
   "source": [
    "grouped = df.groupby([\"Product\"])\n",
    "result = grouped.sum()"
   ]
  },
  {
   "cell_type": "code",
   "execution_count": 7,
   "id": "74e1e023",
   "metadata": {},
   "outputs": [
    {
     "data": {
      "text/html": [
       "<div>\n",
       "<style scoped>\n",
       "    .dataframe tbody tr th:only-of-type {\n",
       "        vertical-align: middle;\n",
       "    }\n",
       "\n",
       "    .dataframe tbody tr th {\n",
       "        vertical-align: top;\n",
       "    }\n",
       "\n",
       "    .dataframe thead th {\n",
       "        text-align: right;\n",
       "    }\n",
       "</style>\n",
       "<table border=\"1\" class=\"dataframe\">\n",
       "  <thead>\n",
       "    <tr style=\"text-align: right;\">\n",
       "      <th></th>\n",
       "      <th>Orders</th>\n",
       "    </tr>\n",
       "    <tr>\n",
       "      <th>Product</th>\n",
       "      <th></th>\n",
       "    </tr>\n",
       "  </thead>\n",
       "  <tbody>\n",
       "    <tr>\n",
       "      <th>Motorola</th>\n",
       "      <td>4</td>\n",
       "    </tr>\n",
       "    <tr>\n",
       "      <th>Nokia</th>\n",
       "      <td>10</td>\n",
       "    </tr>\n",
       "    <tr>\n",
       "      <th>Samsung</th>\n",
       "      <td>15</td>\n",
       "    </tr>\n",
       "  </tbody>\n",
       "</table>\n",
       "</div>"
      ],
      "text/plain": [
       "          Orders\n",
       "Product         \n",
       "Motorola       4\n",
       "Nokia         10\n",
       "Samsung       15"
      ]
     },
     "execution_count": 7,
     "metadata": {},
     "output_type": "execute_result"
    }
   ],
   "source": [
    "result"
   ]
  },
  {
   "cell_type": "code",
   "execution_count": 8,
   "id": "44c86c71",
   "metadata": {},
   "outputs": [],
   "source": [
    "df1 = pd.read_csv(\"sales5.csv\")"
   ]
  },
  {
   "cell_type": "code",
   "execution_count": 9,
   "id": "61fbcd09",
   "metadata": {},
   "outputs": [
    {
     "data": {
      "text/html": [
       "<div>\n",
       "<style scoped>\n",
       "    .dataframe tbody tr th:only-of-type {\n",
       "        vertical-align: middle;\n",
       "    }\n",
       "\n",
       "    .dataframe tbody tr th {\n",
       "        vertical-align: top;\n",
       "    }\n",
       "\n",
       "    .dataframe thead th {\n",
       "        text-align: right;\n",
       "    }\n",
       "</style>\n",
       "<table border=\"1\" class=\"dataframe\">\n",
       "  <thead>\n",
       "    <tr style=\"text-align: right;\">\n",
       "      <th></th>\n",
       "      <th>Order_Id</th>\n",
       "      <th>Customer_Id</th>\n",
       "      <th>Mail_Id</th>\n",
       "      <th>Product_Name</th>\n",
       "      <th>Product_Cost</th>\n",
       "      <th>Date</th>\n",
       "    </tr>\n",
       "  </thead>\n",
       "  <tbody>\n",
       "    <tr>\n",
       "      <th>0</th>\n",
       "      <td>1</td>\n",
       "      <td>1</td>\n",
       "      <td>nirekshan@gmail.com</td>\n",
       "      <td>Samsung</td>\n",
       "      <td>10000</td>\n",
       "      <td>11/06/2019</td>\n",
       "    </tr>\n",
       "    <tr>\n",
       "      <th>1</th>\n",
       "      <td>2</td>\n",
       "      <td>2</td>\n",
       "      <td>kedar@gmail.com</td>\n",
       "      <td>iPhone 8</td>\n",
       "      <td>20000</td>\n",
       "      <td>11/06/2019</td>\n",
       "    </tr>\n",
       "    <tr>\n",
       "      <th>2</th>\n",
       "      <td>3</td>\n",
       "      <td>3</td>\n",
       "      <td>Daniel@gmail.com</td>\n",
       "      <td>Kindle Paper White</td>\n",
       "      <td>10000</td>\n",
       "      <td>10/31/2019</td>\n",
       "    </tr>\n",
       "    <tr>\n",
       "      <th>3</th>\n",
       "      <td>4</td>\n",
       "      <td>4</td>\n",
       "      <td>prasad@gmail.com</td>\n",
       "      <td>hTC mobile</td>\n",
       "      <td>15000</td>\n",
       "      <td>11/02/2019</td>\n",
       "    </tr>\n",
       "    <tr>\n",
       "      <th>4</th>\n",
       "      <td>5</td>\n",
       "      <td>1</td>\n",
       "      <td>nirekshan@gmail.com</td>\n",
       "      <td>Samsung</td>\n",
       "      <td>10000</td>\n",
       "      <td>11/02/2019</td>\n",
       "    </tr>\n",
       "    <tr>\n",
       "      <th>5</th>\n",
       "      <td>6</td>\n",
       "      <td>5</td>\n",
       "      <td>partha@gmail.com</td>\n",
       "      <td>iPhone 9</td>\n",
       "      <td>30000</td>\n",
       "      <td>11/06/2019</td>\n",
       "    </tr>\n",
       "    <tr>\n",
       "      <th>6</th>\n",
       "      <td>7</td>\n",
       "      <td>4</td>\n",
       "      <td>prasad@gmail.com</td>\n",
       "      <td>hTC mobile</td>\n",
       "      <td>15000</td>\n",
       "      <td>11/10/2019</td>\n",
       "    </tr>\n",
       "    <tr>\n",
       "      <th>7</th>\n",
       "      <td>8</td>\n",
       "      <td>6</td>\n",
       "      <td>shahid@gmail.com</td>\n",
       "      <td>iPad</td>\n",
       "      <td>70000</td>\n",
       "      <td>09/01/2019</td>\n",
       "    </tr>\n",
       "    <tr>\n",
       "      <th>8</th>\n",
       "      <td>9</td>\n",
       "      <td>4</td>\n",
       "      <td>prasad@gmail.com</td>\n",
       "      <td>LG Washing Machine</td>\n",
       "      <td>25000</td>\n",
       "      <td>09/02/2019</td>\n",
       "    </tr>\n",
       "    <tr>\n",
       "      <th>9</th>\n",
       "      <td>10</td>\n",
       "      <td>2</td>\n",
       "      <td>kedar@gmail.com</td>\n",
       "      <td>iPhone 8</td>\n",
       "      <td>20000</td>\n",
       "      <td>09/06/2019</td>\n",
       "    </tr>\n",
       "    <tr>\n",
       "      <th>10</th>\n",
       "      <td>11</td>\n",
       "      <td>3</td>\n",
       "      <td>Daniel@gmail.com</td>\n",
       "      <td>Kindle Paper White</td>\n",
       "      <td>10000</td>\n",
       "      <td>09/06/2019</td>\n",
       "    </tr>\n",
       "    <tr>\n",
       "      <th>11</th>\n",
       "      <td>12</td>\n",
       "      <td>3</td>\n",
       "      <td>Daniel@gmail.com</td>\n",
       "      <td>Sofa set</td>\n",
       "      <td>50000</td>\n",
       "      <td>09/06/2019</td>\n",
       "    </tr>\n",
       "    <tr>\n",
       "      <th>12</th>\n",
       "      <td>13</td>\n",
       "      <td>2</td>\n",
       "      <td>kedar@gmail.com</td>\n",
       "      <td>iPhone 8</td>\n",
       "      <td>20000</td>\n",
       "      <td>11/06/2019</td>\n",
       "    </tr>\n",
       "    <tr>\n",
       "      <th>13</th>\n",
       "      <td>14</td>\n",
       "      <td>1</td>\n",
       "      <td>nirekshan@gmail.com</td>\n",
       "      <td>Samsung</td>\n",
       "      <td>10000</td>\n",
       "      <td>11/02/2019</td>\n",
       "    </tr>\n",
       "    <tr>\n",
       "      <th>14</th>\n",
       "      <td>15</td>\n",
       "      <td>1</td>\n",
       "      <td>nirekshan@gmail.com</td>\n",
       "      <td>Kindle Paper White</td>\n",
       "      <td>20000</td>\n",
       "      <td>09/06/2019</td>\n",
       "    </tr>\n",
       "  </tbody>\n",
       "</table>\n",
       "</div>"
      ],
      "text/plain": [
       "    Order_Id  Customer_Id              Mail_Id        Product_Name  \\\n",
       "0          1            1  nirekshan@gmail.com             Samsung   \n",
       "1          2            2      kedar@gmail.com            iPhone 8   \n",
       "2          3            3     Daniel@gmail.com  Kindle Paper White   \n",
       "3          4            4     prasad@gmail.com          hTC mobile   \n",
       "4          5            1  nirekshan@gmail.com             Samsung   \n",
       "5          6            5     partha@gmail.com            iPhone 9   \n",
       "6          7            4     prasad@gmail.com          hTC mobile   \n",
       "7          8            6     shahid@gmail.com                iPad   \n",
       "8          9            4     prasad@gmail.com  LG Washing Machine   \n",
       "9         10            2      kedar@gmail.com            iPhone 8   \n",
       "10        11            3     Daniel@gmail.com  Kindle Paper White   \n",
       "11        12            3     Daniel@gmail.com            Sofa set   \n",
       "12        13            2      kedar@gmail.com            iPhone 8   \n",
       "13        14            1  nirekshan@gmail.com             Samsung   \n",
       "14        15            1  nirekshan@gmail.com  Kindle Paper White   \n",
       "\n",
       "    Product_Cost        Date  \n",
       "0          10000  11/06/2019  \n",
       "1          20000  11/06/2019  \n",
       "2          10000  10/31/2019  \n",
       "3          15000  11/02/2019  \n",
       "4          10000  11/02/2019  \n",
       "5          30000  11/06/2019  \n",
       "6          15000  11/10/2019  \n",
       "7          70000  09/01/2019  \n",
       "8          25000  09/02/2019  \n",
       "9          20000  09/06/2019  \n",
       "10         10000  09/06/2019  \n",
       "11         50000  09/06/2019  \n",
       "12         20000  11/06/2019  \n",
       "13         10000  11/02/2019  \n",
       "14         20000  09/06/2019  "
      ]
     },
     "execution_count": 9,
     "metadata": {},
     "output_type": "execute_result"
    }
   ],
   "source": [
    "df1"
   ]
  },
  {
   "cell_type": "code",
   "execution_count": 10,
   "id": "092bb123",
   "metadata": {},
   "outputs": [],
   "source": [
    "grouped = df1.groupby([\"Mail_Id\"])"
   ]
  },
  {
   "cell_type": "code",
   "execution_count": 11,
   "id": "195b7bf9",
   "metadata": {},
   "outputs": [],
   "source": [
    "result=grouped.size()"
   ]
  },
  {
   "cell_type": "code",
   "execution_count": 12,
   "id": "892f36de",
   "metadata": {},
   "outputs": [
    {
     "data": {
      "text/plain": [
       "Mail_Id\n",
       "Daniel@gmail.com       3\n",
       "kedar@gmail.com        3\n",
       "nirekshan@gmail.com    4\n",
       "partha@gmail.com       1\n",
       "prasad@gmail.com       3\n",
       "shahid@gmail.com       1\n",
       "dtype: int64"
      ]
     },
     "execution_count": 12,
     "metadata": {},
     "output_type": "execute_result"
    }
   ],
   "source": [
    "result"
   ]
  },
  {
   "cell_type": "code",
   "execution_count": 13,
   "id": "175ca524",
   "metadata": {},
   "outputs": [],
   "source": [
    "grouped = df1.groupby([\"Product_Name\"])"
   ]
  },
  {
   "cell_type": "code",
   "execution_count": 14,
   "id": "1e4491f0",
   "metadata": {},
   "outputs": [],
   "source": [
    "result = grouped.size()"
   ]
  },
  {
   "cell_type": "code",
   "execution_count": 15,
   "id": "f8c5a498",
   "metadata": {},
   "outputs": [
    {
     "data": {
      "text/plain": [
       "Product_Name\n",
       "Kindle Paper White    3\n",
       "LG Washing Machine    1\n",
       "Samsung               3\n",
       "Sofa set              1\n",
       "hTC mobile            2\n",
       "iPad                  1\n",
       "iPhone 8              3\n",
       "iPhone 9              1\n",
       "dtype: int64"
      ]
     },
     "execution_count": 15,
     "metadata": {},
     "output_type": "execute_result"
    }
   ],
   "source": [
    "result"
   ]
  },
  {
   "cell_type": "code",
   "execution_count": 16,
   "id": "99f50399",
   "metadata": {},
   "outputs": [],
   "source": [
    "# How many products sold out on each month?"
   ]
  },
  {
   "cell_type": "code",
   "execution_count": 17,
   "id": "31038afc",
   "metadata": {},
   "outputs": [
    {
     "data": {
      "text/plain": [
       "Index(['Order_Id', 'Customer_Id', 'Mail_Id', 'Product_Name', 'Product_Cost',\n",
       "       'Date'],\n",
       "      dtype='object')"
      ]
     },
     "execution_count": 17,
     "metadata": {},
     "output_type": "execute_result"
    }
   ],
   "source": [
    "df1.columns"
   ]
  },
  {
   "cell_type": "code",
   "execution_count": 18,
   "id": "06162ead",
   "metadata": {},
   "outputs": [],
   "source": [
    "cols=['Date','Product_Name']"
   ]
  },
  {
   "cell_type": "code",
   "execution_count": 19,
   "id": "2ddefdbe",
   "metadata": {},
   "outputs": [],
   "source": [
    "grouped = df1.groupby(cols)['Date']\n",
    "result = grouped.count()"
   ]
  },
  {
   "cell_type": "code",
   "execution_count": 20,
   "id": "f20c9aae",
   "metadata": {},
   "outputs": [
    {
     "name": "stdout",
     "output_type": "stream",
     "text": [
      "Date        Product_Name      \n",
      "09/01/2019  iPad                  1\n",
      "09/02/2019  LG Washing Machine    1\n",
      "09/06/2019  Kindle Paper White    2\n",
      "            Sofa set              1\n",
      "            iPhone 8              1\n",
      "10/31/2019  Kindle Paper White    1\n",
      "11/02/2019  Samsung               2\n",
      "            hTC mobile            1\n",
      "11/06/2019  Samsung               1\n",
      "            iPhone 8              2\n",
      "            iPhone 9              1\n",
      "11/10/2019  hTC mobile            1\n",
      "Name: Date, dtype: int64\n"
     ]
    }
   ],
   "source": [
    "print(result)"
   ]
  },
  {
   "cell_type": "code",
   "execution_count": 21,
   "id": "f45f10c6",
   "metadata": {},
   "outputs": [],
   "source": [
    "# Product wise each month sales"
   ]
  },
  {
   "cell_type": "code",
   "execution_count": 22,
   "id": "4b05a0f8",
   "metadata": {},
   "outputs": [],
   "source": [
    "cols = [\"Product_Name\",\"Date\"]\n",
    "grouped = df1.groupby(cols)['Date']\n",
    "result = grouped.count()"
   ]
  },
  {
   "cell_type": "code",
   "execution_count": 23,
   "id": "938d9e70",
   "metadata": {},
   "outputs": [
    {
     "data": {
      "text/plain": [
       "Product_Name        Date      \n",
       "Kindle Paper White  09/06/2019    2\n",
       "                    10/31/2019    1\n",
       "LG Washing Machine  09/02/2019    1\n",
       "Samsung             11/02/2019    2\n",
       "                    11/06/2019    1\n",
       "Sofa set            09/06/2019    1\n",
       "hTC mobile          11/02/2019    1\n",
       "                    11/10/2019    1\n",
       "iPad                09/01/2019    1\n",
       "iPhone 8            09/06/2019    1\n",
       "                    11/06/2019    2\n",
       "iPhone 9            11/06/2019    1\n",
       "Name: Date, dtype: int64"
      ]
     },
     "execution_count": 23,
     "metadata": {},
     "output_type": "execute_result"
    }
   ],
   "source": [
    "result"
   ]
  },
  {
   "cell_type": "code",
   "execution_count": null,
   "id": "d9bb0c2d",
   "metadata": {},
   "outputs": [],
   "source": [
    "# Customer wise each month sales "
   ]
  },
  {
   "cell_type": "code",
   "execution_count": 24,
   "id": "3955ab29",
   "metadata": {},
   "outputs": [],
   "source": [
    "cols = [\"Mail_Id\",\"Date\"]\n",
    "grouped = df1.groupby(cols)[\"Mail_Id\"]"
   ]
  },
  {
   "cell_type": "code",
   "execution_count": 25,
   "id": "9747afc7",
   "metadata": {},
   "outputs": [],
   "source": [
    "result = grouped.count()"
   ]
  },
  {
   "cell_type": "code",
   "execution_count": 26,
   "id": "cb6c1dd4",
   "metadata": {},
   "outputs": [
    {
     "name": "stdout",
     "output_type": "stream",
     "text": [
      "Mail_Id              Date      \n",
      "Daniel@gmail.com     09/06/2019    2\n",
      "                     10/31/2019    1\n",
      "kedar@gmail.com      09/06/2019    1\n",
      "                     11/06/2019    2\n",
      "nirekshan@gmail.com  09/06/2019    1\n",
      "                     11/02/2019    2\n",
      "                     11/06/2019    1\n",
      "partha@gmail.com     11/06/2019    1\n",
      "prasad@gmail.com     09/02/2019    1\n",
      "                     11/02/2019    1\n",
      "                     11/10/2019    1\n",
      "shahid@gmail.com     09/01/2019    1\n",
      "Name: Mail_Id, dtype: int64\n"
     ]
    }
   ],
   "source": [
    "print(result)"
   ]
  },
  {
   "cell_type": "code",
   "execution_count": 27,
   "id": "ea4e0c9f",
   "metadata": {},
   "outputs": [],
   "source": [
    "# Customer wise product details\n",
    "col = ['Mail_Id',\"Product_Name\"]\n",
    "grouped = df1.groupby(col)[\"Product_Cost\"]"
   ]
  },
  {
   "cell_type": "code",
   "execution_count": 28,
   "id": "32bb90ff",
   "metadata": {},
   "outputs": [],
   "source": [
    "result = grouped.sum()"
   ]
  },
  {
   "cell_type": "code",
   "execution_count": 29,
   "id": "f1350def",
   "metadata": {},
   "outputs": [
    {
     "data": {
      "text/plain": [
       "Mail_Id              Product_Name      \n",
       "Daniel@gmail.com     Kindle Paper White    20000\n",
       "                     Sofa set              50000\n",
       "kedar@gmail.com      iPhone 8              60000\n",
       "nirekshan@gmail.com  Kindle Paper White    20000\n",
       "                     Samsung               30000\n",
       "partha@gmail.com     iPhone 9              30000\n",
       "prasad@gmail.com     LG Washing Machine    25000\n",
       "                     hTC mobile            30000\n",
       "shahid@gmail.com     iPad                  70000\n",
       "Name: Product_Cost, dtype: int64"
      ]
     },
     "execution_count": 29,
     "metadata": {},
     "output_type": "execute_result"
    }
   ],
   "source": [
    "result"
   ]
  },
  {
   "cell_type": "code",
   "execution_count": null,
   "id": "92ba4d25",
   "metadata": {},
   "outputs": [],
   "source": [
    "# Customer wise product details"
   ]
  },
  {
   "cell_type": "code",
   "execution_count": 31,
   "id": "c947cc97",
   "metadata": {},
   "outputs": [],
   "source": [
    "col = ['Mail_Id','Product_Name']\n",
    "grouped = df1.groupby(col,as_index=False)['Product_Cost']\n",
    "result = grouped.sum()"
   ]
  },
  {
   "cell_type": "code",
   "execution_count": 32,
   "id": "06716587",
   "metadata": {},
   "outputs": [
    {
     "data": {
      "text/html": [
       "<div>\n",
       "<style scoped>\n",
       "    .dataframe tbody tr th:only-of-type {\n",
       "        vertical-align: middle;\n",
       "    }\n",
       "\n",
       "    .dataframe tbody tr th {\n",
       "        vertical-align: top;\n",
       "    }\n",
       "\n",
       "    .dataframe thead th {\n",
       "        text-align: right;\n",
       "    }\n",
       "</style>\n",
       "<table border=\"1\" class=\"dataframe\">\n",
       "  <thead>\n",
       "    <tr style=\"text-align: right;\">\n",
       "      <th></th>\n",
       "      <th>Mail_Id</th>\n",
       "      <th>Product_Name</th>\n",
       "      <th>Product_Cost</th>\n",
       "    </tr>\n",
       "  </thead>\n",
       "  <tbody>\n",
       "    <tr>\n",
       "      <th>0</th>\n",
       "      <td>Daniel@gmail.com</td>\n",
       "      <td>Kindle Paper White</td>\n",
       "      <td>20000</td>\n",
       "    </tr>\n",
       "    <tr>\n",
       "      <th>1</th>\n",
       "      <td>Daniel@gmail.com</td>\n",
       "      <td>Sofa set</td>\n",
       "      <td>50000</td>\n",
       "    </tr>\n",
       "    <tr>\n",
       "      <th>2</th>\n",
       "      <td>kedar@gmail.com</td>\n",
       "      <td>iPhone 8</td>\n",
       "      <td>60000</td>\n",
       "    </tr>\n",
       "    <tr>\n",
       "      <th>3</th>\n",
       "      <td>nirekshan@gmail.com</td>\n",
       "      <td>Kindle Paper White</td>\n",
       "      <td>20000</td>\n",
       "    </tr>\n",
       "    <tr>\n",
       "      <th>4</th>\n",
       "      <td>nirekshan@gmail.com</td>\n",
       "      <td>Samsung</td>\n",
       "      <td>30000</td>\n",
       "    </tr>\n",
       "    <tr>\n",
       "      <th>5</th>\n",
       "      <td>partha@gmail.com</td>\n",
       "      <td>iPhone 9</td>\n",
       "      <td>30000</td>\n",
       "    </tr>\n",
       "    <tr>\n",
       "      <th>6</th>\n",
       "      <td>prasad@gmail.com</td>\n",
       "      <td>LG Washing Machine</td>\n",
       "      <td>25000</td>\n",
       "    </tr>\n",
       "    <tr>\n",
       "      <th>7</th>\n",
       "      <td>prasad@gmail.com</td>\n",
       "      <td>hTC mobile</td>\n",
       "      <td>30000</td>\n",
       "    </tr>\n",
       "    <tr>\n",
       "      <th>8</th>\n",
       "      <td>shahid@gmail.com</td>\n",
       "      <td>iPad</td>\n",
       "      <td>70000</td>\n",
       "    </tr>\n",
       "  </tbody>\n",
       "</table>\n",
       "</div>"
      ],
      "text/plain": [
       "               Mail_Id        Product_Name  Product_Cost\n",
       "0     Daniel@gmail.com  Kindle Paper White         20000\n",
       "1     Daniel@gmail.com            Sofa set         50000\n",
       "2      kedar@gmail.com            iPhone 8         60000\n",
       "3  nirekshan@gmail.com  Kindle Paper White         20000\n",
       "4  nirekshan@gmail.com             Samsung         30000\n",
       "5     partha@gmail.com            iPhone 9         30000\n",
       "6     prasad@gmail.com  LG Washing Machine         25000\n",
       "7     prasad@gmail.com          hTC mobile         30000\n",
       "8     shahid@gmail.com                iPad         70000"
      ]
     },
     "execution_count": 32,
     "metadata": {},
     "output_type": "execute_result"
    }
   ],
   "source": [
    "result"
   ]
  },
  {
   "cell_type": "code",
   "execution_count": null,
   "id": "732d2b90",
   "metadata": {},
   "outputs": [],
   "source": [
    "# Customer wise product details"
   ]
  },
  {
   "cell_type": "code",
   "execution_count": 34,
   "id": "2b8f52a0",
   "metadata": {},
   "outputs": [],
   "source": [
    "grouped = df1.groupby(['Mail_Id'])['Product_Cost']"
   ]
  },
  {
   "cell_type": "code",
   "execution_count": 35,
   "id": "510127a5",
   "metadata": {},
   "outputs": [],
   "source": [
    "result = grouped.sum()"
   ]
  },
  {
   "cell_type": "code",
   "execution_count": 36,
   "id": "f7cfdfa0",
   "metadata": {},
   "outputs": [
    {
     "data": {
      "text/plain": [
       "Mail_Id\n",
       "Daniel@gmail.com       70000\n",
       "kedar@gmail.com        60000\n",
       "nirekshan@gmail.com    50000\n",
       "partha@gmail.com       30000\n",
       "prasad@gmail.com       55000\n",
       "shahid@gmail.com       70000\n",
       "Name: Product_Cost, dtype: int64"
      ]
     },
     "execution_count": 36,
     "metadata": {},
     "output_type": "execute_result"
    }
   ],
   "source": [
    "result"
   ]
  },
  {
   "cell_type": "code",
   "execution_count": 37,
   "id": "e11ca23e",
   "metadata": {},
   "outputs": [],
   "source": [
    "# Product wise whole sales\n",
    "\n",
    "grouped = df1.groupby(['Product_Name'])['Product_Cost']\n",
    "result = grouped.sum()"
   ]
  },
  {
   "cell_type": "code",
   "execution_count": 38,
   "id": "f295f13c",
   "metadata": {},
   "outputs": [
    {
     "data": {
      "text/plain": [
       "Product_Name\n",
       "Kindle Paper White    40000\n",
       "LG Washing Machine    25000\n",
       "Samsung               30000\n",
       "Sofa set              50000\n",
       "hTC mobile            30000\n",
       "iPad                  70000\n",
       "iPhone 8              60000\n",
       "iPhone 9              30000\n",
       "Name: Product_Cost, dtype: int64"
      ]
     },
     "execution_count": 38,
     "metadata": {},
     "output_type": "execute_result"
    }
   ],
   "source": [
    "result"
   ]
  },
  {
   "cell_type": "code",
   "execution_count": 39,
   "id": "bc5b3789",
   "metadata": {},
   "outputs": [],
   "source": [
    "# Day wise product sales\n",
    "\n",
    "grouped = df1.groupby(['Date'])['Product_Cost']\n",
    "result = grouped.sum()"
   ]
  },
  {
   "cell_type": "code",
   "execution_count": 40,
   "id": "2b60e1cf",
   "metadata": {},
   "outputs": [
    {
     "data": {
      "text/plain": [
       "Date\n",
       "09/01/2019     70000\n",
       "09/02/2019     25000\n",
       "09/06/2019    100000\n",
       "10/31/2019     10000\n",
       "11/02/2019     35000\n",
       "11/06/2019     80000\n",
       "11/10/2019     15000\n",
       "Name: Product_Cost, dtype: int64"
      ]
     },
     "execution_count": 40,
     "metadata": {},
     "output_type": "execute_result"
    }
   ],
   "source": [
    "result"
   ]
  },
  {
   "cell_type": "code",
   "execution_count": 43,
   "id": "b2af4690",
   "metadata": {},
   "outputs": [],
   "source": [
    "# Describe method\n",
    "\n",
    "df2 = df1['Product_Cost'].describe()"
   ]
  },
  {
   "cell_type": "code",
   "execution_count": 44,
   "id": "11105643",
   "metadata": {},
   "outputs": [
    {
     "data": {
      "text/plain": [
       "count       15.000000\n",
       "mean     22333.333333\n",
       "std      16888.993316\n",
       "min      10000.000000\n",
       "25%      10000.000000\n",
       "50%      20000.000000\n",
       "75%      22500.000000\n",
       "max      70000.000000\n",
       "Name: Product_Cost, dtype: float64"
      ]
     },
     "execution_count": 44,
     "metadata": {},
     "output_type": "execute_result"
    }
   ],
   "source": [
    "df2"
   ]
  },
  {
   "cell_type": "code",
   "execution_count": 47,
   "id": "4d5f950d",
   "metadata": {},
   "outputs": [],
   "source": [
    "d = {'Product_Cost':sum}"
   ]
  },
  {
   "cell_type": "code",
   "execution_count": 48,
   "id": "f8dd75ba",
   "metadata": {},
   "outputs": [],
   "source": [
    "cols = ['Date','Product_Name']"
   ]
  },
  {
   "cell_type": "code",
   "execution_count": 49,
   "id": "5e1c1881",
   "metadata": {},
   "outputs": [],
   "source": [
    "grouped = df1.groupby(cols)"
   ]
  },
  {
   "cell_type": "code",
   "execution_count": 50,
   "id": "aa63c59b",
   "metadata": {},
   "outputs": [],
   "source": [
    "result = grouped.agg(d)"
   ]
  },
  {
   "cell_type": "code",
   "execution_count": 51,
   "id": "47903ebb",
   "metadata": {},
   "outputs": [
    {
     "data": {
      "text/html": [
       "<div>\n",
       "<style scoped>\n",
       "    .dataframe tbody tr th:only-of-type {\n",
       "        vertical-align: middle;\n",
       "    }\n",
       "\n",
       "    .dataframe tbody tr th {\n",
       "        vertical-align: top;\n",
       "    }\n",
       "\n",
       "    .dataframe thead th {\n",
       "        text-align: right;\n",
       "    }\n",
       "</style>\n",
       "<table border=\"1\" class=\"dataframe\">\n",
       "  <thead>\n",
       "    <tr style=\"text-align: right;\">\n",
       "      <th></th>\n",
       "      <th></th>\n",
       "      <th>Product_Cost</th>\n",
       "    </tr>\n",
       "    <tr>\n",
       "      <th>Date</th>\n",
       "      <th>Product_Name</th>\n",
       "      <th></th>\n",
       "    </tr>\n",
       "  </thead>\n",
       "  <tbody>\n",
       "    <tr>\n",
       "      <th>09/01/2019</th>\n",
       "      <th>iPad</th>\n",
       "      <td>70000</td>\n",
       "    </tr>\n",
       "    <tr>\n",
       "      <th>09/02/2019</th>\n",
       "      <th>LG Washing Machine</th>\n",
       "      <td>25000</td>\n",
       "    </tr>\n",
       "    <tr>\n",
       "      <th rowspan=\"3\" valign=\"top\">09/06/2019</th>\n",
       "      <th>Kindle Paper White</th>\n",
       "      <td>30000</td>\n",
       "    </tr>\n",
       "    <tr>\n",
       "      <th>Sofa set</th>\n",
       "      <td>50000</td>\n",
       "    </tr>\n",
       "    <tr>\n",
       "      <th>iPhone 8</th>\n",
       "      <td>20000</td>\n",
       "    </tr>\n",
       "    <tr>\n",
       "      <th>10/31/2019</th>\n",
       "      <th>Kindle Paper White</th>\n",
       "      <td>10000</td>\n",
       "    </tr>\n",
       "    <tr>\n",
       "      <th rowspan=\"2\" valign=\"top\">11/02/2019</th>\n",
       "      <th>Samsung</th>\n",
       "      <td>20000</td>\n",
       "    </tr>\n",
       "    <tr>\n",
       "      <th>hTC mobile</th>\n",
       "      <td>15000</td>\n",
       "    </tr>\n",
       "    <tr>\n",
       "      <th rowspan=\"3\" valign=\"top\">11/06/2019</th>\n",
       "      <th>Samsung</th>\n",
       "      <td>10000</td>\n",
       "    </tr>\n",
       "    <tr>\n",
       "      <th>iPhone 8</th>\n",
       "      <td>40000</td>\n",
       "    </tr>\n",
       "    <tr>\n",
       "      <th>iPhone 9</th>\n",
       "      <td>30000</td>\n",
       "    </tr>\n",
       "    <tr>\n",
       "      <th>11/10/2019</th>\n",
       "      <th>hTC mobile</th>\n",
       "      <td>15000</td>\n",
       "    </tr>\n",
       "  </tbody>\n",
       "</table>\n",
       "</div>"
      ],
      "text/plain": [
       "                               Product_Cost\n",
       "Date       Product_Name                    \n",
       "09/01/2019 iPad                       70000\n",
       "09/02/2019 LG Washing Machine         25000\n",
       "09/06/2019 Kindle Paper White         30000\n",
       "           Sofa set                   50000\n",
       "           iPhone 8                   20000\n",
       "10/31/2019 Kindle Paper White         10000\n",
       "11/02/2019 Samsung                    20000\n",
       "           hTC mobile                 15000\n",
       "11/06/2019 Samsung                    10000\n",
       "           iPhone 8                   40000\n",
       "           iPhone 9                   30000\n",
       "11/10/2019 hTC mobile                 15000"
      ]
     },
     "execution_count": 51,
     "metadata": {},
     "output_type": "execute_result"
    }
   ],
   "source": [
    "result"
   ]
  },
  {
   "cell_type": "code",
   "execution_count": 52,
   "id": "60548937",
   "metadata": {},
   "outputs": [],
   "source": [
    "# Applying a single function to columns in groups\n",
    "\n",
    "d = {\n",
    "    'Product_Cost':'sum',\n",
    "    'Product_Name':'count'\n",
    "}\n",
    "\n",
    "cols = [\"Date\",\"Product_Name\"]\n",
    "\n",
    "grouped = df1.groupby(cols)\n",
    "\n"
   ]
  },
  {
   "cell_type": "code",
   "execution_count": 53,
   "id": "8b811915",
   "metadata": {},
   "outputs": [],
   "source": [
    "result = grouped.agg(d)"
   ]
  },
  {
   "cell_type": "code",
   "execution_count": 54,
   "id": "8eaa8c70",
   "metadata": {},
   "outputs": [
    {
     "data": {
      "text/html": [
       "<div>\n",
       "<style scoped>\n",
       "    .dataframe tbody tr th:only-of-type {\n",
       "        vertical-align: middle;\n",
       "    }\n",
       "\n",
       "    .dataframe tbody tr th {\n",
       "        vertical-align: top;\n",
       "    }\n",
       "\n",
       "    .dataframe thead th {\n",
       "        text-align: right;\n",
       "    }\n",
       "</style>\n",
       "<table border=\"1\" class=\"dataframe\">\n",
       "  <thead>\n",
       "    <tr style=\"text-align: right;\">\n",
       "      <th></th>\n",
       "      <th></th>\n",
       "      <th>Product_Cost</th>\n",
       "      <th>Product_Name</th>\n",
       "    </tr>\n",
       "    <tr>\n",
       "      <th>Date</th>\n",
       "      <th>Product_Name</th>\n",
       "      <th></th>\n",
       "      <th></th>\n",
       "    </tr>\n",
       "  </thead>\n",
       "  <tbody>\n",
       "    <tr>\n",
       "      <th>09/01/2019</th>\n",
       "      <th>iPad</th>\n",
       "      <td>70000</td>\n",
       "      <td>1</td>\n",
       "    </tr>\n",
       "    <tr>\n",
       "      <th>09/02/2019</th>\n",
       "      <th>LG Washing Machine</th>\n",
       "      <td>25000</td>\n",
       "      <td>1</td>\n",
       "    </tr>\n",
       "    <tr>\n",
       "      <th rowspan=\"3\" valign=\"top\">09/06/2019</th>\n",
       "      <th>Kindle Paper White</th>\n",
       "      <td>30000</td>\n",
       "      <td>2</td>\n",
       "    </tr>\n",
       "    <tr>\n",
       "      <th>Sofa set</th>\n",
       "      <td>50000</td>\n",
       "      <td>1</td>\n",
       "    </tr>\n",
       "    <tr>\n",
       "      <th>iPhone 8</th>\n",
       "      <td>20000</td>\n",
       "      <td>1</td>\n",
       "    </tr>\n",
       "    <tr>\n",
       "      <th>10/31/2019</th>\n",
       "      <th>Kindle Paper White</th>\n",
       "      <td>10000</td>\n",
       "      <td>1</td>\n",
       "    </tr>\n",
       "    <tr>\n",
       "      <th rowspan=\"2\" valign=\"top\">11/02/2019</th>\n",
       "      <th>Samsung</th>\n",
       "      <td>20000</td>\n",
       "      <td>2</td>\n",
       "    </tr>\n",
       "    <tr>\n",
       "      <th>hTC mobile</th>\n",
       "      <td>15000</td>\n",
       "      <td>1</td>\n",
       "    </tr>\n",
       "    <tr>\n",
       "      <th rowspan=\"3\" valign=\"top\">11/06/2019</th>\n",
       "      <th>Samsung</th>\n",
       "      <td>10000</td>\n",
       "      <td>1</td>\n",
       "    </tr>\n",
       "    <tr>\n",
       "      <th>iPhone 8</th>\n",
       "      <td>40000</td>\n",
       "      <td>2</td>\n",
       "    </tr>\n",
       "    <tr>\n",
       "      <th>iPhone 9</th>\n",
       "      <td>30000</td>\n",
       "      <td>1</td>\n",
       "    </tr>\n",
       "    <tr>\n",
       "      <th>11/10/2019</th>\n",
       "      <th>hTC mobile</th>\n",
       "      <td>15000</td>\n",
       "      <td>1</td>\n",
       "    </tr>\n",
       "  </tbody>\n",
       "</table>\n",
       "</div>"
      ],
      "text/plain": [
       "                               Product_Cost  Product_Name\n",
       "Date       Product_Name                                  \n",
       "09/01/2019 iPad                       70000             1\n",
       "09/02/2019 LG Washing Machine         25000             1\n",
       "09/06/2019 Kindle Paper White         30000             2\n",
       "           Sofa set                   50000             1\n",
       "           iPhone 8                   20000             1\n",
       "10/31/2019 Kindle Paper White         10000             1\n",
       "11/02/2019 Samsung                    20000             2\n",
       "           hTC mobile                 15000             1\n",
       "11/06/2019 Samsung                    10000             1\n",
       "           iPhone 8                   40000             2\n",
       "           iPhone 9                   30000             1\n",
       "11/10/2019 hTC mobile                 15000             1"
      ]
     },
     "execution_count": 54,
     "metadata": {},
     "output_type": "execute_result"
    }
   ],
   "source": [
    "result"
   ]
  },
  {
   "cell_type": "code",
   "execution_count": null,
   "id": "634ba7c8",
   "metadata": {},
   "outputs": [],
   "source": []
  },
  {
   "cell_type": "code",
   "execution_count": 55,
   "id": "5727b396",
   "metadata": {},
   "outputs": [],
   "source": [
    "d = {\n",
    "'Product_Cost': [min, max, sum]\n",
    "}"
   ]
  },
  {
   "cell_type": "code",
   "execution_count": 59,
   "id": "bd8dc7a6",
   "metadata": {},
   "outputs": [],
   "source": [
    "col = ['Product_Name','Product_Cost']\n",
    "\n",
    "grouped = df1.groupby(col)\n",
    "result = grouped.agg(d)"
   ]
  },
  {
   "cell_type": "code",
   "execution_count": 60,
   "id": "62343115",
   "metadata": {},
   "outputs": [
    {
     "data": {
      "text/html": [
       "<div>\n",
       "<style scoped>\n",
       "    .dataframe tbody tr th:only-of-type {\n",
       "        vertical-align: middle;\n",
       "    }\n",
       "\n",
       "    .dataframe tbody tr th {\n",
       "        vertical-align: top;\n",
       "    }\n",
       "\n",
       "    .dataframe thead tr th {\n",
       "        text-align: left;\n",
       "    }\n",
       "\n",
       "    .dataframe thead tr:last-of-type th {\n",
       "        text-align: right;\n",
       "    }\n",
       "</style>\n",
       "<table border=\"1\" class=\"dataframe\">\n",
       "  <thead>\n",
       "    <tr>\n",
       "      <th></th>\n",
       "      <th></th>\n",
       "      <th colspan=\"3\" halign=\"left\">Product_Cost</th>\n",
       "    </tr>\n",
       "    <tr>\n",
       "      <th></th>\n",
       "      <th></th>\n",
       "      <th>min</th>\n",
       "      <th>max</th>\n",
       "      <th>sum</th>\n",
       "    </tr>\n",
       "    <tr>\n",
       "      <th>Product_Name</th>\n",
       "      <th>Product_Cost</th>\n",
       "      <th></th>\n",
       "      <th></th>\n",
       "      <th></th>\n",
       "    </tr>\n",
       "  </thead>\n",
       "  <tbody>\n",
       "    <tr>\n",
       "      <th rowspan=\"2\" valign=\"top\">Kindle Paper White</th>\n",
       "      <th>10000</th>\n",
       "      <td>10000</td>\n",
       "      <td>10000</td>\n",
       "      <td>20000</td>\n",
       "    </tr>\n",
       "    <tr>\n",
       "      <th>20000</th>\n",
       "      <td>20000</td>\n",
       "      <td>20000</td>\n",
       "      <td>20000</td>\n",
       "    </tr>\n",
       "    <tr>\n",
       "      <th>LG Washing Machine</th>\n",
       "      <th>25000</th>\n",
       "      <td>25000</td>\n",
       "      <td>25000</td>\n",
       "      <td>25000</td>\n",
       "    </tr>\n",
       "    <tr>\n",
       "      <th>Samsung</th>\n",
       "      <th>10000</th>\n",
       "      <td>10000</td>\n",
       "      <td>10000</td>\n",
       "      <td>30000</td>\n",
       "    </tr>\n",
       "    <tr>\n",
       "      <th>Sofa set</th>\n",
       "      <th>50000</th>\n",
       "      <td>50000</td>\n",
       "      <td>50000</td>\n",
       "      <td>50000</td>\n",
       "    </tr>\n",
       "    <tr>\n",
       "      <th>hTC mobile</th>\n",
       "      <th>15000</th>\n",
       "      <td>15000</td>\n",
       "      <td>15000</td>\n",
       "      <td>30000</td>\n",
       "    </tr>\n",
       "    <tr>\n",
       "      <th>iPad</th>\n",
       "      <th>70000</th>\n",
       "      <td>70000</td>\n",
       "      <td>70000</td>\n",
       "      <td>70000</td>\n",
       "    </tr>\n",
       "    <tr>\n",
       "      <th>iPhone 8</th>\n",
       "      <th>20000</th>\n",
       "      <td>20000</td>\n",
       "      <td>20000</td>\n",
       "      <td>60000</td>\n",
       "    </tr>\n",
       "    <tr>\n",
       "      <th>iPhone 9</th>\n",
       "      <th>30000</th>\n",
       "      <td>30000</td>\n",
       "      <td>30000</td>\n",
       "      <td>30000</td>\n",
       "    </tr>\n",
       "  </tbody>\n",
       "</table>\n",
       "</div>"
      ],
      "text/plain": [
       "                                Product_Cost              \n",
       "                                         min    max    sum\n",
       "Product_Name       Product_Cost                           \n",
       "Kindle Paper White 10000               10000  10000  20000\n",
       "                   20000               20000  20000  20000\n",
       "LG Washing Machine 25000               25000  25000  25000\n",
       "Samsung            10000               10000  10000  30000\n",
       "Sofa set           50000               50000  50000  50000\n",
       "hTC mobile         15000               15000  15000  30000\n",
       "iPad               70000               70000  70000  70000\n",
       "iPhone 8           20000               20000  20000  60000\n",
       "iPhone 9           30000               30000  30000  30000"
      ]
     },
     "execution_count": 60,
     "metadata": {},
     "output_type": "execute_result"
    }
   ],
   "source": [
    "result"
   ]
  },
  {
   "cell_type": "code",
   "execution_count": null,
   "id": "d7708e59",
   "metadata": {},
   "outputs": [],
   "source": []
  },
  {
   "cell_type": "code",
   "execution_count": null,
   "id": "4229c05a",
   "metadata": {},
   "outputs": [],
   "source": []
  },
  {
   "cell_type": "code",
   "execution_count": null,
   "id": "2295cabc",
   "metadata": {},
   "outputs": [],
   "source": []
  },
  {
   "cell_type": "code",
   "execution_count": null,
   "id": "4267a52f",
   "metadata": {},
   "outputs": [],
   "source": []
  }
 ],
 "metadata": {
  "kernelspec": {
   "display_name": "Python 3 (ipykernel)",
   "language": "python",
   "name": "python3"
  },
  "language_info": {
   "codemirror_mode": {
    "name": "ipython",
    "version": 3
   },
   "file_extension": ".py",
   "mimetype": "text/x-python",
   "name": "python",
   "nbconvert_exporter": "python",
   "pygments_lexer": "ipython3",
   "version": "3.8.8"
  }
 },
 "nbformat": 4,
 "nbformat_minor": 5
}
