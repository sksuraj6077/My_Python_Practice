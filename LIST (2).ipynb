{
 "cells": [
  {
   "cell_type": "markdown",
   "id": "46510a13",
   "metadata": {},
   "source": [
    "## Python Data structures"
   ]
  },
  {
   "cell_type": "markdown",
   "id": "9e148759",
   "metadata": {},
   "source": [
    "+ If you want ed to store a group of individual objects in a single entity,then you should go for data structures."
   ]
  },
  {
   "cell_type": "markdown",
   "id": "a8014ea6",
   "metadata": {},
   "source": [
    "#### Sequence of elements\n",
    "#### list data structure\n",
    "#### In list insertion order is preserved or fixed\n",
    "#### Duplicate elements are allowed.\n",
    "#### List having mutable nature."
   ]
  },
  {
   "cell_type": "markdown",
   "id": "fb33e3b9",
   "metadata": {},
   "source": [
    "> list is a predefined class in python.\n",
    "> On ce if we create list object means internally object is creating for list\n",
    "class.\n"
   ]
  },
  {
   "cell_type": "code",
   "execution_count": 2,
   "id": "634397ab",
   "metadata": {},
   "outputs": [
    {
     "name": "stdout",
     "output_type": "stream",
     "text": [
      "[]\n",
      "<class 'list'>\n"
     ]
    }
   ],
   "source": [
    "#example\n",
    "\n",
    "a = []\n",
    "print(a)\n",
    "print(type(a))"
   ]
  },
  {
   "cell_type": "markdown",
   "id": "f509d572",
   "metadata": {},
   "source": [
    "+ Creating list with elements"
   ]
  },
  {
   "cell_type": "code",
   "execution_count": 3,
   "id": "19fafa10",
   "metadata": {},
   "outputs": [
    {
     "name": "stdout",
     "output_type": "stream",
     "text": [
      "[10, 20, 30, 40]\n"
     ]
    }
   ],
   "source": [
    "numbers = [10, 20, 30, 40]\n",
    "print(numbers)"
   ]
  },
  {
   "cell_type": "markdown",
   "id": "b5a2ec6a",
   "metadata": {},
   "source": [
    "+ Creating list with same type of elements with duplicates"
   ]
  },
  {
   "cell_type": "code",
   "execution_count": 5,
   "id": "90c974cb",
   "metadata": {},
   "outputs": [
    {
     "name": "stdout",
     "output_type": "stream",
     "text": [
      "[10, 20, 30, 40, 10, 20, 30, 40]\n"
     ]
    }
   ],
   "source": [
    "numbers = [10, 20, 30, 40, 10, 20, 30, 40]\n",
    "print(numbers)"
   ]
  },
  {
   "cell_type": "code",
   "execution_count": 7,
   "id": "9884be08",
   "metadata": {},
   "outputs": [
    {
     "name": "stdout",
     "output_type": "stream",
     "text": [
      "['Daniel ', 'Prasad', 'Ramesh', 'daniel']\n"
     ]
    }
   ],
   "source": [
    "names = [\"Daniel \", \"Prasad\", \"Ramesh\", \"daniel\"]\n",
    "print(names)"
   ]
  },
  {
   "cell_type": "markdown",
   "id": "7a282414",
   "metadata": {},
   "source": [
    "+ Creating list with different type of elements"
   ]
  },
  {
   "cell_type": "code",
   "execution_count": 9,
   "id": "e3a0a38b",
   "metadata": {},
   "outputs": [
    {
     "name": "stdout",
     "output_type": "stream",
     "text": [
      "[' Daniel ', 10, 35.9]\n"
     ]
    }
   ],
   "source": [
    "student_info = [\" Daniel \", 10, 35.9]\n",
    "print(student_info)"
   ]
  },
  {
   "cell_type": "code",
   "execution_count": 12,
   "id": "448f73e6",
   "metadata": {},
   "outputs": [],
   "source": [
    "\n",
    "r = range(10)"
   ]
  },
  {
   "cell_type": "code",
   "execution_count": 13,
   "id": "e23e6b03",
   "metadata": {},
   "outputs": [],
   "source": [
    "t = list(r)"
   ]
  },
  {
   "cell_type": "markdown",
   "id": "cdf1f262",
   "metadata": {},
   "source": [
    "+ Creating list by using list( p ) function"
   ]
  },
  {
   "cell_type": "code",
   "execution_count": 15,
   "id": "93564f88",
   "metadata": {},
   "outputs": [
    {
     "data": {
      "text/plain": [
       "[0, 1, 2, 3, 4, 5, 6, 7, 8, 9]"
      ]
     },
     "execution_count": 15,
     "metadata": {},
     "output_type": "execute_result"
    }
   ],
   "source": [
    "t"
   ]
  },
  {
   "cell_type": "markdown",
   "id": "b4acd907",
   "metadata": {},
   "source": [
    "+ List having mutable nature"
   ]
  },
  {
   "cell_type": "code",
   "execution_count": 20,
   "id": "9dbba815",
   "metadata": {},
   "outputs": [
    {
     "name": "stdout",
     "output_type": "stream",
     "text": [
      "[1, 2, 3, 4, 5]\n",
      "Before modifying a[0] : 1\n",
      "After modifying a[0] :  20\n",
      "[20, 2, 3, 4, 5]\n"
     ]
    }
   ],
   "source": [
    "a= [1, 2, 3, 4, 5]\n",
    "print(a)\n",
    "print(\"Before modifying a[0] :\", a[0])\n",
    "\n",
    "a[0]=20\n",
    "print(\"After modifying a[0] : \",a[0])\n",
    "print(a)"
   ]
  },
  {
   "cell_type": "code",
   "execution_count": 32,
   "id": "92819ec8",
   "metadata": {},
   "outputs": [
    {
     "data": {
      "text/plain": [
       "[5, 4, 3, 2, 20]"
      ]
     },
     "execution_count": 32,
     "metadata": {},
     "output_type": "execute_result"
    }
   ],
   "source": [
    "a[::-1]"
   ]
  },
  {
   "cell_type": "code",
   "execution_count": 33,
   "id": "7fcd84de",
   "metadata": {},
   "outputs": [
    {
     "name": "stdout",
     "output_type": "stream",
     "text": [
      "['__add__', '__class__', '__contains__', '__delattr__', '__delitem__', '__dir__', '__doc__', '__eq__', '__format__', '__ge__', '__getattribute__', '__getitem__', '__gt__', '__hash__', '__iadd__', '__imul__', '__init__', '__init_subclass__', '__iter__', '__le__', '__len__', '__lt__', '__mul__', '__ne__', '__new__', '__reduce__', '__reduce_ex__', '__repr__', '__reversed__', '__rmul__', '__setattr__', '__setitem__', '__sizeof__', '__str__', '__subclasshook__', 'append', 'clear', 'copy', 'count', 'extend', 'index', 'insert', 'pop', 'remove', 'reverse', 'sort']\n"
     ]
    }
   ],
   "source": [
    "print(dir(list))"
   ]
  },
  {
   "cell_type": "code",
   "execution_count": 34,
   "id": "87effe40",
   "metadata": {},
   "outputs": [
    {
     "name": "stdout",
     "output_type": "stream",
     "text": [
      "3\n",
      "1\n"
     ]
    }
   ],
   "source": [
    "n = [1, 2, 3, 4, 5, 5, 5, 3]\n",
    "print(n.count(5))\n",
    "print(n.count(2))"
   ]
  },
  {
   "cell_type": "code",
   "execution_count": 35,
   "id": "c6cc22e3",
   "metadata": {},
   "outputs": [
    {
     "name": "stdout",
     "output_type": "stream",
     "text": [
      "[10, 20, 30]\n"
     ]
    }
   ],
   "source": [
    "a=[]\n",
    "a.append(10)\n",
    "a.append(20)\n",
    "a.append(30)\n",
    "print(a)"
   ]
  },
  {
   "cell_type": "code",
   "execution_count": 36,
   "id": "de57df85",
   "metadata": {},
   "outputs": [
    {
     "name": "stdout",
     "output_type": "stream",
     "text": [
      "[76, 20, 30, 40, 50]\n"
     ]
    }
   ],
   "source": [
    "a=[ 20, 30, 40, 50]\n",
    "a.insert(0,76)\n",
    "print(a)"
   ]
  },
  {
   "cell_type": "markdown",
   "id": "3e78db7a",
   "metadata": {},
   "source": [
    "## 9.4. remove(p) method:\n",
    "+ remove p is a predefine d method in list class\n",
    "+ We should access this method by using list object.\n",
    "+ By using this method we can remove value from list."
   ]
  },
  {
   "cell_type": "code",
   "execution_count": 37,
   "id": "5d4691cb",
   "metadata": {},
   "outputs": [
    {
     "name": "stdout",
     "output_type": "stream",
     "text": [
      "[20, 30]\n"
     ]
    }
   ],
   "source": [
    "# example\n",
    "\n",
    "a=[10 , 20, 30]\n",
    "a.remove(10)\n",
    "print(a)"
   ]
  },
  {
   "cell_type": "code",
   "execution_count": 38,
   "id": "a256bc47",
   "metadata": {},
   "outputs": [],
   "source": [
    "a.reverse()"
   ]
  },
  {
   "cell_type": "code",
   "execution_count": 40,
   "id": "d44b7aea",
   "metadata": {},
   "outputs": [],
   "source": [
    "b = [11,12,13,14,15,16,17,18,19]"
   ]
  },
  {
   "cell_type": "code",
   "execution_count": 41,
   "id": "4e676d7f",
   "metadata": {},
   "outputs": [
    {
     "name": "stdout",
     "output_type": "stream",
     "text": [
      "[19, 18, 17, 16, 15, 14, 13, 12, 11]\n"
     ]
    }
   ],
   "source": [
    "b.reverse()\n",
    "print(b)"
   ]
  },
  {
   "cell_type": "code",
   "execution_count": 42,
   "id": "531fc923",
   "metadata": {},
   "outputs": [
    {
     "data": {
      "text/plain": [
       "[19, 18, 17, 16, 15, 14, 13, 12, 11]"
      ]
     },
     "execution_count": 42,
     "metadata": {},
     "output_type": "execute_result"
    }
   ],
   "source": [
    "b"
   ]
  },
  {
   "cell_type": "code",
   "execution_count": 43,
   "id": "9da33c2e",
   "metadata": {},
   "outputs": [],
   "source": [
    "b.sort()"
   ]
  },
  {
   "cell_type": "code",
   "execution_count": 44,
   "id": "3267cdd1",
   "metadata": {},
   "outputs": [
    {
     "data": {
      "text/plain": [
       "[11, 12, 13, 14, 15, 16, 17, 18, 19]"
      ]
     },
     "execution_count": 44,
     "metadata": {},
     "output_type": "execute_result"
    }
   ],
   "source": [
    "b"
   ]
  },
  {
   "cell_type": "code",
   "execution_count": null,
   "id": "f88cd98c",
   "metadata": {},
   "outputs": [],
   "source": []
  },
  {
   "cell_type": "code",
   "execution_count": 47,
   "id": "5250854b",
   "metadata": {},
   "outputs": [],
   "source": [
    "names = ['Daniel', 'Ramesh', 'Arjun']"
   ]
  },
  {
   "cell_type": "code",
   "execution_count": 48,
   "id": "5c6f4e1f",
   "metadata": {},
   "outputs": [],
   "source": [
    "names.sort()"
   ]
  },
  {
   "cell_type": "code",
   "execution_count": 49,
   "id": "43b38403",
   "metadata": {},
   "outputs": [
    {
     "data": {
      "text/plain": [
       "['Arjun', 'Daniel', 'Ramesh']"
      ]
     },
     "execution_count": 49,
     "metadata": {},
     "output_type": "execute_result"
    }
   ],
   "source": [
    "names"
   ]
  },
  {
   "cell_type": "markdown",
   "id": "fcf70221",
   "metadata": {},
   "source": [
    "+  (+)operator concatenates the lists"
   ]
  },
  {
   "cell_type": "code",
   "execution_count": 51,
   "id": "283d124d",
   "metadata": {},
   "outputs": [
    {
     "name": "stdout",
     "output_type": "stream",
     "text": [
      "[10, 20, 30, 40, 50, 60]\n"
     ]
    }
   ],
   "source": [
    "a = [10 , 20 , 30]\n",
    "b = [40 , 50 , 60]\n",
    "c = a + b\n",
    "print(c)"
   ]
  },
  {
   "cell_type": "code",
   "execution_count": 53,
   "id": "cff50d79",
   "metadata": {},
   "outputs": [
    {
     "data": {
      "text/plain": [
       "[10, 20, 30, 10, 20, 30]"
      ]
     },
     "execution_count": 53,
     "metadata": {},
     "output_type": "execute_result"
    }
   ],
   "source": [
    "a*2"
   ]
  },
  {
   "cell_type": "code",
   "execution_count": 54,
   "id": "c837fae1",
   "metadata": {},
   "outputs": [
    {
     "data": {
      "text/plain": [
       "True"
      ]
     },
     "execution_count": 54,
     "metadata": {},
     "output_type": "execute_result"
    }
   ],
   "source": [
    "D = [91,68,12,61,84]\n",
    "84 in D\n"
   ]
  },
  {
   "cell_type": "code",
   "execution_count": 55,
   "id": "558cb796",
   "metadata": {},
   "outputs": [
    {
     "data": {
      "text/plain": [
       "True"
      ]
     },
     "execution_count": 55,
     "metadata": {},
     "output_type": "execute_result"
    }
   ],
   "source": [
    "12 in D"
   ]
  },
  {
   "cell_type": "code",
   "execution_count": 57,
   "id": "c977eb11",
   "metadata": {},
   "outputs": [
    {
     "data": {
      "text/plain": [
       "False"
      ]
     },
     "execution_count": 57,
     "metadata": {},
     "output_type": "execute_result"
    }
   ],
   "source": [
    "12 not in D"
   ]
  },
  {
   "cell_type": "code",
   "execution_count": 58,
   "id": "b40a3eb8",
   "metadata": {},
   "outputs": [
    {
     "data": {
      "text/plain": [
       "True"
      ]
     },
     "execution_count": 58,
     "metadata": {},
     "output_type": "execute_result"
    }
   ],
   "source": [
    "20 not in D"
   ]
  },
  {
   "cell_type": "markdown",
   "id": "0b8482a8",
   "metadata": {},
   "source": [
    "# List Comprehension"
   ]
  },
  {
   "cell_type": "markdown",
   "id": "2221dc8d",
   "metadata": {},
   "source": [
    "+ Syntax\n",
    "\n",
    "> list = [expression for item1 in iterable1 if statement]"
   ]
  },
  {
   "cell_type": "code",
   "execution_count": 61,
   "id": "da9888a9",
   "metadata": {},
   "outputs": [],
   "source": [
    "# example\n",
    "\n",
    "values = [10,20,30]\n",
    "result = [value+2 for value in values]"
   ]
  },
  {
   "cell_type": "code",
   "execution_count": 62,
   "id": "bd3b124f",
   "metadata": {},
   "outputs": [
    {
     "data": {
      "text/plain": [
       "[12, 22, 32]"
      ]
     },
     "execution_count": 62,
     "metadata": {},
     "output_type": "execute_result"
    }
   ],
   "source": [
    "result"
   ]
  },
  {
   "cell_type": "code",
   "execution_count": 64,
   "id": "7c6a495b",
   "metadata": {},
   "outputs": [
    {
     "name": "stdout",
     "output_type": "stream",
     "text": [
      "[30, 60, 90]\n"
     ]
    }
   ],
   "source": [
    "# example2\n",
    "\n",
    "values = [10,20,30]\n",
    "\n",
    "result = [value*3 for value in values]\n",
    "print(result)"
   ]
  },
  {
   "cell_type": "code",
   "execution_count": 71,
   "id": "31d0c732",
   "metadata": {},
   "outputs": [],
   "source": [
    "# example3\n",
    "num = range(10,100,10)\n",
    "values = list(num)\n",
    "result = [value for value in values if value >= 50]"
   ]
  },
  {
   "cell_type": "code",
   "execution_count": 72,
   "id": "2083b6af",
   "metadata": {},
   "outputs": [
    {
     "data": {
      "text/plain": [
       "[50, 60, 70, 80, 90]"
      ]
     },
     "execution_count": 72,
     "metadata": {},
     "output_type": "execute_result"
    }
   ],
   "source": [
    "result"
   ]
  },
  {
   "cell_type": "markdown",
   "id": "3f338208",
   "metadata": {},
   "source": [
    "### square numbers from 1 to 10 by using list comprehension"
   ]
  },
  {
   "cell_type": "code",
   "execution_count": 80,
   "id": "a6d218f3",
   "metadata": {},
   "outputs": [],
   "source": [
    "values = range(1,11)\n",
    "numbers = list(values)\n",
    "squares = [value**2 for value in values if value >= 5]"
   ]
  },
  {
   "cell_type": "code",
   "execution_count": 81,
   "id": "3e826e3f",
   "metadata": {},
   "outputs": [
    {
     "data": {
      "text/plain": [
       "[25, 36, 49, 64, 81, 100]"
      ]
     },
     "execution_count": 81,
     "metadata": {},
     "output_type": "execute_result"
    }
   ],
   "source": [
    "squares"
   ]
  }
 ],
 "metadata": {
  "kernelspec": {
   "display_name": "Python 3 (ipykernel)",
   "language": "python",
   "name": "python3"
  },
  "language_info": {
   "codemirror_mode": {
    "name": "ipython",
    "version": 3
   },
   "file_extension": ".py",
   "mimetype": "text/x-python",
   "name": "python",
   "nbconvert_exporter": "python",
   "pygments_lexer": "ipython3",
   "version": "3.8.8"
  }
 },
 "nbformat": 4,
 "nbformat_minor": 5
}
